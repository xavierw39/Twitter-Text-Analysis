{
  "nbformat": 4,
  "nbformat_minor": 0,
  "metadata": {
    "colab": {
      "provenance": [],
      "collapsed_sections": [
        "ma9jxo3EBYwW",
        "bwwq9Rrm5Jab",
        "w465mLI-WUoW",
        "67CWxMe_c6Yh",
        "FBNPNXBGAxXy",
        "kHM_tlTYqSGx"
      ],
      "include_colab_link": true
    },
    "kernelspec": {
      "name": "python3",
      "display_name": "Python 3"
    },
    "language_info": {
      "name": "python"
    }
  },
  "cells": [
    {
      "cell_type": "markdown",
      "metadata": {
        "id": "view-in-github",
        "colab_type": "text"
      },
      "source": [
        "<a href=\"https://colab.research.google.com/github/xavierw39/Twitter-Text-Analysis/blob/main/API_Data_Extraction.ipynb\" target=\"_parent\"><img src=\"https://colab.research.google.com/assets/colab-badge.svg\" alt=\"Open In Colab\"/></a>"
      ]
    },
    {
      "cell_type": "markdown",
      "source": [
        "## Introduction\n",
        "### Background\n",
        "On April 14, 2022, Elon Musk, the founder of Tesla and SpaceX, announced his intention to acquire Twitter. The acquisition was settled six months later. In these months, many incidents have happened that reflected the confrontations and negotiations between the social platform and the business magnate.\n",
        "\n",
        "### Project Introduction\n",
        "This project uses Newsdata API to extract from the web about 5000 Twitter-related news articles from May to November 2022. This project includes:  \n",
        "* a short description of API data extraction process\n",
        "* text processing \n",
        "* EDA on the news text, and \n",
        "* the use of several NLP methods aimed to identify the trending news topics and the buzzwords regarding Twitter"
      ],
      "metadata": {
        "id": "B8s9_bl-VB57"
      }
    },
    {"cell_type": "markdown",
     "source":"This notebook is the **first** part of the project.",
     "metadata": {
       "id": "WHcaSGmZVfvg"
    }
    },
    {
      "cell_type": "markdown",
      "source": [
        "## API News Extraction\n",
        "This project collects its news article data mainly through [Newsdata.io](https://newsdata.io/). There are also many other great news APIs that you can try out such as News API, Bloomberg API, and Guardian API, etc. \n",
        "\n",
        "Since I have tried both News API and Newsdata.io, here are the sample code of API extraction for both APIs."
      ],
      "metadata": {
        "id": "WHcaSGmZVfvh"
      }
    },
    {
      "cell_type": "markdown",
      "source": [
        "### News API\n",
        "News API provides two ways to extract news, one is to extract top headline news, which allow you to specify parameters like categories, language, and sources, but not other conditions such as time. The another one is to extract all news which we can specify more parameters.\n",
        "\n",
        "See more about News API documentation [here](https://newsapi.org/docs/endpoints). "
      ],
      "metadata": {
        "id": "qoV9-h8WWsnv"
      }
    },
    {
      "cell_type": "code",
      "execution_count": null,
      "metadata": {
        "id": "ywDDM53DtqGp"
      },
      "outputs": [],
      "source": [
        "# pip install newsapi\n",
        "from newsapi import NewsApiClient"
      ]
    },
    {
      "cell_type": "code",
      "source": [
        "# Init\n",
        "newsapi = NewsApiClient(api_key='your_newsapi_key')\n",
        "\n",
        "# /v2/top-headlines\n",
        "top_headlines = newsapi.get_top_headlines(q='twitter',\n",
        "                                          #sources='bbc-news,the-verge',\n",
        "                                          category='business',\n",
        "                                          language='en',\n",
        "                                          country='us')\n"
      ],
      "metadata": {
        "id": "ukDvpMCMt63D"
      },
      "execution_count": null,
      "outputs": []
    },
    {
      "cell_type": "code",
      "source": [
        "# /v2/everything\n",
        "sample_article = newsapi.get_everything(q='twitter',\n",
        "                                      #sources='bbc-news,the-verge',\n",
        "                                      #domains='bbc.co.uk,techcrunch.com',\n",
        "                                      from_param='2022-10-04',\n",
        "                                      to='2022-11-03',\n",
        "                                      language='en',\n",
        "                                      sort_by='relevancy')\n"
      ],
      "metadata": {
        "id": "zc59Q5EUyFQL"
      },
      "execution_count": null,
      "outputs": []
    },
    {
      "cell_type": "code",
      "source": [
        "from pprint import pprint"
      ],
      "metadata": {
        "id": "qzqrFP5AydO1"
      },
      "execution_count": null,
      "outputs": []
    },
    {
      "cell_type": "code",
      "source": [
        "len(sample_article['articles'])"
      ],
      "metadata": {
        "colab": {
          "base_uri": "https://localhost:8080/"
        },
        "id": "TpM_gvJT4buM",
        "outputId": "695662a8-9fe0-4abc-b02d-184c911714cb"
      },
      "execution_count": null,
      "outputs": [
        {
          "output_type": "execute_result",
          "data": {
            "text/plain": [
              "100"
            ]
          },
          "metadata": {},
          "execution_count": 33
        }
      ]
    },
    {
      "cell_type": "code",
      "source": [
        "import pandas as pd\n",
        "sample_df = pd.DataFrame(sample_article['articles']) # save results into df"
      ],
      "metadata": {
        "id": "jlyIwH9g59El"
      },
      "execution_count": null,
      "outputs": []
    },
    {
      "cell_type": "code",
      "source": [
        "sample_df = sample_df[sample_df['title'].str.contains('Twitter')] # filter news titles only containing \"Twitter\""
      ],
      "metadata": {
        "id": "KJAvNjcqArxW"
      },
      "execution_count": null,
      "outputs": []
    },
    {
      "cell_type": "code",
      "source": [
        "sample_df.columns # shows the columns of the extracted data"
      ],
      "metadata": {
        "colab": {
          "base_uri": "https://localhost:8080/"
        },
        "id": "DMFhBPGZCn2P",
        "outputId": "cad85146-22cd-4006-d48b-3a947175be9d"
      },
      "execution_count": null,
      "outputs": [
        {
          "output_type": "execute_result",
          "data": {
            "text/plain": [
              "Index(['source', 'author', 'title', 'description', 'url', 'urlToImage',\n",
              "       'publishedAt', 'content'],\n",
              "      dtype='object')"
            ]
          },
          "metadata": {},
          "execution_count": 45
        }
      ]
    },
    {
      "cell_type": "markdown",
      "source": [
        "### Newsdata.io\n",
        "For APIs, we can either use their own API module (newsdataapi) or requests module. Here I show you both methods."
      ],
      "metadata": {
        "id": "Px83s17gerIe"
      }
    },
    {
      "cell_type": "markdown",
      "source": [
        "#### Newsdataapi"
      ],
      "metadata": {
        "id": "O4PTFQoOw0LG"
      }
    },
    {
      "cell_type": "code",
      "source": [
        "# !pip install newsdataapi"
      ],
      "metadata": {
        "id": "weW9stoBemXy"
      },
      "execution_count": 1,
      "outputs": []
    },
    {
      "cell_type": "code",
      "source": [
        "from newsdataapi import NewsDataApiClient\n",
        "# API key authorization, Initialize the client with your API key\n",
        "\n",
        "api = NewsDataApiClient(apikey=\"your_newsdataio_key\")\n",
        "\n",
        "# You can pass empty or with request parameters {ex. (country = \"us\")}\n",
        "\n",
        "response = api.news_api(q = 'twitter', country = 'us', language = 'en', category = 'business', page = 1)"
      ],
      "metadata": {
        "id": "XxudfOmWe0LG"
      },
      "execution_count": null,
      "outputs": []
    },
    {
      "cell_type": "markdown",
      "source": [
        "#### Requests Module"
      ],
      "metadata": {
        "id": "ma9jxo3EBYwW"
      }
    },
    {
      "cell_type": "code",
      "source": [
        "import requests\n",
        "url = \"https://newsdata.io/api/1/archive?apikey=your_newsdataio_key&\\\n",
        "q=twitter&country=us&language=en&category=business&from_date=2022-04-14&to_date=2022-11-05\"\n",
        "response = requests.request(\"GET\", url)"
      ],
      "metadata": {
        "id": "kogq4aRFigh0"
      },
      "execution_count": null,
      "outputs": []
    },
    {
      "cell_type": "code",
      "source": [
        "from pprint import pprint\n",
        "import json"
      ],
      "metadata": {
        "id": "Bm3Fgr6JjF8f"
      },
      "execution_count": null,
      "outputs": []
    },
    {
      "cell_type": "code",
      "source": [
        "response.json()['results'][1]"
      ],
      "metadata": {
        "colab": {
          "base_uri": "https://localhost:8080/"
        },
        "id": "ITspKKPicIl8",
        "outputId": "079a1877-1dc7-4410-c83e-96d3911f6ed1"
      },
      "execution_count": null,
      "outputs": [
        {
          "output_type": "execute_result",
          "data": {
            "text/plain": [
              "{'title': 'Twitter-Elon Musk Timeline: Pay-for-Verification Appears in App, Dorsey Speaks - CNET',\n",
              " 'link': 'https://news.google.com/__i/rss/rd/articles/CBMidGh0dHBzOi8vd3d3LmNuZXQuY29tL25ld3Mvc29jaWFsLW1lZGlhL3R3aXR0ZXItZWxvbi1tdXNrLXRpbWVsaW5lLXBheS1mb3ItdmVyaWZpY2F0aW9uLWFwcGVhcnMtaW4tYXBwLWRvcnNleS1zcGVha3Mv0gEA?oc=5',\n",
              " 'keywords': None,\n",
              " 'creator': None,\n",
              " 'video_url': None,\n",
              " 'description': \"Twitter-Elon Musk Timeline: Pay-for-Verification Appears in App, Dorsey Speaks\\xa0\\xa0CNETElon Musk blasts AOC: 'Not everything AOC says is 100% accurate'\\xa0\\xa0Fox BusinessElon Musk's Response to AOC's Idiotic Attack Is Perfect | ROUNDTABLE | Rubin Report\\xa0\\xa0The Rubin ReportDoes anyone really think Elon Musk cares about supporting creatives on Twitter?\\xa0\\xa0The GuardianWhich Scottish politicians will wear Elon Musk's blue tick of shame?\\xa0\\xa0HeraldScotlandView Full Coverage on Google News\",\n",
              " 'content': None,\n",
              " 'pubDate': '2022-11-05 23:22:00',\n",
              " 'image_url': None,\n",
              " 'source_id': 'google',\n",
              " 'country': ['united states of america'],\n",
              " 'category': ['business'],\n",
              " 'language': 'english'}"
            ]
          },
          "metadata": {},
          "execution_count": 138
        }
      ]
    },
    {
      "cell_type": "markdown",
      "source": [
        "#### Save extracted data to json file"
      ],
      "metadata": {
        "id": "pKJruQ-RxO0u"
      }
    },
    {
      "cell_type": "markdown",
      "source": [
        "**Page parameter**\n",
        "\n",
        "Since each page has a limit of 100 articles, specifying \"page\" allow us to extract articles from multiple pages."
      ],
      "metadata": {
        "id": "HaVFJIk7j7cc"
      }
    },
    {
      "cell_type": "code",
      "source": [
        "data = []\n",
        "new_results = True\n",
        "page = 1\n",
        "while new_results:\n",
        "  url = \"https://newsdata.io/api/1/archive?apikey=your_newsdataio_key&\\\n",
        "q=twitter&country=us&language=en&category=business&from_date=2022-04-14&to_date=2022-11-05&page=\" + str(page)\n",
        "  response_API = requests.request(\"GET\", url).json()\n",
        "  new_results = response_API.get('results', [])\n",
        "  data.extend(new_results)\n",
        "  page += 1"
      ],
      "metadata": {
        "id": "Z9aVa6TwRDbO"
      },
      "execution_count": null,
      "outputs": []
    },
    {
      "cell_type": "code",
      "source": [
        "with open('data0524_1105.json', 'w') as f:\n",
        "    json.dump(data, f) \n",
        "# save extracted articles in a json file."
      ],
      "metadata": {
        "id": "Fl6alxX1k-is"
      },
      "execution_count": null,
      "outputs": []
    },
    {
      "cell_type": "markdown",
      "source": [
        "**Disclaimer**: Depending on the API plans you choose, some parameters (e.g. from_date, to_date) may not be available in your plan. This is NOT an advertisement of any APIs mentioned in the notebook, and since these APIs are not cheap, I highly recommend people to carefully make their choices based on financial capability and necessities."
      ],
      "metadata": {
        "id": "8vXcJ_a-bouJ"
      }
    },
    {
      "cell_type": "markdown",
      "source": [
        "Read json file into dataframe"
      ],
      "metadata": {
        "id": "ffDMDBhrdlXL"
      }
    },
    {
      "cell_type": "code",
      "source": [
        "import json\n",
        "news_js = open('data0524_1105.json').readlines()\n",
        "news_lst = []\n",
        "for line in news_js:\n",
        "  news_lst.extend(json.loads(line))"
      ],
      "metadata": {
        "id": "1TQ8N57Wlt2S"
      },
      "execution_count": null,
      "outputs": []
    },
    {
      "cell_type": "code",
      "source": [
        "len(news_lst)"
      ],
      "metadata": {
        "colab": {
          "base_uri": "https://localhost:8080/"
        },
        "id": "o-zA3COt3XA9",
        "outputId": "70a510e4-a093-4b14-b42f-ef29548a265e"
      },
      "execution_count": null,
      "outputs": [
        {
          "output_type": "execute_result",
          "data": {
            "text/plain": [
              "1032"
            ]
          },
          "metadata": {},
          "execution_count": 166
        }
      ]
    },
    {
      "cell_type": "code",
      "source": [
        "import pandas as pd\n",
        "import numpy as np\n",
        "news_df = pd.DataFrame(news_lst)"
      ],
      "metadata": {
        "id": "ZiuaepV31MLX"
      },
      "execution_count": null,
      "outputs": []
    },
    {
      "cell_type": "code",
      "source": [
        "news_df.head()"
      ],
      "metadata": {
        "colab": {
          "base_uri": "https://localhost:8080/",
          "height": 687
        },
        "id": "j6knmQW83Pht",
        "outputId": "be3b28cb-3e64-4d50-9926-08c4d60b36cf"
      },
      "execution_count": null,
      "outputs": [
        {
          "output_type": "execute_result",
          "data": {
            "text/plain": [
              "                                               title  \\\n",
              "0  Elon Musk Says Twitter’s Had A Massive Revenue...   \n",
              "1  Twitter layoffs begin as Elon Musk admits ‘mas...   \n",
              "2      Inside Twitter's chaotic short-notice layoffs   \n",
              "3  Twitter spent years building its staff. Under ...   \n",
              "4  Elon Musk's Twitter begins laying off employee...   \n",
              "\n",
              "                                                link  \\\n",
              "0  https://deadline.com/2022/11/elon-musk-twitter...   \n",
              "1  https://www.theguardian.com/technology/2022/no...   \n",
              "2  https://www.nbcnews.com/tech/tech-news/twitter...   \n",
              "3  https://www.latimes.com/business/story/2022-11...   \n",
              "4  https://news.google.com/__i/rss/rd/articles/CB...   \n",
              "\n",
              "                                            keywords  \\\n",
              "0  [Advertising, Breaking News, Social Media, act...   \n",
              "1                   [Twitter, Elon Musk, Technology]   \n",
              "2                                               None   \n",
              "3                                               None   \n",
              "4                                               None   \n",
              "\n",
              "                                             creator video_url  \\\n",
              "0                                         [jillg366]      None   \n",
              "1  [Dominic Rushe and Gloria Oladipo in New York ...      None   \n",
              "2             [Daniel Arkin and Lora Kolodny,  CNBC]      None   \n",
              "3                                [Samantha Masunaga]      None   \n",
              "4                                               None      None   \n",
              "\n",
              "                                         description  \\\n",
              "0  As Twitter employees face mass layoffs startin...   \n",
              "1  Billionaire blames financial woes on activist ...   \n",
              "2  Twitter was plunged into turmoil Friday after ...   \n",
              "3  Elon Musk reportedly plans to lay off as much ...   \n",
              "4  Elon Musk's Twitter begins laying off employee...   \n",
              "\n",
              "                                             content              pubDate  \\\n",
              "0                                               None  2022-11-04 16:11:22   \n",
              "1                                               None  2022-11-04 16:00:12   \n",
              "2  Twitter was plunged into turmoil Friday after ...  2022-11-04 15:49:18   \n",
              "3  Hiring is challenging for every industry, but ...  2022-11-04 15:48:44   \n",
              "4                                               None  2022-11-04 15:32:00   \n",
              "\n",
              "                                           image_url    source_id  \\\n",
              "0  https://deadline.com/wp-content/uploads/2022/1...     deadline   \n",
              "1  https://i.guim.co.uk/img/media/7cba98d05719d33...  theguardian   \n",
              "2  https://media-cldnry.s-nbcnews.com/image/uploa...      nbcnews   \n",
              "3  https://ca-times.brightspotcdn.com/dims4/defau...      latimes   \n",
              "4                                               None       google   \n",
              "\n",
              "                      country    category language  \n",
              "0  [united states of america]  [business]  english  \n",
              "1  [united states of america]  [business]  english  \n",
              "2  [united states of america]  [business]  english  \n",
              "3  [united states of america]  [business]  english  \n",
              "4  [united states of america]  [business]  english  "
            ],
            "text/html": [
              "\n",
              "  <div id=\"df-1a69a578-c34d-401d-9837-a967e515f042\">\n",
              "    <div class=\"colab-df-container\">\n",
              "      <div>\n",
              "<style scoped>\n",
              "    .dataframe tbody tr th:only-of-type {\n",
              "        vertical-align: middle;\n",
              "    }\n",
              "\n",
              "    .dataframe tbody tr th {\n",
              "        vertical-align: top;\n",
              "    }\n",
              "\n",
              "    .dataframe thead th {\n",
              "        text-align: right;\n",
              "    }\n",
              "</style>\n",
              "<table border=\"1\" class=\"dataframe\">\n",
              "  <thead>\n",
              "    <tr style=\"text-align: right;\">\n",
              "      <th></th>\n",
              "      <th>title</th>\n",
              "      <th>link</th>\n",
              "      <th>keywords</th>\n",
              "      <th>creator</th>\n",
              "      <th>video_url</th>\n",
              "      <th>description</th>\n",
              "      <th>content</th>\n",
              "      <th>pubDate</th>\n",
              "      <th>image_url</th>\n",
              "      <th>source_id</th>\n",
              "      <th>country</th>\n",
              "      <th>category</th>\n",
              "      <th>language</th>\n",
              "    </tr>\n",
              "  </thead>\n",
              "  <tbody>\n",
              "    <tr>\n",
              "      <th>0</th>\n",
              "      <td>Elon Musk Says Twitter’s Had A Massive Revenue...</td>\n",
              "      <td>https://deadline.com/2022/11/elon-musk-twitter...</td>\n",
              "      <td>[Advertising, Breaking News, Social Media, act...</td>\n",
              "      <td>[jillg366]</td>\n",
              "      <td>None</td>\n",
              "      <td>As Twitter employees face mass layoffs startin...</td>\n",
              "      <td>None</td>\n",
              "      <td>2022-11-04 16:11:22</td>\n",
              "      <td>https://deadline.com/wp-content/uploads/2022/1...</td>\n",
              "      <td>deadline</td>\n",
              "      <td>[united states of america]</td>\n",
              "      <td>[business]</td>\n",
              "      <td>english</td>\n",
              "    </tr>\n",
              "    <tr>\n",
              "      <th>1</th>\n",
              "      <td>Twitter layoffs begin as Elon Musk admits ‘mas...</td>\n",
              "      <td>https://www.theguardian.com/technology/2022/no...</td>\n",
              "      <td>[Twitter, Elon Musk, Technology]</td>\n",
              "      <td>[Dominic Rushe and Gloria Oladipo in New York ...</td>\n",
              "      <td>None</td>\n",
              "      <td>Billionaire blames financial woes on activist ...</td>\n",
              "      <td>None</td>\n",
              "      <td>2022-11-04 16:00:12</td>\n",
              "      <td>https://i.guim.co.uk/img/media/7cba98d05719d33...</td>\n",
              "      <td>theguardian</td>\n",
              "      <td>[united states of america]</td>\n",
              "      <td>[business]</td>\n",
              "      <td>english</td>\n",
              "    </tr>\n",
              "    <tr>\n",
              "      <th>2</th>\n",
              "      <td>Inside Twitter's chaotic short-notice layoffs</td>\n",
              "      <td>https://www.nbcnews.com/tech/tech-news/twitter...</td>\n",
              "      <td>None</td>\n",
              "      <td>[Daniel Arkin and Lora Kolodny,  CNBC]</td>\n",
              "      <td>None</td>\n",
              "      <td>Twitter was plunged into turmoil Friday after ...</td>\n",
              "      <td>Twitter was plunged into turmoil Friday after ...</td>\n",
              "      <td>2022-11-04 15:49:18</td>\n",
              "      <td>https://media-cldnry.s-nbcnews.com/image/uploa...</td>\n",
              "      <td>nbcnews</td>\n",
              "      <td>[united states of america]</td>\n",
              "      <td>[business]</td>\n",
              "      <td>english</td>\n",
              "    </tr>\n",
              "    <tr>\n",
              "      <th>3</th>\n",
              "      <td>Twitter spent years building its staff. Under ...</td>\n",
              "      <td>https://www.latimes.com/business/story/2022-11...</td>\n",
              "      <td>None</td>\n",
              "      <td>[Samantha Masunaga]</td>\n",
              "      <td>None</td>\n",
              "      <td>Elon Musk reportedly plans to lay off as much ...</td>\n",
              "      <td>Hiring is challenging for every industry, but ...</td>\n",
              "      <td>2022-11-04 15:48:44</td>\n",
              "      <td>https://ca-times.brightspotcdn.com/dims4/defau...</td>\n",
              "      <td>latimes</td>\n",
              "      <td>[united states of america]</td>\n",
              "      <td>[business]</td>\n",
              "      <td>english</td>\n",
              "    </tr>\n",
              "    <tr>\n",
              "      <th>4</th>\n",
              "      <td>Elon Musk's Twitter begins laying off employee...</td>\n",
              "      <td>https://news.google.com/__i/rss/rd/articles/CB...</td>\n",
              "      <td>None</td>\n",
              "      <td>None</td>\n",
              "      <td>None</td>\n",
              "      <td>Elon Musk's Twitter begins laying off employee...</td>\n",
              "      <td>None</td>\n",
              "      <td>2022-11-04 15:32:00</td>\n",
              "      <td>None</td>\n",
              "      <td>google</td>\n",
              "      <td>[united states of america]</td>\n",
              "      <td>[business]</td>\n",
              "      <td>english</td>\n",
              "    </tr>\n",
              "  </tbody>\n",
              "</table>\n",
              "</div>\n",
              "      <button class=\"colab-df-convert\" onclick=\"convertToInteractive('df-1a69a578-c34d-401d-9837-a967e515f042')\"\n",
              "              title=\"Convert this dataframe to an interactive table.\"\n",
              "              style=\"display:none;\">\n",
              "        \n",
              "  <svg xmlns=\"http://www.w3.org/2000/svg\" height=\"24px\"viewBox=\"0 0 24 24\"\n",
              "       width=\"24px\">\n",
              "    <path d=\"M0 0h24v24H0V0z\" fill=\"none\"/>\n",
              "    <path d=\"M18.56 5.44l.94 2.06.94-2.06 2.06-.94-2.06-.94-.94-2.06-.94 2.06-2.06.94zm-11 1L8.5 8.5l.94-2.06 2.06-.94-2.06-.94L8.5 2.5l-.94 2.06-2.06.94zm10 10l.94 2.06.94-2.06 2.06-.94-2.06-.94-.94-2.06-.94 2.06-2.06.94z\"/><path d=\"M17.41 7.96l-1.37-1.37c-.4-.4-.92-.59-1.43-.59-.52 0-1.04.2-1.43.59L10.3 9.45l-7.72 7.72c-.78.78-.78 2.05 0 2.83L4 21.41c.39.39.9.59 1.41.59.51 0 1.02-.2 1.41-.59l7.78-7.78 2.81-2.81c.8-.78.8-2.07 0-2.86zM5.41 20L4 18.59l7.72-7.72 1.47 1.35L5.41 20z\"/>\n",
              "  </svg>\n",
              "      </button>\n",
              "      \n",
              "  <style>\n",
              "    .colab-df-container {\n",
              "      display:flex;\n",
              "      flex-wrap:wrap;\n",
              "      gap: 12px;\n",
              "    }\n",
              "\n",
              "    .colab-df-convert {\n",
              "      background-color: #E8F0FE;\n",
              "      border: none;\n",
              "      border-radius: 50%;\n",
              "      cursor: pointer;\n",
              "      display: none;\n",
              "      fill: #1967D2;\n",
              "      height: 32px;\n",
              "      padding: 0 0 0 0;\n",
              "      width: 32px;\n",
              "    }\n",
              "\n",
              "    .colab-df-convert:hover {\n",
              "      background-color: #E2EBFA;\n",
              "      box-shadow: 0px 1px 2px rgba(60, 64, 67, 0.3), 0px 1px 3px 1px rgba(60, 64, 67, 0.15);\n",
              "      fill: #174EA6;\n",
              "    }\n",
              "\n",
              "    [theme=dark] .colab-df-convert {\n",
              "      background-color: #3B4455;\n",
              "      fill: #D2E3FC;\n",
              "    }\n",
              "\n",
              "    [theme=dark] .colab-df-convert:hover {\n",
              "      background-color: #434B5C;\n",
              "      box-shadow: 0px 1px 3px 1px rgba(0, 0, 0, 0.15);\n",
              "      filter: drop-shadow(0px 1px 2px rgba(0, 0, 0, 0.3));\n",
              "      fill: #FFFFFF;\n",
              "    }\n",
              "  </style>\n",
              "\n",
              "      <script>\n",
              "        const buttonEl =\n",
              "          document.querySelector('#df-1a69a578-c34d-401d-9837-a967e515f042 button.colab-df-convert');\n",
              "        buttonEl.style.display =\n",
              "          google.colab.kernel.accessAllowed ? 'block' : 'none';\n",
              "\n",
              "        async function convertToInteractive(key) {\n",
              "          const element = document.querySelector('#df-1a69a578-c34d-401d-9837-a967e515f042');\n",
              "          const dataTable =\n",
              "            await google.colab.kernel.invokeFunction('convertToInteractive',\n",
              "                                                     [key], {});\n",
              "          if (!dataTable) return;\n",
              "\n",
              "          const docLinkHtml = 'Like what you see? Visit the ' +\n",
              "            '<a target=\"_blank\" href=https://colab.research.google.com/notebooks/data_table.ipynb>data table notebook</a>'\n",
              "            + ' to learn more about interactive tables.';\n",
              "          element.innerHTML = '';\n",
              "          dataTable['output_type'] = 'display_data';\n",
              "          await google.colab.output.renderOutput(dataTable, element);\n",
              "          const docLink = document.createElement('div');\n",
              "          docLink.innerHTML = docLinkHtml;\n",
              "          element.appendChild(docLink);\n",
              "        }\n",
              "      </script>\n",
              "    </div>\n",
              "  </div>\n",
              "  "
            ]
          },
          "metadata": {},
          "execution_count": 4
        }
      ]
    },
    {
      "cell_type": "markdown",
      "source": [
        "In this sample code, we extracted around 1000 news articles using newsdata.io. In the next section we will read a larger dataset to kick off our text analysis."
      ],
      "metadata": {
        "id": "WI4NGTuIe5tY"
      }
    }
  ]
}
