{
 "cells": [
  {
   "cell_type": "code",
   "execution_count": 2,
   "id": "40813830",
   "metadata": {},
   "outputs": [],
   "source": [
    "import pandas as pd\n",
    "import numpy as np\n",
    "import matplotlib.pyplot as plt\n",
    "import seaborn as sns\n",
    "sns.set_style('whitegrid')\n",
    "%matplotlib inline"
   ]
  },
  {
   "cell_type": "code",
   "execution_count": 2,
   "id": "f2aa0496",
   "metadata": {},
   "outputs": [
    {
     "data": {
      "text/html": [
       "<div>\n",
       "<style scoped>\n",
       "    .dataframe tbody tr th:only-of-type {\n",
       "        vertical-align: middle;\n",
       "    }\n",
       "\n",
       "    .dataframe tbody tr th {\n",
       "        vertical-align: top;\n",
       "    }\n",
       "\n",
       "    .dataframe thead th {\n",
       "        text-align: right;\n",
       "    }\n",
       "</style>\n",
       "<table border=\"1\" class=\"dataframe\">\n",
       "  <thead>\n",
       "    <tr style=\"text-align: right;\">\n",
       "      <th></th>\n",
       "      <th>TITLE</th>\n",
       "      <th>ARTICLE LINK</th>\n",
       "      <th>PUBLISHED DATE (GMT)</th>\n",
       "      <th>AUTHOR</th>\n",
       "      <th>PUBLISHER</th>\n",
       "      <th>COUNTRY</th>\n",
       "      <th>CATEGORY</th>\n",
       "      <th>LANGUAGE</th>\n",
       "      <th>DESCRIPTION</th>\n",
       "      <th>IMAGE URL</th>\n",
       "      <th>VIDEO URL</th>\n",
       "    </tr>\n",
       "  </thead>\n",
       "  <tbody>\n",
       "    <tr>\n",
       "      <th>0</th>\n",
       "      <td>\"Mark Cuban Calls Elon Musk 'Judge And Jury' O...</td>\n",
       "      <td>https://www.benzinga.com/news/22/11/29885272/m...</td>\n",
       "      <td>2022-11-29 12:36:03</td>\n",
       "      <td>NaN</td>\n",
       "      <td>Benzinga</td>\n",
       "      <td>United States Of America</td>\n",
       "      <td>Top</td>\n",
       "      <td>English</td>\n",
       "      <td>Elon Musk-led Twitter lacks transparency, acco...</td>\n",
       "      <td>NaN</td>\n",
       "      <td>NaN</td>\n",
       "    </tr>\n",
       "    <tr>\n",
       "      <th>1</th>\n",
       "      <td>\"Twitter's 'Big Bang' — Elon Musk's 'General A...</td>\n",
       "      <td>https://www.benzinga.com/news/22/11/29881698/t...</td>\n",
       "      <td>2022-11-29 11:35:43</td>\n",
       "      <td>NaN</td>\n",
       "      <td>Benzinga</td>\n",
       "      <td>United States Of America</td>\n",
       "      <td>Top</td>\n",
       "      <td>English</td>\n",
       "      <td>Twitter is going through a rollercoaster ride....</td>\n",
       "      <td>NaN</td>\n",
       "      <td>NaN</td>\n",
       "    </tr>\n",
       "    <tr>\n",
       "      <th>2</th>\n",
       "      <td>\"Twitter owner Musk signals new 'war' against ...</td>\n",
       "      <td>https://techxplore.com/news/2022-11-twitter-ow...</td>\n",
       "      <td>2022-11-29 09:39:18</td>\n",
       "      <td>NaN</td>\n",
       "      <td>Phys.org</td>\n",
       "      <td>United States Of America</td>\n",
       "      <td>Technology</td>\n",
       "      <td>English</td>\n",
       "      <td>Twitter owner Elon Musk on Monday opened fire ...</td>\n",
       "      <td>NaN</td>\n",
       "      <td>NaN</td>\n",
       "    </tr>\n",
       "    <tr>\n",
       "      <th>3</th>\n",
       "      <td>\"Chinese police are now conducting random stop...</td>\n",
       "      <td>https://www.businessinsider.com/chinese-police...</td>\n",
       "      <td>2022-11-29 08:30:16</td>\n",
       "      <td>NaN</td>\n",
       "      <td>Business Insider</td>\n",
       "      <td>United States Of America</td>\n",
       "      <td>Top</td>\n",
       "      <td>English</td>\n",
       "      <td>Certain foreign social media apps are banned i...</td>\n",
       "      <td>NaN</td>\n",
       "      <td>NaN</td>\n",
       "    </tr>\n",
       "    <tr>\n",
       "      <th>4</th>\n",
       "      <td>\"Twitter Downloads Surge In China Amid Protest...</td>\n",
       "      <td>https://www.benzinga.com/news/22/11/29882264/t...</td>\n",
       "      <td>2022-11-29 07:48:17</td>\n",
       "      <td>NaN</td>\n",
       "      <td>Benzinga</td>\n",
       "      <td>United States Of America</td>\n",
       "      <td>Top</td>\n",
       "      <td>English</td>\n",
       "      <td>read more</td>\n",
       "      <td>NaN</td>\n",
       "      <td>NaN</td>\n",
       "    </tr>\n",
       "  </tbody>\n",
       "</table>\n",
       "</div>"
      ],
      "text/plain": [
       "                                               TITLE  \\\n",
       "0  \"Mark Cuban Calls Elon Musk 'Judge And Jury' O...   \n",
       "1  \"Twitter's 'Big Bang' — Elon Musk's 'General A...   \n",
       "2  \"Twitter owner Musk signals new 'war' against ...   \n",
       "3  \"Chinese police are now conducting random stop...   \n",
       "4  \"Twitter Downloads Surge In China Amid Protest...   \n",
       "\n",
       "                                        ARTICLE LINK PUBLISHED DATE (GMT)  \\\n",
       "0  https://www.benzinga.com/news/22/11/29885272/m...  2022-11-29 12:36:03   \n",
       "1  https://www.benzinga.com/news/22/11/29881698/t...  2022-11-29 11:35:43   \n",
       "2  https://techxplore.com/news/2022-11-twitter-ow...  2022-11-29 09:39:18   \n",
       "3  https://www.businessinsider.com/chinese-police...  2022-11-29 08:30:16   \n",
       "4  https://www.benzinga.com/news/22/11/29882264/t...  2022-11-29 07:48:17   \n",
       "\n",
       "  AUTHOR         PUBLISHER                   COUNTRY    CATEGORY LANGUAGE  \\\n",
       "0    NaN          Benzinga  United States Of America         Top  English   \n",
       "1    NaN          Benzinga  United States Of America         Top  English   \n",
       "2    NaN          Phys.org  United States Of America  Technology  English   \n",
       "3    NaN  Business Insider  United States Of America         Top  English   \n",
       "4    NaN          Benzinga  United States Of America         Top  English   \n",
       "\n",
       "                                         DESCRIPTION  IMAGE URL VIDEO URL  \n",
       "0  Elon Musk-led Twitter lacks transparency, acco...        NaN       NaN  \n",
       "1  Twitter is going through a rollercoaster ride....        NaN       NaN  \n",
       "2  Twitter owner Elon Musk on Monday opened fire ...        NaN       NaN  \n",
       "3  Certain foreign social media apps are banned i...        NaN       NaN  \n",
       "4                                          read more        NaN       NaN  "
      ]
     },
     "execution_count": 2,
     "metadata": {},
     "output_type": "execute_result"
    }
   ],
   "source": [
    "records = pd.read_csv('Newsdata_Records.csv')\n",
    "records.head()"
   ]
  },
  {
   "cell_type": "code",
   "execution_count": 3,
   "id": "c850eb36",
   "metadata": {},
   "outputs": [
    {
     "name": "stdout",
     "output_type": "stream",
     "text": [
      "<class 'pandas.core.frame.DataFrame'>\n",
      "RangeIndex: 5348 entries, 0 to 5347\n",
      "Data columns (total 11 columns):\n",
      " #   Column                Non-Null Count  Dtype  \n",
      "---  ------                --------------  -----  \n",
      " 0   TITLE                 5348 non-null   object \n",
      " 1   ARTICLE LINK          5348 non-null   object \n",
      " 2   PUBLISHED DATE (GMT)  5348 non-null   object \n",
      " 3   AUTHOR                2939 non-null   object \n",
      " 4   PUBLISHER             5348 non-null   object \n",
      " 5   COUNTRY               5348 non-null   object \n",
      " 6   CATEGORY              5348 non-null   object \n",
      " 7   LANGUAGE              5348 non-null   object \n",
      " 8   DESCRIPTION           4894 non-null   object \n",
      " 9   IMAGE URL             0 non-null      float64\n",
      " 10  VIDEO URL             60 non-null     object \n",
      "dtypes: float64(1), object(10)\n",
      "memory usage: 459.7+ KB\n"
     ]
    }
   ],
   "source": [
    "records.info()"
   ]
  },
  {
   "cell_type": "code",
   "execution_count": 7,
   "id": "2870e5bb",
   "metadata": {},
   "outputs": [
    {
     "data": {
      "text/plain": [
       "TITLE                      0\n",
       "ARTICLE LINK               0\n",
       "PUBLISHED DATE (GMT)       0\n",
       "AUTHOR                  2409\n",
       "PUBLISHER                  0\n",
       "COUNTRY                    0\n",
       "CATEGORY                   0\n",
       "LANGUAGE                   0\n",
       "DESCRIPTION              454\n",
       "IMAGE URL               5348\n",
       "VIDEO URL               5288\n",
       "dtype: int64"
      ]
     },
     "execution_count": 7,
     "metadata": {},
     "output_type": "execute_result"
    }
   ],
   "source": [
    "# check rate of NAs\n",
    "np.sum(records.isna())"
   ]
  },
  {
   "cell_type": "code",
   "execution_count": 10,
   "id": "317e1030",
   "metadata": {},
   "outputs": [
    {
     "data": {
      "text/plain": [
       "TITLE                     0.00\n",
       "ARTICLE LINK              0.00\n",
       "PUBLISHED DATE (GMT)      0.00\n",
       "AUTHOR                   45.04\n",
       "PUBLISHER                 0.00\n",
       "COUNTRY                   0.00\n",
       "CATEGORY                  0.00\n",
       "LANGUAGE                  0.00\n",
       "DESCRIPTION               8.49\n",
       "IMAGE URL               100.00\n",
       "VIDEO URL                98.88\n",
       "dtype: float64"
      ]
     },
     "execution_count": 10,
     "metadata": {},
     "output_type": "execute_result"
    }
   ],
   "source": [
    "na_perc = round(np.sum(records.isna()) / len(records) *100, 2)\n",
    "na_perc\n",
    "# image url and video url contains too many nas, and it's not related to our analysis, we can drop them"
   ]
  },
  {
   "cell_type": "code",
   "execution_count": 14,
   "id": "da31f12f",
   "metadata": {},
   "outputs": [],
   "source": [
    "# drop the columns\n",
    "records = records.drop(['IMAGE URL', 'VIDEO URL'], axis = 1)"
   ]
  },
  {
   "cell_type": "code",
   "execution_count": 16,
   "id": "fc7bd93f",
   "metadata": {},
   "outputs": [],
   "source": [
    "proper_colname = [colname.title() for colname in records.columns]\n",
    "records.columns = proper_colname"
   ]
  },
  {
   "cell_type": "code",
   "execution_count": 20,
   "id": "5d662d57",
   "metadata": {},
   "outputs": [
    {
     "data": {
      "text/html": [
       "<div>\n",
       "<style scoped>\n",
       "    .dataframe tbody tr th:only-of-type {\n",
       "        vertical-align: middle;\n",
       "    }\n",
       "\n",
       "    .dataframe tbody tr th {\n",
       "        vertical-align: top;\n",
       "    }\n",
       "\n",
       "    .dataframe thead th {\n",
       "        text-align: right;\n",
       "    }\n",
       "</style>\n",
       "<table border=\"1\" class=\"dataframe\">\n",
       "  <thead>\n",
       "    <tr style=\"text-align: right;\">\n",
       "      <th></th>\n",
       "      <th>Title</th>\n",
       "      <th>Article Link</th>\n",
       "      <th>Published Date (Gmt)</th>\n",
       "      <th>Author</th>\n",
       "      <th>Publisher</th>\n",
       "      <th>Country</th>\n",
       "      <th>Category</th>\n",
       "      <th>Language</th>\n",
       "      <th>Description</th>\n",
       "    </tr>\n",
       "  </thead>\n",
       "  <tbody>\n",
       "    <tr>\n",
       "      <th>0</th>\n",
       "      <td>\"Mark Cuban Calls Elon Musk 'Judge And Jury' O...</td>\n",
       "      <td>https://www.benzinga.com/news/22/11/29885272/m...</td>\n",
       "      <td>2022-11-29 12:36:03</td>\n",
       "      <td>NaN</td>\n",
       "      <td>Benzinga</td>\n",
       "      <td>United States Of America</td>\n",
       "      <td>Top</td>\n",
       "      <td>English</td>\n",
       "      <td>Elon Musk-led Twitter lacks transparency, acco...</td>\n",
       "    </tr>\n",
       "    <tr>\n",
       "      <th>1</th>\n",
       "      <td>\"Twitter's 'Big Bang' — Elon Musk's 'General A...</td>\n",
       "      <td>https://www.benzinga.com/news/22/11/29881698/t...</td>\n",
       "      <td>2022-11-29 11:35:43</td>\n",
       "      <td>NaN</td>\n",
       "      <td>Benzinga</td>\n",
       "      <td>United States Of America</td>\n",
       "      <td>Top</td>\n",
       "      <td>English</td>\n",
       "      <td>Twitter is going through a rollercoaster ride....</td>\n",
       "    </tr>\n",
       "    <tr>\n",
       "      <th>2</th>\n",
       "      <td>\"Twitter owner Musk signals new 'war' against ...</td>\n",
       "      <td>https://techxplore.com/news/2022-11-twitter-ow...</td>\n",
       "      <td>2022-11-29 09:39:18</td>\n",
       "      <td>NaN</td>\n",
       "      <td>Phys.org</td>\n",
       "      <td>United States Of America</td>\n",
       "      <td>Technology</td>\n",
       "      <td>English</td>\n",
       "      <td>Twitter owner Elon Musk on Monday opened fire ...</td>\n",
       "    </tr>\n",
       "    <tr>\n",
       "      <th>3</th>\n",
       "      <td>\"Chinese police are now conducting random stop...</td>\n",
       "      <td>https://www.businessinsider.com/chinese-police...</td>\n",
       "      <td>2022-11-29 08:30:16</td>\n",
       "      <td>NaN</td>\n",
       "      <td>Business Insider</td>\n",
       "      <td>United States Of America</td>\n",
       "      <td>Top</td>\n",
       "      <td>English</td>\n",
       "      <td>Certain foreign social media apps are banned i...</td>\n",
       "    </tr>\n",
       "    <tr>\n",
       "      <th>4</th>\n",
       "      <td>\"Twitter Downloads Surge In China Amid Protest...</td>\n",
       "      <td>https://www.benzinga.com/news/22/11/29882264/t...</td>\n",
       "      <td>2022-11-29 07:48:17</td>\n",
       "      <td>NaN</td>\n",
       "      <td>Benzinga</td>\n",
       "      <td>United States Of America</td>\n",
       "      <td>Top</td>\n",
       "      <td>English</td>\n",
       "      <td>read more</td>\n",
       "    </tr>\n",
       "  </tbody>\n",
       "</table>\n",
       "</div>"
      ],
      "text/plain": [
       "                                               Title  \\\n",
       "0  \"Mark Cuban Calls Elon Musk 'Judge And Jury' O...   \n",
       "1  \"Twitter's 'Big Bang' — Elon Musk's 'General A...   \n",
       "2  \"Twitter owner Musk signals new 'war' against ...   \n",
       "3  \"Chinese police are now conducting random stop...   \n",
       "4  \"Twitter Downloads Surge In China Amid Protest...   \n",
       "\n",
       "                                        Article Link Published Date (Gmt)  \\\n",
       "0  https://www.benzinga.com/news/22/11/29885272/m...  2022-11-29 12:36:03   \n",
       "1  https://www.benzinga.com/news/22/11/29881698/t...  2022-11-29 11:35:43   \n",
       "2  https://techxplore.com/news/2022-11-twitter-ow...  2022-11-29 09:39:18   \n",
       "3  https://www.businessinsider.com/chinese-police...  2022-11-29 08:30:16   \n",
       "4  https://www.benzinga.com/news/22/11/29882264/t...  2022-11-29 07:48:17   \n",
       "\n",
       "  Author         Publisher                   Country    Category Language  \\\n",
       "0    NaN          Benzinga  United States Of America         Top  English   \n",
       "1    NaN          Benzinga  United States Of America         Top  English   \n",
       "2    NaN          Phys.org  United States Of America  Technology  English   \n",
       "3    NaN  Business Insider  United States Of America         Top  English   \n",
       "4    NaN          Benzinga  United States Of America         Top  English   \n",
       "\n",
       "                                         Description  \n",
       "0  Elon Musk-led Twitter lacks transparency, acco...  \n",
       "1  Twitter is going through a rollercoaster ride....  \n",
       "2  Twitter owner Elon Musk on Monday opened fire ...  \n",
       "3  Certain foreign social media apps are banned i...  \n",
       "4                                          read more  "
      ]
     },
     "execution_count": 20,
     "metadata": {},
     "output_type": "execute_result"
    }
   ],
   "source": [
    "records.head()"
   ]
  },
  {
   "cell_type": "code",
   "execution_count": 21,
   "id": "1d1fbc09",
   "metadata": {},
   "outputs": [
    {
     "data": {
      "text/plain": [
       "AP                                                       81\n",
       "Thomas Barrabi                                           49\n",
       "Hayley Hynes                                             47\n",
       "The Canadian Press                                       46\n",
       "Reuters                                                  45\n",
       "                                                         ..\n",
       "Matt Wilstein                                             1\n",
       "Brian C. Keegan                                           1\n",
       "Dan Milmo Global technology editor and Johana Bhuiyan     1\n",
       "Chris Williams                                            1\n",
       "Jessica Corbett                                           1\n",
       "Name: Author, Length: 882, dtype: int64"
      ]
     },
     "execution_count": 21,
     "metadata": {},
     "output_type": "execute_result"
    }
   ],
   "source": [
    "records.Author.value_counts()"
   ]
  },
  {
   "cell_type": "code",
   "execution_count": 28,
   "id": "079540c4",
   "metadata": {},
   "outputs": [
    {
     "data": {
      "text/html": [
       "<div>\n",
       "<style scoped>\n",
       "    .dataframe tbody tr th:only-of-type {\n",
       "        vertical-align: middle;\n",
       "    }\n",
       "\n",
       "    .dataframe tbody tr th {\n",
       "        vertical-align: top;\n",
       "    }\n",
       "\n",
       "    .dataframe thead th {\n",
       "        text-align: right;\n",
       "    }\n",
       "</style>\n",
       "<table border=\"1\" class=\"dataframe\">\n",
       "  <thead>\n",
       "    <tr style=\"text-align: right;\">\n",
       "      <th></th>\n",
       "      <th>Title</th>\n",
       "      <th>Article Link</th>\n",
       "      <th>Published Date (Gmt)</th>\n",
       "      <th>Author</th>\n",
       "      <th>Publisher</th>\n",
       "      <th>Country</th>\n",
       "      <th>Category</th>\n",
       "      <th>Language</th>\n",
       "      <th>Description</th>\n",
       "    </tr>\n",
       "  </thead>\n",
       "  <tbody>\n",
       "    <tr>\n",
       "      <th>0</th>\n",
       "      <td>\"Mark Cuban Calls Elon Musk 'Judge And Jury' O...</td>\n",
       "      <td>https://www.benzinga.com/news/22/11/29885272/m...</td>\n",
       "      <td>2022-11-29 12:36:03</td>\n",
       "      <td>Unknown</td>\n",
       "      <td>Benzinga</td>\n",
       "      <td>United States Of America</td>\n",
       "      <td>Top</td>\n",
       "      <td>English</td>\n",
       "      <td>Elon Musk-led Twitter lacks transparency, acco...</td>\n",
       "    </tr>\n",
       "    <tr>\n",
       "      <th>1</th>\n",
       "      <td>\"Twitter's 'Big Bang' — Elon Musk's 'General A...</td>\n",
       "      <td>https://www.benzinga.com/news/22/11/29881698/t...</td>\n",
       "      <td>2022-11-29 11:35:43</td>\n",
       "      <td>Unknown</td>\n",
       "      <td>Benzinga</td>\n",
       "      <td>United States Of America</td>\n",
       "      <td>Top</td>\n",
       "      <td>English</td>\n",
       "      <td>Twitter is going through a rollercoaster ride....</td>\n",
       "    </tr>\n",
       "    <tr>\n",
       "      <th>2</th>\n",
       "      <td>\"Twitter owner Musk signals new 'war' against ...</td>\n",
       "      <td>https://techxplore.com/news/2022-11-twitter-ow...</td>\n",
       "      <td>2022-11-29 09:39:18</td>\n",
       "      <td>Unknown</td>\n",
       "      <td>Phys.org</td>\n",
       "      <td>United States Of America</td>\n",
       "      <td>Technology</td>\n",
       "      <td>English</td>\n",
       "      <td>Twitter owner Elon Musk on Monday opened fire ...</td>\n",
       "    </tr>\n",
       "    <tr>\n",
       "      <th>3</th>\n",
       "      <td>\"Chinese police are now conducting random stop...</td>\n",
       "      <td>https://www.businessinsider.com/chinese-police...</td>\n",
       "      <td>2022-11-29 08:30:16</td>\n",
       "      <td>Unknown</td>\n",
       "      <td>Business Insider</td>\n",
       "      <td>United States Of America</td>\n",
       "      <td>Top</td>\n",
       "      <td>English</td>\n",
       "      <td>Certain foreign social media apps are banned i...</td>\n",
       "    </tr>\n",
       "    <tr>\n",
       "      <th>4</th>\n",
       "      <td>\"Twitter Downloads Surge In China Amid Protest...</td>\n",
       "      <td>https://www.benzinga.com/news/22/11/29882264/t...</td>\n",
       "      <td>2022-11-29 07:48:17</td>\n",
       "      <td>Unknown</td>\n",
       "      <td>Benzinga</td>\n",
       "      <td>United States Of America</td>\n",
       "      <td>Top</td>\n",
       "      <td>English</td>\n",
       "      <td>read more</td>\n",
       "    </tr>\n",
       "  </tbody>\n",
       "</table>\n",
       "</div>"
      ],
      "text/plain": [
       "                                               Title  \\\n",
       "0  \"Mark Cuban Calls Elon Musk 'Judge And Jury' O...   \n",
       "1  \"Twitter's 'Big Bang' — Elon Musk's 'General A...   \n",
       "2  \"Twitter owner Musk signals new 'war' against ...   \n",
       "3  \"Chinese police are now conducting random stop...   \n",
       "4  \"Twitter Downloads Surge In China Amid Protest...   \n",
       "\n",
       "                                        Article Link Published Date (Gmt)  \\\n",
       "0  https://www.benzinga.com/news/22/11/29885272/m...  2022-11-29 12:36:03   \n",
       "1  https://www.benzinga.com/news/22/11/29881698/t...  2022-11-29 11:35:43   \n",
       "2  https://techxplore.com/news/2022-11-twitter-ow...  2022-11-29 09:39:18   \n",
       "3  https://www.businessinsider.com/chinese-police...  2022-11-29 08:30:16   \n",
       "4  https://www.benzinga.com/news/22/11/29882264/t...  2022-11-29 07:48:17   \n",
       "\n",
       "    Author         Publisher                   Country    Category Language  \\\n",
       "0  Unknown          Benzinga  United States Of America         Top  English   \n",
       "1  Unknown          Benzinga  United States Of America         Top  English   \n",
       "2  Unknown          Phys.org  United States Of America  Technology  English   \n",
       "3  Unknown  Business Insider  United States Of America         Top  English   \n",
       "4  Unknown          Benzinga  United States Of America         Top  English   \n",
       "\n",
       "                                         Description  \n",
       "0  Elon Musk-led Twitter lacks transparency, acco...  \n",
       "1  Twitter is going through a rollercoaster ride....  \n",
       "2  Twitter owner Elon Musk on Monday opened fire ...  \n",
       "3  Certain foreign social media apps are banned i...  \n",
       "4                                          read more  "
      ]
     },
     "execution_count": 28,
     "metadata": {},
     "output_type": "execute_result"
    }
   ],
   "source": [
    "# fill NaN entries in Author with \"Unknown\"\n",
    "records.loc[records.Author.isna(), 'Author'] = 'Unknown'\n",
    "records.head()"
   ]
  },
  {
   "cell_type": "code",
   "execution_count": 32,
   "id": "00dadc4e",
   "metadata": {},
   "outputs": [
    {
     "data": {
      "text/plain": [
       "<matplotlib.axes._subplots.AxesSubplot at 0x254995b6358>"
      ]
     },
     "execution_count": 32,
     "metadata": {},
     "output_type": "execute_result"
    },
    {
     "data": {
      "image/png": "[encoded data removed]",
      "text/plain": [
       "<Figure size 640x480 with 1 Axes>"
      ]
     },
     "metadata": {},
     "output_type": "display_data"
    }
   ],
   "source": [
    "sns.countplot(x = 'Author', data = records[records['Author'] != 'Unknown'])"
   ]
  },
  {
   "cell_type": "code",
   "execution_count": 52,
   "id": "fb93b985",
   "metadata": {},
   "outputs": [
    {
     "data": {
      "text/plain": [
       "<matplotlib.axes._subplots.AxesSubplot at 0x2549c291da0>"
      ]
     },
     "execution_count": 52,
     "metadata": {},
     "output_type": "execute_result"
    },
    {
     "data": {
      "image/png": "[encoded data removed]",
      "text/plain": [
       "<Figure size 640x480 with 1 Axes>"
      ]
     },
     "metadata": {},
     "output_type": "display_data"
    }
   ],
   "source": [
    "author_count = records[records['Author'] != 'Unknown']['Author'].value_counts()\n",
    "sns.histplot(x = author_count, bins = 8, palette = 'viridis')"
   ]
  },
  {
   "cell_type": "code",
   "execution_count": 40,
   "id": "6cb5e6a8",
   "metadata": {},
   "outputs": [
    {
     "data": {
      "text/plain": [
       "81"
      ]
     },
     "execution_count": 40,
     "metadata": {},
     "output_type": "execute_result"
    }
   ],
   "source": [
    "author_count['AP']"
   ]
  },
  {
   "cell_type": "code",
   "execution_count": 50,
   "id": "ccfa9ed0",
   "metadata": {},
   "outputs": [
    {
     "data": {
      "text/plain": [
       "Google News                                   544\n",
       "Business Insider                              376\n",
       "New York Post                                 300\n",
       "Forbes                                        191\n",
       "The Verge                                     173\n",
       "Phys.org                                      145\n",
       "Wsj                                           141\n",
       "Tech Crunch                                   140\n",
       "Hot New Hip Hop                               135\n",
       "Engadget                                      134\n",
       "Fox News                                      133\n",
       "Yahoo! News                                   118\n",
       "Slashgear                                     112\n",
       "Teslarati                                     106\n",
       "Tweak Town                                     97\n",
       "Benzinga                                       93\n",
       "Cnet                                           91\n",
       "The Washington Times , America’s Newspaper     80\n",
       "Cbs News                                       73\n",
       "Ars Technica                                   73\n",
       "9to5 Mac                                       73\n",
       "Npr                                            70\n",
       "Huffpost                                       70\n",
       "Brietbart                                      69\n",
       "Decrypt                                        67\n",
       "Deadline                                       61\n",
       "The Guardian                                   60\n",
       "Chicago Tribune                                58\n",
       "Wired                                          53\n",
       "Name: Publisher, dtype: int64"
      ]
     },
     "execution_count": 50,
     "metadata": {},
     "output_type": "execute_result"
    }
   ],
   "source": [
    "records.groupby('Publisher').filter(lambda x: len(x) > 50)['Publisher'].value_counts()"
   ]
  },
  {
   "cell_type": "code",
   "execution_count": 55,
   "id": "f2ad3e80",
   "metadata": {},
   "outputs": [
    {
     "data": {
      "text/html": [
       "<div>\n",
       "<style scoped>\n",
       "    .dataframe tbody tr th:only-of-type {\n",
       "        vertical-align: middle;\n",
       "    }\n",
       "\n",
       "    .dataframe tbody tr th {\n",
       "        vertical-align: top;\n",
       "    }\n",
       "\n",
       "    .dataframe thead th {\n",
       "        text-align: right;\n",
       "    }\n",
       "</style>\n",
       "<table border=\"1\" class=\"dataframe\">\n",
       "  <thead>\n",
       "    <tr style=\"text-align: right;\">\n",
       "      <th></th>\n",
       "      <th>Title</th>\n",
       "      <th>Article Link</th>\n",
       "      <th>Published Date (Gmt)</th>\n",
       "      <th>Author</th>\n",
       "      <th>Publisher</th>\n",
       "      <th>Country</th>\n",
       "      <th>Category</th>\n",
       "      <th>Language</th>\n",
       "      <th>Description</th>\n",
       "    </tr>\n",
       "  </thead>\n",
       "  <tbody>\n",
       "    <tr>\n",
       "      <th>0</th>\n",
       "      <td>\"Mark Cuban Calls Elon Musk 'Judge And Jury' O...</td>\n",
       "      <td>https://www.benzinga.com/news/22/11/29885272/m...</td>\n",
       "      <td>2022-11-29 12:36:03</td>\n",
       "      <td>Unknown</td>\n",
       "      <td>Benzinga</td>\n",
       "      <td>United States Of America</td>\n",
       "      <td>Top</td>\n",
       "      <td>English</td>\n",
       "      <td>Elon Musk-led Twitter lacks transparency, acco...</td>\n",
       "    </tr>\n",
       "    <tr>\n",
       "      <th>1</th>\n",
       "      <td>\"Twitter's 'Big Bang' — Elon Musk's 'General A...</td>\n",
       "      <td>https://www.benzinga.com/news/22/11/29881698/t...</td>\n",
       "      <td>2022-11-29 11:35:43</td>\n",
       "      <td>Unknown</td>\n",
       "      <td>Benzinga</td>\n",
       "      <td>United States Of America</td>\n",
       "      <td>Top</td>\n",
       "      <td>English</td>\n",
       "      <td>Twitter is going through a rollercoaster ride....</td>\n",
       "    </tr>\n",
       "    <tr>\n",
       "      <th>2</th>\n",
       "      <td>\"Twitter owner Musk signals new 'war' against ...</td>\n",
       "      <td>https://techxplore.com/news/2022-11-twitter-ow...</td>\n",
       "      <td>2022-11-29 09:39:18</td>\n",
       "      <td>Unknown</td>\n",
       "      <td>Phys.org</td>\n",
       "      <td>United States Of America</td>\n",
       "      <td>Technology</td>\n",
       "      <td>English</td>\n",
       "      <td>Twitter owner Elon Musk on Monday opened fire ...</td>\n",
       "    </tr>\n",
       "    <tr>\n",
       "      <th>3</th>\n",
       "      <td>\"Chinese police are now conducting random stop...</td>\n",
       "      <td>https://www.businessinsider.com/chinese-police...</td>\n",
       "      <td>2022-11-29 08:30:16</td>\n",
       "      <td>Unknown</td>\n",
       "      <td>Business Insider</td>\n",
       "      <td>United States Of America</td>\n",
       "      <td>Top</td>\n",
       "      <td>English</td>\n",
       "      <td>Certain foreign social media apps are banned i...</td>\n",
       "    </tr>\n",
       "    <tr>\n",
       "      <th>4</th>\n",
       "      <td>\"Twitter Downloads Surge In China Amid Protest...</td>\n",
       "      <td>https://www.benzinga.com/news/22/11/29882264/t...</td>\n",
       "      <td>2022-11-29 07:48:17</td>\n",
       "      <td>Unknown</td>\n",
       "      <td>Benzinga</td>\n",
       "      <td>United States Of America</td>\n",
       "      <td>Top</td>\n",
       "      <td>English</td>\n",
       "      <td>read more</td>\n",
       "    </tr>\n",
       "  </tbody>\n",
       "</table>\n",
       "</div>"
      ],
      "text/plain": [
       "                                               Title  \\\n",
       "0  \"Mark Cuban Calls Elon Musk 'Judge And Jury' O...   \n",
       "1  \"Twitter's 'Big Bang' — Elon Musk's 'General A...   \n",
       "2  \"Twitter owner Musk signals new 'war' against ...   \n",
       "3  \"Chinese police are now conducting random stop...   \n",
       "4  \"Twitter Downloads Surge In China Amid Protest...   \n",
       "\n",
       "                                        Article Link Published Date (Gmt)  \\\n",
       "0  https://www.benzinga.com/news/22/11/29885272/m...  2022-11-29 12:36:03   \n",
       "1  https://www.benzinga.com/news/22/11/29881698/t...  2022-11-29 11:35:43   \n",
       "2  https://techxplore.com/news/2022-11-twitter-ow...  2022-11-29 09:39:18   \n",
       "3  https://www.businessinsider.com/chinese-police...  2022-11-29 08:30:16   \n",
       "4  https://www.benzinga.com/news/22/11/29882264/t...  2022-11-29 07:48:17   \n",
       "\n",
       "    Author         Publisher                   Country    Category Language  \\\n",
       "0  Unknown          Benzinga  United States Of America         Top  English   \n",
       "1  Unknown          Benzinga  United States Of America         Top  English   \n",
       "2  Unknown          Phys.org  United States Of America  Technology  English   \n",
       "3  Unknown  Business Insider  United States Of America         Top  English   \n",
       "4  Unknown          Benzinga  United States Of America         Top  English   \n",
       "\n",
       "                                         Description  \n",
       "0  Elon Musk-led Twitter lacks transparency, acco...  \n",
       "1  Twitter is going through a rollercoaster ride....  \n",
       "2  Twitter owner Elon Musk on Monday opened fire ...  \n",
       "3  Certain foreign social media apps are banned i...  \n",
       "4                                          read more  "
      ]
     },
     "execution_count": 55,
     "metadata": {},
     "output_type": "execute_result"
    }
   ],
   "source": [
    "records.head()"
   ]
  },
  {
   "cell_type": "code",
   "execution_count": 58,
   "id": "64691008",
   "metadata": {},
   "outputs": [
    {
     "data": {
      "text/plain": [
       "<matplotlib.axes._subplots.AxesSubplot at 0x2549c53dc88>"
      ]
     },
     "execution_count": 58,
     "metadata": {},
     "output_type": "execute_result"
    },
    {
     "data": {
      "image/png": "[encoded data removed]",
      "text/plain": [
       "<Figure size 640x480 with 1 Axes>"
      ]
     },
     "metadata": {},
     "output_type": "display_data"
    }
   ],
   "source": [
    "sns.countplot(x = 'Category', data = records, palette = 'RdBu_r')"
   ]
  },
  {
   "cell_type": "code",
   "execution_count": 88,
   "id": "8f9bbf7a",
   "metadata": {},
   "outputs": [],
   "source": [
    "records.loc[records.Description.isna(), 'Description'] = 'No Description'"
   ]
  },
  {
   "cell_type": "code",
   "execution_count": 94,
   "id": "4f9c9ca4",
   "metadata": {},
   "outputs": [],
   "source": [
    "# show entries with duplicates not related to read more nor NaN\n",
    "records_dup = records[records.duplicated(subset = 'Description')]"
   ]
  },
  {
   "cell_type": "code",
   "execution_count": 99,
   "id": "409e97d9",
   "metadata": {},
   "outputs": [
    {
     "data": {
      "text/html": [
       "<div>\n",
       "<style scoped>\n",
       "    .dataframe tbody tr th:only-of-type {\n",
       "        vertical-align: middle;\n",
       "    }\n",
       "\n",
       "    .dataframe tbody tr th {\n",
       "        vertical-align: top;\n",
       "    }\n",
       "\n",
       "    .dataframe thead th {\n",
       "        text-align: right;\n",
       "    }\n",
       "</style>\n",
       "<table border=\"1\" class=\"dataframe\">\n",
       "  <thead>\n",
       "    <tr style=\"text-align: right;\">\n",
       "      <th></th>\n",
       "      <th>Title</th>\n",
       "      <th>Article Link</th>\n",
       "      <th>Published Date (Gmt)</th>\n",
       "      <th>Author</th>\n",
       "      <th>Publisher</th>\n",
       "      <th>Country</th>\n",
       "      <th>Category</th>\n",
       "      <th>Language</th>\n",
       "      <th>Description</th>\n",
       "    </tr>\n",
       "  </thead>\n",
       "  <tbody>\n",
       "    <tr>\n",
       "      <th>106</th>\n",
       "      <td>\"Twitter Users Warned Not To Delete Their Acco...</td>\n",
       "      <td>https://www.forbes.com/sites/daveywinder/2022/...</td>\n",
       "      <td>2022-11-25 14:00:00</td>\n",
       "      <td>Davey Winder, Senior Contributor</td>\n",
       "      <td>Forbes</td>\n",
       "      <td>United States Of America</td>\n",
       "      <td>Technology</td>\n",
       "      <td>English</td>\n",
       "      <td>If you're fed up with Twitter, deleting your a...</td>\n",
       "    </tr>\n",
       "    <tr>\n",
       "      <th>124</th>\n",
       "      <td>\"Elon Musk says he's granting 'amnesty' to sus...</td>\n",
       "      <td>https://abc7.com/elon-musk-twitter-amnesty-elo...</td>\n",
       "      <td>2022-11-25 00:29:05</td>\n",
       "      <td>AP</td>\n",
       "      <td>Abc7</td>\n",
       "      <td>United States Of America</td>\n",
       "      <td>Technology</td>\n",
       "      <td>English</td>\n",
       "      <td>The billionaire's announcement came after he a...</td>\n",
       "    </tr>\n",
       "    <tr>\n",
       "      <th>125</th>\n",
       "      <td>\"Elon Musk says he's granting 'amnesty' to sus...</td>\n",
       "      <td>https://abc7news.com/elon-musk-twitter-amnesty...</td>\n",
       "      <td>2022-11-25 00:11:28</td>\n",
       "      <td>AP</td>\n",
       "      <td>Abc7</td>\n",
       "      <td>United States Of America</td>\n",
       "      <td>Top</td>\n",
       "      <td>English</td>\n",
       "      <td>The billionaire's announcement came after he a...</td>\n",
       "    </tr>\n",
       "    <tr>\n",
       "      <th>153</th>\n",
       "      <td>\"Looking to leave Twitter? Here are the social...</td>\n",
       "      <td>https://www.npr.org/2022/11/24/1139079748/leav...</td>\n",
       "      <td>2022-11-24 10:00:38</td>\n",
       "      <td>Laurel Wamsley</td>\n",
       "      <td>Npr</td>\n",
       "      <td>United States Of America</td>\n",
       "      <td>Top</td>\n",
       "      <td>English</td>\n",
       "      <td>Can a network like Hive Social or Mastodon fos...</td>\n",
       "    </tr>\n",
       "    <tr>\n",
       "      <th>226</th>\n",
       "      <td>\"Twitter Lays Off Some Sales Employees After T...</td>\n",
       "      <td>https://www.wsj.com/articles/twitter-lays-off-...</td>\n",
       "      <td>2022-11-22 03:16:00</td>\n",
       "      <td>Unknown</td>\n",
       "      <td>Wsj</td>\n",
       "      <td>United States Of America</td>\n",
       "      <td>Technology</td>\n",
       "      <td>English</td>\n",
       "      <td>The new cuts follow mass layoffs and resignati...</td>\n",
       "    </tr>\n",
       "    <tr>\n",
       "      <th>...</th>\n",
       "      <td>...</td>\n",
       "      <td>...</td>\n",
       "      <td>...</td>\n",
       "      <td>...</td>\n",
       "      <td>...</td>\n",
       "      <td>...</td>\n",
       "      <td>...</td>\n",
       "      <td>...</td>\n",
       "      <td>...</td>\n",
       "    </tr>\n",
       "    <tr>\n",
       "      <th>5279</th>\n",
       "      <td>\"Elon Musk threatens to walk away from Twitter...</td>\n",
       "      <td>https://www.kcra.com/article/elon-musk-threate...</td>\n",
       "      <td>2022-06-06 14:11:00</td>\n",
       "      <td>Unknown</td>\n",
       "      <td>Kcra</td>\n",
       "      <td>United States Of America</td>\n",
       "      <td>Top</td>\n",
       "      <td>English</td>\n",
       "      <td>Elon Musk is threatening to end his $44 billio...</td>\n",
       "    </tr>\n",
       "    <tr>\n",
       "      <th>5280</th>\n",
       "      <td>\"Elon Musk threatens to walk away from Twitter...</td>\n",
       "      <td>https://www.wcvb.com/article/elon-musk-threate...</td>\n",
       "      <td>2022-06-06 14:11:00</td>\n",
       "      <td>Unknown</td>\n",
       "      <td>Wcvb</td>\n",
       "      <td>United States Of America</td>\n",
       "      <td>Top</td>\n",
       "      <td>English</td>\n",
       "      <td>Elon Musk is threatening to end his $44 billio...</td>\n",
       "    </tr>\n",
       "    <tr>\n",
       "      <th>5281</th>\n",
       "      <td>\"Musk threatens to walk away from Twitter deal\"</td>\n",
       "      <td>https://techxplore.com/news/2022-06-musk-threa...</td>\n",
       "      <td>2022-06-06 14:10:33</td>\n",
       "      <td>Unknown</td>\n",
       "      <td>Phys.org</td>\n",
       "      <td>United States Of America</td>\n",
       "      <td>Technology</td>\n",
       "      <td>English</td>\n",
       "      <td>Elon Musk is threatening to walk away from his...</td>\n",
       "    </tr>\n",
       "    <tr>\n",
       "      <th>5288</th>\n",
       "      <td>\"Elon Musk threatens to walk away from Twitter...</td>\n",
       "      <td>https://www.chicagotribune.com/business/ct-biz...</td>\n",
       "      <td>2022-06-06 13:50:27</td>\n",
       "      <td>TOM KRISHER</td>\n",
       "      <td>Chicago Tribune</td>\n",
       "      <td>United States Of America</td>\n",
       "      <td>Business</td>\n",
       "      <td>English</td>\n",
       "      <td>Elon Musk is threatening to end his $44 billio...</td>\n",
       "    </tr>\n",
       "    <tr>\n",
       "      <th>5292</th>\n",
       "      <td>\"Musk threatens to walk away from Twitter deal\"</td>\n",
       "      <td>https://www.washingtontimes.com/news/2022/jun/...</td>\n",
       "      <td>2022-06-06 13:39:49</td>\n",
       "      <td>Tom Krisher, Matt O'Brien</td>\n",
       "      <td>The Washington Times , America’s Newspaper</td>\n",
       "      <td>United States Of America</td>\n",
       "      <td>Technology</td>\n",
       "      <td>English</td>\n",
       "      <td>Elon Musk is threatening to walk away from his...</td>\n",
       "    </tr>\n",
       "  </tbody>\n",
       "</table>\n",
       "<p>258 rows × 9 columns</p>\n",
       "</div>"
      ],
      "text/plain": [
       "                                                  Title  \\\n",
       "106   \"Twitter Users Warned Not To Delete Their Acco...   \n",
       "124   \"Elon Musk says he's granting 'amnesty' to sus...   \n",
       "125   \"Elon Musk says he's granting 'amnesty' to sus...   \n",
       "153   \"Looking to leave Twitter? Here are the social...   \n",
       "226   \"Twitter Lays Off Some Sales Employees After T...   \n",
       "...                                                 ...   \n",
       "5279  \"Elon Musk threatens to walk away from Twitter...   \n",
       "5280  \"Elon Musk threatens to walk away from Twitter...   \n",
       "5281    \"Musk threatens to walk away from Twitter deal\"   \n",
       "5288  \"Elon Musk threatens to walk away from Twitter...   \n",
       "5292    \"Musk threatens to walk away from Twitter deal\"   \n",
       "\n",
       "                                           Article Link Published Date (Gmt)  \\\n",
       "106   https://www.forbes.com/sites/daveywinder/2022/...  2022-11-25 14:00:00   \n",
       "124   https://abc7.com/elon-musk-twitter-amnesty-elo...  2022-11-25 00:29:05   \n",
       "125   https://abc7news.com/elon-musk-twitter-amnesty...  2022-11-25 00:11:28   \n",
       "153   https://www.npr.org/2022/11/24/1139079748/leav...  2022-11-24 10:00:38   \n",
       "226   https://www.wsj.com/articles/twitter-lays-off-...  2022-11-22 03:16:00   \n",
       "...                                                 ...                  ...   \n",
       "5279  https://www.kcra.com/article/elon-musk-threate...  2022-06-06 14:11:00   \n",
       "5280  https://www.wcvb.com/article/elon-musk-threate...  2022-06-06 14:11:00   \n",
       "5281  https://techxplore.com/news/2022-06-musk-threa...  2022-06-06 14:10:33   \n",
       "5288  https://www.chicagotribune.com/business/ct-biz...  2022-06-06 13:50:27   \n",
       "5292  https://www.washingtontimes.com/news/2022/jun/...  2022-06-06 13:39:49   \n",
       "\n",
       "                                Author  \\\n",
       "106   Davey Winder, Senior Contributor   \n",
       "124                                 AP   \n",
       "125                                 AP   \n",
       "153                     Laurel Wamsley   \n",
       "226                            Unknown   \n",
       "...                                ...   \n",
       "5279                           Unknown   \n",
       "5280                           Unknown   \n",
       "5281                           Unknown   \n",
       "5288                       TOM KRISHER   \n",
       "5292         Tom Krisher, Matt O'Brien   \n",
       "\n",
       "                                       Publisher                   Country  \\\n",
       "106                                       Forbes  United States Of America   \n",
       "124                                         Abc7  United States Of America   \n",
       "125                                         Abc7  United States Of America   \n",
       "153                                          Npr  United States Of America   \n",
       "226                                          Wsj  United States Of America   \n",
       "...                                          ...                       ...   \n",
       "5279                                        Kcra  United States Of America   \n",
       "5280                                        Wcvb  United States Of America   \n",
       "5281                                    Phys.org  United States Of America   \n",
       "5288                             Chicago Tribune  United States Of America   \n",
       "5292  The Washington Times , America’s Newspaper  United States Of America   \n",
       "\n",
       "        Category Language                                        Description  \n",
       "106   Technology  English  If you're fed up with Twitter, deleting your a...  \n",
       "124   Technology  English  The billionaire's announcement came after he a...  \n",
       "125          Top  English  The billionaire's announcement came after he a...  \n",
       "153          Top  English  Can a network like Hive Social or Mastodon fos...  \n",
       "226   Technology  English  The new cuts follow mass layoffs and resignati...  \n",
       "...          ...      ...                                                ...  \n",
       "5279         Top  English  Elon Musk is threatening to end his $44 billio...  \n",
       "5280         Top  English  Elon Musk is threatening to end his $44 billio...  \n",
       "5281  Technology  English  Elon Musk is threatening to walk away from his...  \n",
       "5288    Business  English  Elon Musk is threatening to end his $44 billio...  \n",
       "5292  Technology  English  Elon Musk is threatening to walk away from his...  \n",
       "\n",
       "[258 rows x 9 columns]"
      ]
     },
     "execution_count": 99,
     "metadata": {},
     "output_type": "execute_result"
    }
   ],
   "source": [
    "records_dup[(records_dup['Description'] != 'read more') & (records_dup['Description'] != 'No Description')]"
   ]
  },
  {
   "cell_type": "code",
   "execution_count": 103,
   "id": "6abf6e3f",
   "metadata": {},
   "outputs": [],
   "source": [
    "records = records.drop_duplicates(subset = 'Title')\n",
    "records.to_csv('records.csv')"
   ]
  },
  {
   "cell_type": "code",
   "execution_count": 7,
   "id": "8ae6788d",
   "metadata": {},
   "outputs": [],
   "source": [
    "records = pd.read_csv('records.csv', index_col = 0)"
   ]
  },
  {
   "cell_type": "code",
   "execution_count": 45,
   "id": "3737f329",
   "metadata": {},
   "outputs": [],
   "source": [
    "# Process datetime feature"
   ]
  },
  {
   "cell_type": "code",
   "execution_count": 36,
   "id": "9627f847",
   "metadata": {},
   "outputs": [],
   "source": [
    "# add a week column to the data\n",
    "date_str = [date[:10] for date in records.iloc[:,2]]\n",
    "\n",
    "from datetime import datetime\n",
    "date_obj = [datetime.strptime(date, \"%Y-%m-%d\") for date in date_str]\n",
    "records['Date'] = date_obj"
   ]
  },
  {
   "cell_type": "markdown",
   "id": "0768031e",
   "metadata": {},
   "source": [
    "Here's a simple time series chart to see the trends of the number of Twitter-related news over the months"
   ]
  },
  {
   "cell_type": "code",
   "execution_count": 44,
   "id": "1509f655",
   "metadata": {},
   "outputs": [
    {
     "data": {
      "text/plain": [
       "<matplotlib.axes._subplots.AxesSubplot at 0x1ed8a56b128>"
      ]
     },
     "execution_count": 44,
     "metadata": {},
     "output_type": "execute_result"
    },
    {
     "data": {
      "image/png": "[encoded data removed]",
      "text/plain": [
       "<Figure size 1200x500 with 1 Axes>"
      ]
     },
     "metadata": {},
     "output_type": "display_data"
    }
   ],
   "source": [
    "counts = records.groupby([\"Date\"]).size().reset_index(name=\"count\")\n",
    "sns.set_style('darkgrid')\n",
    "plt.figure(figsize = (12, 5))\n",
    "sns.lineplot(data=counts, x=\"Date\", y=\"count\")"
   ]
  },
  {
   "cell_type": "code",
   "execution_count": 46,
   "id": "21db6439",
   "metadata": {},
   "outputs": [
    {
     "data": {
      "text/plain": [
       "array(['Top', 'Technology', 'Business', 'World', 'Politics',\n",
       "       'Entertainment'], dtype=object)"
      ]
     },
     "execution_count": 46,
     "metadata": {},
     "output_type": "execute_result"
    }
   ],
   "source": [
    "# aggregate the category feature, combine low frequency categories like world, politics, and entertainment to 'other' column\n",
    "records['Category'].unique()"
   ]
  },
  {
   "cell_type": "code",
   "execution_count": 50,
   "id": "46576910",
   "metadata": {},
   "outputs": [
    {
     "data": {
      "text/plain": [
       "{'Business', 'Other', 'Technology', 'Top'}"
      ]
     },
     "execution_count": 50,
     "metadata": {},
     "output_type": "execute_result"
    }
   ],
   "source": [
    "def combine_other(category):\n",
    "    if category not in ['Top', 'Technology', 'Business']:\n",
    "        return 'Other'\n",
    "    else:\n",
    "        return category\n",
    "combined_cat = [combine_other(cat) for cat in records['Category']]\n",
    "set(combined_cat)"
   ]
  },
  {
   "cell_type": "code",
   "execution_count": 51,
   "id": "175c2fa1",
   "metadata": {},
   "outputs": [],
   "source": [
    "records['Category'] = combined_cat"
   ]
  },
  {
   "cell_type": "code",
   "execution_count": 84,
   "id": "9f1d6f3a",
   "metadata": {},
   "outputs": [
    {
     "data": {
      "text/plain": [
       "<matplotlib.axes._subplots.AxesSubplot at 0x1ed925a4780>"
      ]
     },
     "execution_count": 84,
     "metadata": {},
     "output_type": "execute_result"
    },
    {
     "data": {
      "image/png": "[encoded data removed]",
      "text/plain": [
       "<Figure size 1200x500 with 1 Axes>"
      ]
     },
     "metadata": {},
     "output_type": "display_data"
    }
   ],
   "source": [
    "counts = records.groupby([\"Date\", \"Category\"]).size().reset_index(name=\"count\")\n",
    "plt.figure(figsize = (12, 5))\n",
    "sns.lineplot(data=counts, x=\"Date\", y=\"count\", hue = 'Category', palette = \"coolwarm\", ci = 80)"
   ]
  },
  {
   "cell_type": "code",
   "execution_count": 90,
   "id": "76a281ea",
   "metadata": {},
   "outputs": [
    {
     "data": {
      "text/html": [
       "<div>\n",
       "<style scoped>\n",
       "    .dataframe tbody tr th:only-of-type {\n",
       "        vertical-align: middle;\n",
       "    }\n",
       "\n",
       "    .dataframe tbody tr th {\n",
       "        vertical-align: top;\n",
       "    }\n",
       "\n",
       "    .dataframe thead th {\n",
       "        text-align: right;\n",
       "    }\n",
       "</style>\n",
       "<table border=\"1\" class=\"dataframe\">\n",
       "  <thead>\n",
       "    <tr style=\"text-align: right;\">\n",
       "      <th></th>\n",
       "      <th>Date</th>\n",
       "      <th>Category</th>\n",
       "      <th>count</th>\n",
       "    </tr>\n",
       "  </thead>\n",
       "  <tbody>\n",
       "    <tr>\n",
       "      <th>0</th>\n",
       "      <td>2022-05-30</td>\n",
       "      <td>Business</td>\n",
       "      <td>1</td>\n",
       "    </tr>\n",
       "    <tr>\n",
       "      <th>1</th>\n",
       "      <td>2022-05-30</td>\n",
       "      <td>Technology</td>\n",
       "      <td>1</td>\n",
       "    </tr>\n",
       "    <tr>\n",
       "      <th>2</th>\n",
       "      <td>2022-05-30</td>\n",
       "      <td>Top</td>\n",
       "      <td>1</td>\n",
       "    </tr>\n",
       "    <tr>\n",
       "      <th>3</th>\n",
       "      <td>2022-05-31</td>\n",
       "      <td>Business</td>\n",
       "      <td>1</td>\n",
       "    </tr>\n",
       "    <tr>\n",
       "      <th>4</th>\n",
       "      <td>2022-05-31</td>\n",
       "      <td>Technology</td>\n",
       "      <td>2</td>\n",
       "    </tr>\n",
       "  </tbody>\n",
       "</table>\n",
       "</div>"
      ],
      "text/plain": [
       "        Date    Category  count\n",
       "0 2022-05-30    Business      1\n",
       "1 2022-05-30  Technology      1\n",
       "2 2022-05-30         Top      1\n",
       "3 2022-05-31    Business      1\n",
       "4 2022-05-31  Technology      2"
      ]
     },
     "execution_count": 90,
     "metadata": {},
     "output_type": "execute_result"
    }
   ],
   "source": [
    "counts.head()"
   ]
  },
  {
   "cell_type": "code",
   "execution_count": 103,
   "id": "a1e2a8e0",
   "metadata": {},
   "outputs": [
    {
     "data": {
      "text/plain": [
       "<seaborn.axisgrid.FacetGrid at 0x1ed95a36588>"
      ]
     },
     "execution_count": 103,
     "metadata": {},
     "output_type": "execute_result"
    },
    {
     "data": {
      "image/png": "[encoded data removed]",
      "text/plain": [
       "<Figure size 800x1600 with 4 Axes>"
      ]
     },
     "metadata": {},
     "output_type": "display_data"
    }
   ],
   "source": [
    "import matplotlib.pyplot as plt\n",
    "g = sns.FacetGrid(counts, row = 'Category', height = 4, aspect = 2)\n",
    "g.map(sns.lineplot, \"Date\", \"count\")"
   ]
  },
  {
   "cell_type": "code",
   "execution_count": 108,
   "id": "61892359",
   "metadata": {},
   "outputs": [
    {
     "data": {
      "text/html": [
       "        <script type=\"text/javascript\">\n",
       "        window.PlotlyConfig = {MathJaxConfig: 'local'};\n",
       "        if (window.MathJax && window.MathJax.Hub && window.MathJax.Hub.Config) {window.MathJax.Hub.Config({SVG: {font: \"STIX-Web\"}});}\n",
       "        if (typeof require !== 'undefined') {\n",
       "        require.undef(\"plotly\");\n",
       "        requirejs.config({\n",
       "            paths: {\n",
       "                'plotly': ['https://cdn.plot.ly/plotly-2.14.0.min']\n",
       "            }\n",
       "        });\n",
       "        require(['plotly'], function(Plotly) {\n",
       "            window._Plotly = Plotly;\n",
       "        });\n",
       "        }\n",
       "        </script>\n",
       "        "
      ]
     },
     "metadata": {},
     "output_type": "display_data"
    }
   ],
   "source": [
    "# create an interactive version\n",
    "import cufflinks as cf\n",
    "import plotly.offline\n",
    "cf.go_offline()\n",
    "import plotly.express as px"
   ]
  },
  {
   "cell_type": "code",
   "execution_count": 111,
   "id": "9874e801",
   "metadata": {},
   "outputs": [
    {
     "data": {
      "application/vnd.plotly.v1+json": {
       "config": {
        "plotlyServerURL": "https://plot.ly"
       },
       "data": [
        {
         "hovertemplate": "Category=Business<br>Date=%{x}<br>count=%{y}<extra></extra>",
         "legendgroup": "Business",
         "line": {
          "color": "#3b4cc0",
          "dash": "solid"
         },
         "marker": {
          "symbol": "circle"
         },
         "mode": "lines",
         "name": "Business",
         "orientation": "v",
         "showlegend": true,
         "type": "scatter",
         "x": [
          "2022-05-30T00:00:00",
          "2022-05-31T00:00:00",
          "2022-06-01T00:00:00",
          "2022-06-06T00:00:00",
          "2022-06-07T00:00:00",
          "2022-06-08T00:00:00",
          "2022-06-09T00:00:00",
          "2022-06-10T00:00:00",
          "2022-06-12T00:00:00",
          "2022-06-13T00:00:00",
          "2022-06-14T00:00:00",
          "2022-06-15T00:00:00",
          "2022-06-16T00:00:00",
          "2022-06-17T00:00:00",
          "2022-06-19T00:00:00",
          "2022-06-21T00:00:00",
          "2022-06-22T00:00:00",
          "2022-06-23T00:00:00",
          "2022-06-28T00:00:00",
          "2022-06-30T00:00:00",
          "2022-07-02T00:00:00",
          "2022-07-03T00:00:00",
          "2022-07-05T00:00:00",
          "2022-07-07T00:00:00",
          "2022-07-08T00:00:00",
          "2022-07-09T00:00:00",
          "2022-07-10T00:00:00",
          "2022-07-11T00:00:00",
          "2022-07-12T00:00:00",
          "2022-07-13T00:00:00",
          "2022-07-14T00:00:00",
          "2022-07-15T00:00:00",
          "2022-07-16T00:00:00",
          "2022-07-17T00:00:00",
          "2022-07-18T00:00:00",
          "2022-07-19T00:00:00",
          "2022-07-20T00:00:00",
          "2022-07-21T00:00:00",
          "2022-07-22T00:00:00",
          "2022-07-26T00:00:00",
          "2022-07-27T00:00:00",
          "2022-07-28T00:00:00",
          "2022-07-29T00:00:00",
          "2022-07-31T00:00:00",
          "2022-08-01T00:00:00",
          "2022-08-03T00:00:00",
          "2022-08-04T00:00:00",
          "2022-08-05T00:00:00",
          "2022-08-06T00:00:00",
          "2022-08-07T00:00:00",
          "2022-08-08T00:00:00",
          "2022-08-09T00:00:00",
          "2022-08-10T00:00:00",
          "2022-08-12T00:00:00",
          "2022-08-14T00:00:00",
          "2022-08-16T00:00:00",
          "2022-08-19T00:00:00",
          "2022-08-21T00:00:00",
          "2022-08-22T00:00:00",
          "2022-08-23T00:00:00",
          "2022-08-24T00:00:00",
          "2022-08-25T00:00:00",
          "2022-08-26T00:00:00",
          "2022-08-27T00:00:00",
          "2022-08-28T00:00:00",
          "2022-08-29T00:00:00",
          "2022-08-30T00:00:00",
          "2022-08-31T00:00:00",
          "2022-09-01T00:00:00",
          "2022-09-02T00:00:00",
          "2022-09-06T00:00:00",
          "2022-09-07T00:00:00",
          "2022-09-08T00:00:00",
          "2022-09-09T00:00:00",
          "2022-09-10T00:00:00",
          "2022-09-12T00:00:00",
          "2022-09-13T00:00:00",
          "2022-09-14T00:00:00",
          "2022-09-15T00:00:00",
          "2022-09-16T00:00:00",
          "2022-09-18T00:00:00",
          "2022-09-19T00:00:00",
          "2022-09-22T00:00:00",
          "2022-09-26T00:00:00",
          "2022-09-27T00:00:00",
          "2022-09-28T00:00:00",
          "2022-09-29T00:00:00",
          "2022-09-30T00:00:00",
          "2022-10-02T00:00:00",
          "2022-10-03T00:00:00",
          "2022-10-04T00:00:00",
          "2022-10-05T00:00:00",
          "2022-10-06T00:00:00",
          "2022-10-07T00:00:00",
          "2022-10-08T00:00:00",
          "2022-10-09T00:00:00",
          "2022-10-10T00:00:00",
          "2022-10-11T00:00:00",
          "2022-10-13T00:00:00",
          "2022-10-14T00:00:00",
          "2022-10-15T00:00:00",
          "2022-10-16T00:00:00",
          "2022-10-17T00:00:00",
          "2022-10-19T00:00:00",
          "2022-10-20T00:00:00",
          "2022-10-21T00:00:00",
          "2022-10-22T00:00:00",
          "2022-10-23T00:00:00",
          "2022-10-24T00:00:00",
          "2022-10-25T00:00:00",
          "2022-10-26T00:00:00",
          "2022-10-27T00:00:00",
          "2022-10-28T00:00:00",
          "2022-10-29T00:00:00",
          "2022-10-30T00:00:00",
          "2022-10-31T00:00:00",
          "2022-11-01T00:00:00",
          "2022-11-02T00:00:00",
          "2022-11-03T00:00:00",
          "2022-11-04T00:00:00",
          "2022-11-05T00:00:00",
          "2022-11-06T00:00:00",
          "2022-11-07T00:00:00",
          "2022-11-08T00:00:00",
          "2022-11-09T00:00:00",
          "2022-11-10T00:00:00",
          "2022-11-11T00:00:00",
          "2022-11-12T00:00:00",
          "2022-11-13T00:00:00",
          "2022-11-14T00:00:00",
          "2022-11-15T00:00:00",
          "2022-11-16T00:00:00",
          "2022-11-17T00:00:00",
          "2022-11-18T00:00:00",
          "2022-11-19T00:00:00",
          "2022-11-20T00:00:00",
          "2022-11-21T00:00:00",
          "2022-11-22T00:00:00",
          "2022-11-23T00:00:00",
          "2022-11-24T00:00:00",
          "2022-11-25T00:00:00",
          "2022-11-26T00:00:00",
          "2022-11-27T00:00:00",
          "2022-11-28T00:00:00",
          "2022-11-29T00:00:00"
         ],
         "xaxis": "x",
         "y": [
          1,
          1,
          1,
          16,
          6,
          8,
          6,
          1,
          2,
          1,
          8,
          2,
          11,
          3,
          1,
          6,
          2,
          1,
          2,
          1,
          7,
          1,
          2,
          4,
          20,
          15,
          12,
          30,
          17,
          11,
          9,
          10,
          8,
          3,
          9,
          12,
          3,
          3,
          10,
          3,
          3,
          1,
          4,
          2,
          1,
          1,
          3,
          2,
          7,
          2,
          2,
          2,
          8,
          1,
          1,
          1,
          1,
          1,
          7,
          16,
          13,
          6,
          1,
          1,
          2,
          12,
          11,
          2,
          8,
          1,
          1,
          7,
          5,
          3,
          2,
          9,
          17,
          5,
          1,
          2,
          1,
          1,
          1,
          6,
          3,
          4,
          1,
          9,
          1,
          1,
          30,
          22,
          29,
          9,
          3,
          6,
          3,
          4,
          2,
          6,
          3,
          1,
          1,
          2,
          2,
          18,
          3,
          1,
          2,
          6,
          11,
          20,
          50,
          24,
          19,
          28,
          25,
          16,
          16,
          43,
          24,
          14,
          33,
          9,
          7,
          13,
          18,
          11,
          2,
          6,
          6,
          7,
          5,
          9,
          8,
          10,
          10,
          9,
          3,
          2,
          5,
          2,
          5,
          6,
          2
         ],
         "yaxis": "y"
        },
        {
         "hovertemplate": "Category=Technology<br>Date=%{x}<br>count=%{y}<extra></extra>",
         "legendgroup": "Technology",
         "line": {
          "color": "#a7a7e6",
          "dash": "solid"
         },
         "marker": {
          "symbol": "circle"
         },
         "mode": "lines",
         "name": "Technology",
         "orientation": "v",
         "showlegend": true,
         "type": "scatter",
         "x": [
          "2022-05-30T00:00:00",
          "2022-05-31T00:00:00",
          "2022-06-01T00:00:00",
          "2022-06-02T00:00:00",
          "2022-06-03T00:00:00",
          "2022-06-06T00:00:00",
          "2022-06-07T00:00:00",
          "2022-06-08T00:00:00",
          "2022-06-09T00:00:00",
          "2022-06-10T00:00:00",
          "2022-06-11T00:00:00",
          "2022-06-13T00:00:00",
          "2022-06-14T00:00:00",
          "2022-06-15T00:00:00",
          "2022-06-16T00:00:00",
          "2022-06-17T00:00:00",
          "2022-06-20T00:00:00",
          "2022-06-21T00:00:00",
          "2022-06-22T00:00:00",
          "2022-06-23T00:00:00",
          "2022-06-24T00:00:00",
          "2022-06-28T00:00:00",
          "2022-06-29T00:00:00",
          "2022-06-30T00:00:00",
          "2022-07-02T00:00:00",
          "2022-07-03T00:00:00",
          "2022-07-04T00:00:00",
          "2022-07-05T00:00:00",
          "2022-07-06T00:00:00",
          "2022-07-07T00:00:00",
          "2022-07-08T00:00:00",
          "2022-07-09T00:00:00",
          "2022-07-10T00:00:00",
          "2022-07-11T00:00:00",
          "2022-07-12T00:00:00",
          "2022-07-13T00:00:00",
          "2022-07-14T00:00:00",
          "2022-07-15T00:00:00",
          "2022-07-16T00:00:00",
          "2022-07-18T00:00:00",
          "2022-07-19T00:00:00",
          "2022-07-20T00:00:00",
          "2022-07-21T00:00:00",
          "2022-07-22T00:00:00",
          "2022-07-24T00:00:00",
          "2022-07-25T00:00:00",
          "2022-07-26T00:00:00",
          "2022-07-27T00:00:00",
          "2022-07-28T00:00:00",
          "2022-07-29T00:00:00",
          "2022-07-30T00:00:00",
          "2022-08-01T00:00:00",
          "2022-08-02T00:00:00",
          "2022-08-03T00:00:00",
          "2022-08-04T00:00:00",
          "2022-08-05T00:00:00",
          "2022-08-06T00:00:00",
          "2022-08-07T00:00:00",
          "2022-08-08T00:00:00",
          "2022-08-09T00:00:00",
          "2022-08-10T00:00:00",
          "2022-08-11T00:00:00",
          "2022-08-12T00:00:00",
          "2022-08-16T00:00:00",
          "2022-08-17T00:00:00",
          "2022-08-18T00:00:00",
          "2022-08-19T00:00:00",
          "2022-08-20T00:00:00",
          "2022-08-22T00:00:00",
          "2022-08-23T00:00:00",
          "2022-08-24T00:00:00",
          "2022-08-25T00:00:00",
          "2022-08-26T00:00:00",
          "2022-08-27T00:00:00",
          "2022-08-29T00:00:00",
          "2022-08-30T00:00:00",
          "2022-08-31T00:00:00",
          "2022-09-01T00:00:00",
          "2022-09-02T00:00:00",
          "2022-09-03T00:00:00",
          "2022-09-06T00:00:00",
          "2022-09-07T00:00:00",
          "2022-09-08T00:00:00",
          "2022-09-09T00:00:00",
          "2022-09-10T00:00:00",
          "2022-09-11T00:00:00",
          "2022-09-12T00:00:00",
          "2022-09-13T00:00:00",
          "2022-09-14T00:00:00",
          "2022-09-15T00:00:00",
          "2022-09-16T00:00:00",
          "2022-09-18T00:00:00",
          "2022-09-20T00:00:00",
          "2022-09-21T00:00:00",
          "2022-09-22T00:00:00",
          "2022-09-26T00:00:00",
          "2022-09-27T00:00:00",
          "2022-09-28T00:00:00",
          "2022-09-29T00:00:00",
          "2022-09-30T00:00:00",
          "2022-10-01T00:00:00",
          "2022-10-02T00:00:00",
          "2022-10-03T00:00:00",
          "2022-10-04T00:00:00",
          "2022-10-05T00:00:00",
          "2022-10-06T00:00:00",
          "2022-10-07T00:00:00",
          "2022-10-08T00:00:00",
          "2022-10-09T00:00:00",
          "2022-10-10T00:00:00",
          "2022-10-11T00:00:00",
          "2022-10-12T00:00:00",
          "2022-10-13T00:00:00",
          "2022-10-14T00:00:00",
          "2022-10-15T00:00:00",
          "2022-10-17T00:00:00",
          "2022-10-18T00:00:00",
          "2022-10-19T00:00:00",
          "2022-10-20T00:00:00",
          "2022-10-21T00:00:00",
          "2022-10-22T00:00:00",
          "2022-10-24T00:00:00",
          "2022-10-25T00:00:00",
          "2022-10-26T00:00:00",
          "2022-10-27T00:00:00",
          "2022-10-28T00:00:00",
          "2022-10-29T00:00:00",
          "2022-10-30T00:00:00",
          "2022-10-31T00:00:00",
          "2022-11-01T00:00:00",
          "2022-11-02T00:00:00",
          "2022-11-03T00:00:00",
          "2022-11-04T00:00:00",
          "2022-11-05T00:00:00",
          "2022-11-06T00:00:00",
          "2022-11-07T00:00:00",
          "2022-11-08T00:00:00",
          "2022-11-09T00:00:00",
          "2022-11-10T00:00:00",
          "2022-11-11T00:00:00",
          "2022-11-12T00:00:00",
          "2022-11-13T00:00:00",
          "2022-11-14T00:00:00",
          "2022-11-15T00:00:00",
          "2022-11-16T00:00:00",
          "2022-11-17T00:00:00",
          "2022-11-18T00:00:00",
          "2022-11-19T00:00:00",
          "2022-11-20T00:00:00",
          "2022-11-21T00:00:00",
          "2022-11-22T00:00:00",
          "2022-11-23T00:00:00",
          "2022-11-24T00:00:00",
          "2022-11-25T00:00:00",
          "2022-11-26T00:00:00",
          "2022-11-27T00:00:00",
          "2022-11-28T00:00:00",
          "2022-11-29T00:00:00"
         ],
         "xaxis": "x",
         "y": [
          1,
          2,
          8,
          4,
          2,
          13,
          9,
          14,
          6,
          4,
          1,
          2,
          9,
          3,
          9,
          5,
          1,
          5,
          7,
          1,
          3,
          3,
          1,
          2,
          2,
          4,
          2,
          5,
          1,
          11,
          25,
          10,
          3,
          19,
          17,
          16,
          17,
          12,
          4,
          5,
          16,
          7,
          4,
          11,
          1,
          1,
          5,
          6,
          6,
          12,
          3,
          4,
          5,
          6,
          6,
          7,
          4,
          3,
          5,
          4,
          7,
          6,
          4,
          2,
          2,
          1,
          3,
          2,
          7,
          25,
          15,
          17,
          6,
          2,
          7,
          20,
          3,
          16,
          2,
          4,
          4,
          14,
          7,
          7,
          2,
          1,
          7,
          27,
          2,
          3,
          4,
          1,
          5,
          5,
          3,
          4,
          1,
          8,
          6,
          8,
          2,
          1,
          9,
          22,
          21,
          24,
          13,
          3,
          5,
          5,
          10,
          2,
          3,
          7,
          2,
          3,
          4,
          3,
          7,
          7,
          1,
          4,
          5,
          18,
          19,
          62,
          20,
          13,
          45,
          30,
          17,
          26,
          57,
          21,
          19,
          30,
          20,
          12,
          19,
          25,
          16,
          2,
          12,
          15,
          25,
          6,
          27,
          12,
          17,
          5,
          20,
          12,
          12,
          18,
          3,
          7,
          19,
          2
         ],
         "yaxis": "y"
        },
        {
         "hovertemplate": "Category=Top<br>Date=%{x}<br>count=%{y}<extra></extra>",
         "legendgroup": "Top",
         "line": {
          "color": "#f0b98d",
          "dash": "solid"
         },
         "marker": {
          "symbol": "circle"
         },
         "mode": "lines",
         "name": "Top",
         "orientation": "v",
         "showlegend": true,
         "type": "scatter",
         "x": [
          "2022-05-30T00:00:00",
          "2022-05-31T00:00:00",
          "2022-06-01T00:00:00",
          "2022-06-02T00:00:00",
          "2022-06-03T00:00:00",
          "2022-06-05T00:00:00",
          "2022-06-06T00:00:00",
          "2022-06-07T00:00:00",
          "2022-06-08T00:00:00",
          "2022-06-09T00:00:00",
          "2022-06-10T00:00:00",
          "2022-06-11T00:00:00",
          "2022-06-12T00:00:00",
          "2022-06-13T00:00:00",
          "2022-06-14T00:00:00",
          "2022-06-15T00:00:00",
          "2022-06-16T00:00:00",
          "2022-06-17T00:00:00",
          "2022-06-18T00:00:00",
          "2022-06-19T00:00:00",
          "2022-06-20T00:00:00",
          "2022-06-21T00:00:00",
          "2022-06-22T00:00:00",
          "2022-06-23T00:00:00",
          "2022-06-24T00:00:00",
          "2022-06-25T00:00:00",
          "2022-06-26T00:00:00",
          "2022-06-27T00:00:00",
          "2022-06-28T00:00:00",
          "2022-06-29T00:00:00",
          "2022-06-30T00:00:00",
          "2022-07-01T00:00:00",
          "2022-07-02T00:00:00",
          "2022-07-03T00:00:00",
          "2022-07-04T00:00:00",
          "2022-07-05T00:00:00",
          "2022-07-06T00:00:00",
          "2022-07-07T00:00:00",
          "2022-07-08T00:00:00",
          "2022-07-09T00:00:00",
          "2022-07-10T00:00:00",
          "2022-07-11T00:00:00",
          "2022-07-12T00:00:00",
          "2022-07-13T00:00:00",
          "2022-07-14T00:00:00",
          "2022-07-15T00:00:00",
          "2022-07-16T00:00:00",
          "2022-07-17T00:00:00",
          "2022-07-18T00:00:00",
          "2022-07-19T00:00:00",
          "2022-07-20T00:00:00",
          "2022-07-21T00:00:00",
          "2022-07-22T00:00:00",
          "2022-07-23T00:00:00",
          "2022-07-24T00:00:00",
          "2022-07-25T00:00:00",
          "2022-07-26T00:00:00",
          "2022-07-27T00:00:00",
          "2022-07-28T00:00:00",
          "2022-07-29T00:00:00",
          "2022-07-30T00:00:00",
          "2022-07-31T00:00:00",
          "2022-08-01T00:00:00",
          "2022-08-02T00:00:00",
          "2022-08-03T00:00:00",
          "2022-08-04T00:00:00",
          "2022-08-05T00:00:00",
          "2022-08-06T00:00:00",
          "2022-08-07T00:00:00",
          "2022-08-08T00:00:00",
          "2022-08-09T00:00:00",
          "2022-08-10T00:00:00",
          "2022-08-11T00:00:00",
          "2022-08-12T00:00:00",
          "2022-08-13T00:00:00",
          "2022-08-14T00:00:00",
          "2022-08-15T00:00:00",
          "2022-08-16T00:00:00",
          "2022-08-17T00:00:00",
          "2022-08-18T00:00:00",
          "2022-08-19T00:00:00",
          "2022-08-20T00:00:00",
          "2022-08-21T00:00:00",
          "2022-08-22T00:00:00",
          "2022-08-23T00:00:00",
          "2022-08-24T00:00:00",
          "2022-08-25T00:00:00",
          "2022-08-26T00:00:00",
          "2022-08-27T00:00:00",
          "2022-08-28T00:00:00",
          "2022-08-29T00:00:00",
          "2022-08-30T00:00:00",
          "2022-08-31T00:00:00",
          "2022-09-01T00:00:00",
          "2022-09-02T00:00:00",
          "2022-09-03T00:00:00",
          "2022-09-04T00:00:00",
          "2022-09-05T00:00:00",
          "2022-09-06T00:00:00",
          "2022-09-07T00:00:00",
          "2022-09-08T00:00:00",
          "2022-09-09T00:00:00",
          "2022-09-10T00:00:00",
          "2022-09-11T00:00:00",
          "2022-09-12T00:00:00",
          "2022-09-13T00:00:00",
          "2022-09-14T00:00:00",
          "2022-09-15T00:00:00",
          "2022-09-16T00:00:00",
          "2022-09-17T00:00:00",
          "2022-09-18T00:00:00",
          "2022-09-19T00:00:00",
          "2022-09-20T00:00:00",
          "2022-09-21T00:00:00",
          "2022-09-22T00:00:00",
          "2022-09-23T00:00:00",
          "2022-09-24T00:00:00",
          "2022-09-25T00:00:00",
          "2022-09-26T00:00:00",
          "2022-09-27T00:00:00",
          "2022-09-28T00:00:00",
          "2022-09-29T00:00:00",
          "2022-09-30T00:00:00",
          "2022-10-01T00:00:00",
          "2022-10-02T00:00:00",
          "2022-10-03T00:00:00",
          "2022-10-04T00:00:00",
          "2022-10-05T00:00:00",
          "2022-10-06T00:00:00",
          "2022-10-07T00:00:00",
          "2022-10-08T00:00:00",
          "2022-10-09T00:00:00",
          "2022-10-10T00:00:00",
          "2022-10-11T00:00:00",
          "2022-10-12T00:00:00",
          "2022-10-13T00:00:00",
          "2022-10-14T00:00:00",
          "2022-10-15T00:00:00",
          "2022-10-17T00:00:00",
          "2022-10-18T00:00:00",
          "2022-10-19T00:00:00",
          "2022-10-20T00:00:00",
          "2022-10-21T00:00:00",
          "2022-10-22T00:00:00",
          "2022-10-23T00:00:00",
          "2022-10-24T00:00:00",
          "2022-10-25T00:00:00",
          "2022-10-26T00:00:00",
          "2022-10-27T00:00:00",
          "2022-10-28T00:00:00",
          "2022-10-29T00:00:00",
          "2022-10-30T00:00:00",
          "2022-10-31T00:00:00",
          "2022-11-01T00:00:00",
          "2022-11-02T00:00:00",
          "2022-11-03T00:00:00",
          "2022-11-04T00:00:00",
          "2022-11-05T00:00:00",
          "2022-11-06T00:00:00",
          "2022-11-07T00:00:00",
          "2022-11-08T00:00:00",
          "2022-11-09T00:00:00",
          "2022-11-10T00:00:00",
          "2022-11-11T00:00:00",
          "2022-11-12T00:00:00",
          "2022-11-13T00:00:00",
          "2022-11-14T00:00:00",
          "2022-11-15T00:00:00",
          "2022-11-16T00:00:00",
          "2022-11-17T00:00:00",
          "2022-11-18T00:00:00",
          "2022-11-19T00:00:00",
          "2022-11-20T00:00:00",
          "2022-11-21T00:00:00",
          "2022-11-22T00:00:00",
          "2022-11-23T00:00:00",
          "2022-11-24T00:00:00",
          "2022-11-25T00:00:00",
          "2022-11-26T00:00:00",
          "2022-11-27T00:00:00",
          "2022-11-28T00:00:00",
          "2022-11-29T00:00:00"
         ],
         "xaxis": "x",
         "y": [
          1,
          3,
          7,
          4,
          7,
          4,
          11,
          5,
          12,
          10,
          7,
          2,
          6,
          7,
          13,
          6,
          25,
          9,
          6,
          2,
          5,
          10,
          10,
          9,
          5,
          2,
          3,
          5,
          1,
          1,
          11,
          2,
          11,
          5,
          4,
          5,
          5,
          5,
          33,
          20,
          9,
          24,
          24,
          13,
          15,
          7,
          8,
          4,
          9,
          17,
          7,
          8,
          13,
          4,
          4,
          8,
          6,
          2,
          6,
          8,
          9,
          3,
          2,
          5,
          5,
          8,
          12,
          5,
          6,
          10,
          7,
          17,
          3,
          4,
          2,
          1,
          5,
          4,
          7,
          6,
          2,
          4,
          2,
          10,
          27,
          17,
          16,
          12,
          2,
          3,
          3,
          16,
          9,
          17,
          2,
          4,
          2,
          3,
          5,
          9,
          12,
          2,
          3,
          3,
          5,
          33,
          5,
          5,
          3,
          6,
          2,
          3,
          6,
          5,
          7,
          4,
          1,
          3,
          6,
          8,
          6,
          9,
          11,
          9,
          2,
          7,
          40,
          34,
          23,
          12,
          6,
          8,
          11,
          11,
          5,
          4,
          8,
          3,
          9,
          7,
          7,
          7,
          19,
          5,
          6,
          8,
          22,
          24,
          41,
          107,
          39,
          31,
          55,
          52,
          44,
          47,
          93,
          52,
          37,
          48,
          40,
          16,
          21,
          25,
          14,
          9,
          11,
          9,
          8,
          12,
          32,
          13,
          21,
          18,
          12,
          14,
          13,
          13,
          8,
          7,
          17,
          5
         ],
         "yaxis": "y"
        },
        {
         "hovertemplate": "Category=Other<br>Date=%{x}<br>count=%{y}<extra></extra>",
         "legendgroup": "Other",
         "line": {
          "color": "#d61818",
          "dash": "solid"
         },
         "marker": {
          "symbol": "circle"
         },
         "mode": "lines",
         "name": "Other",
         "orientation": "v",
         "showlegend": true,
         "type": "scatter",
         "x": [
          "2022-06-01T00:00:00",
          "2022-06-13T00:00:00",
          "2022-06-14T00:00:00",
          "2022-06-15T00:00:00",
          "2022-07-09T00:00:00",
          "2022-07-11T00:00:00",
          "2022-07-12T00:00:00",
          "2022-07-14T00:00:00",
          "2022-07-22T00:00:00",
          "2022-08-04T00:00:00",
          "2022-08-09T00:00:00",
          "2022-08-10T00:00:00",
          "2022-08-16T00:00:00",
          "2022-08-18T00:00:00",
          "2022-08-19T00:00:00",
          "2022-08-23T00:00:00",
          "2022-08-24T00:00:00",
          "2022-08-25T00:00:00",
          "2022-08-28T00:00:00",
          "2022-08-31T00:00:00",
          "2022-09-01T00:00:00",
          "2022-09-02T00:00:00",
          "2022-09-07T00:00:00",
          "2022-09-08T00:00:00",
          "2022-09-13T00:00:00",
          "2022-09-16T00:00:00",
          "2022-09-26T00:00:00",
          "2022-10-03T00:00:00",
          "2022-10-04T00:00:00",
          "2022-10-05T00:00:00",
          "2022-10-06T00:00:00",
          "2022-10-07T00:00:00",
          "2022-10-09T00:00:00",
          "2022-10-10T00:00:00",
          "2022-10-14T00:00:00",
          "2022-10-15T00:00:00",
          "2022-10-19T00:00:00",
          "2022-10-20T00:00:00",
          "2022-10-21T00:00:00",
          "2022-10-27T00:00:00",
          "2022-10-28T00:00:00",
          "2022-10-29T00:00:00",
          "2022-10-30T00:00:00",
          "2022-10-31T00:00:00",
          "2022-11-01T00:00:00",
          "2022-11-02T00:00:00",
          "2022-11-03T00:00:00",
          "2022-11-05T00:00:00",
          "2022-11-06T00:00:00",
          "2022-11-07T00:00:00",
          "2022-11-09T00:00:00",
          "2022-11-10T00:00:00",
          "2022-11-11T00:00:00",
          "2022-11-12T00:00:00",
          "2022-11-13T00:00:00",
          "2022-11-14T00:00:00",
          "2022-11-15T00:00:00",
          "2022-11-16T00:00:00",
          "2022-11-17T00:00:00",
          "2022-11-18T00:00:00",
          "2022-11-19T00:00:00",
          "2022-11-20T00:00:00",
          "2022-11-21T00:00:00",
          "2022-11-22T00:00:00",
          "2022-11-24T00:00:00",
          "2022-11-25T00:00:00",
          "2022-11-28T00:00:00"
         ],
         "xaxis": "x",
         "y": [
          1,
          1,
          2,
          1,
          1,
          1,
          1,
          2,
          1,
          1,
          3,
          2,
          1,
          1,
          1,
          2,
          2,
          1,
          2,
          1,
          1,
          1,
          1,
          2,
          3,
          1,
          1,
          1,
          5,
          2,
          3,
          2,
          1,
          2,
          1,
          1,
          1,
          1,
          1,
          4,
          3,
          3,
          2,
          3,
          4,
          1,
          1,
          2,
          3,
          3,
          2,
          3,
          3,
          2,
          1,
          1,
          2,
          2,
          2,
          2,
          2,
          7,
          4,
          2,
          5,
          1,
          1
         ],
         "yaxis": "y"
        }
       ],
       "layout": {
        "legend": {
         "title": {
          "text": "Category"
         },
         "tracegroupgap": 0
        },
        "margin": {
         "t": 60
        },
        "template": {
         "data": {
          "bar": [
           {
            "error_x": {
             "color": "#2a3f5f"
            },
            "error_y": {
             "color": "#2a3f5f"
            },
            "marker": {
             "line": {
              "color": "#E5ECF6",
              "width": 0.5
             },
             "pattern": {
              "fillmode": "overlay",
              "size": 10,
              "solidity": 0.2
             }
            },
            "type": "bar"
           }
          ],
          "barpolar": [
           {
            "marker": {
             "line": {
              "color": "#E5ECF6",
              "width": 0.5
             },
             "pattern": {
              "fillmode": "overlay",
              "size": 10,
              "solidity": 0.2
             }
            },
            "type": "barpolar"
           }
          ],
          "carpet": [
           {
            "aaxis": {
             "endlinecolor": "#2a3f5f",
             "gridcolor": "white",
             "linecolor": "white",
             "minorgridcolor": "white",
             "startlinecolor": "#2a3f5f"
            },
            "baxis": {
             "endlinecolor": "#2a3f5f",
             "gridcolor": "white",
             "linecolor": "white",
             "minorgridcolor": "white",
             "startlinecolor": "#2a3f5f"
            },
            "type": "carpet"
           }
          ],
          "choropleth": [
           {
            "colorbar": {
             "outlinewidth": 0,
             "ticks": ""
            },
            "type": "choropleth"
           }
          ],
          "contour": [
           {
            "colorbar": {
             "outlinewidth": 0,
             "ticks": ""
            },
            "colorscale": [
             [
              0,
              "#0d0887"
             ],
             [
              0.1111111111111111,
              "#46039f"
             ],
             [
              0.2222222222222222,
              "#7201a8"
             ],
             [
              0.3333333333333333,
              "#9c179e"
             ],
             [
              0.4444444444444444,
              "#bd3786"
             ],
             [
              0.5555555555555556,
              "#d8576b"
             ],
             [
              0.6666666666666666,
              "#ed7953"
             ],
             [
              0.7777777777777778,
              "#fb9f3a"
             ],
             [
              0.8888888888888888,
              "#fdca26"
             ],
             [
              1,
              "#f0f921"
             ]
            ],
            "type": "contour"
           }
          ],
          "contourcarpet": [
           {
            "colorbar": {
             "outlinewidth": 0,
             "ticks": ""
            },
            "type": "contourcarpet"
           }
          ],
          "heatmap": [
           {
            "colorbar": {
             "outlinewidth": 0,
             "ticks": ""
            },
            "colorscale": [
             [
              0,
              "#0d0887"
             ],
             [
              0.1111111111111111,
              "#46039f"
             ],
             [
              0.2222222222222222,
              "#7201a8"
             ],
             [
              0.3333333333333333,
              "#9c179e"
             ],
             [
              0.4444444444444444,
              "#bd3786"
             ],
             [
              0.5555555555555556,
              "#d8576b"
             ],
             [
              0.6666666666666666,
              "#ed7953"
             ],
             [
              0.7777777777777778,
              "#fb9f3a"
             ],
             [
              0.8888888888888888,
              "#fdca26"
             ],
             [
              1,
              "#f0f921"
             ]
            ],
            "type": "heatmap"
           }
          ],
          "heatmapgl": [
           {
            "colorbar": {
             "outlinewidth": 0,
             "ticks": ""
            },
            "colorscale": [
             [
              0,
              "#0d0887"
             ],
             [
              0.1111111111111111,
              "#46039f"
             ],
             [
              0.2222222222222222,
              "#7201a8"
             ],
             [
              0.3333333333333333,
              "#9c179e"
             ],
             [
              0.4444444444444444,
              "#bd3786"
             ],
             [
              0.5555555555555556,
              "#d8576b"
             ],
             [
              0.6666666666666666,
              "#ed7953"
             ],
             [
              0.7777777777777778,
              "#fb9f3a"
             ],
             [
              0.8888888888888888,
              "#fdca26"
             ],
             [
              1,
              "#f0f921"
             ]
            ],
            "type": "heatmapgl"
           }
          ],
          "histogram": [
           {
            "marker": {
             "pattern": {
              "fillmode": "overlay",
              "size": 10,
              "solidity": 0.2
             }
            },
            "type": "histogram"
           }
          ],
          "histogram2d": [
           {
            "colorbar": {
             "outlinewidth": 0,
             "ticks": ""
            },
            "colorscale": [
             [
              0,
              "#0d0887"
             ],
             [
              0.1111111111111111,
              "#46039f"
             ],
             [
              0.2222222222222222,
              "#7201a8"
             ],
             [
              0.3333333333333333,
              "#9c179e"
             ],
             [
              0.4444444444444444,
              "#bd3786"
             ],
             [
              0.5555555555555556,
              "#d8576b"
             ],
             [
              0.6666666666666666,
              "#ed7953"
             ],
             [
              0.7777777777777778,
              "#fb9f3a"
             ],
             [
              0.8888888888888888,
              "#fdca26"
             ],
             [
              1,
              "#f0f921"
             ]
            ],
            "type": "histogram2d"
           }
          ],
          "histogram2dcontour": [
           {
            "colorbar": {
             "outlinewidth": 0,
             "ticks": ""
            },
            "colorscale": [
             [
              0,
              "#0d0887"
             ],
             [
              0.1111111111111111,
              "#46039f"
             ],
             [
              0.2222222222222222,
              "#7201a8"
             ],
             [
              0.3333333333333333,
              "#9c179e"
             ],
             [
              0.4444444444444444,
              "#bd3786"
             ],
             [
              0.5555555555555556,
              "#d8576b"
             ],
             [
              0.6666666666666666,
              "#ed7953"
             ],
             [
              0.7777777777777778,
              "#fb9f3a"
             ],
             [
              0.8888888888888888,
              "#fdca26"
             ],
             [
              1,
              "#f0f921"
             ]
            ],
            "type": "histogram2dcontour"
           }
          ],
          "mesh3d": [
           {
            "colorbar": {
             "outlinewidth": 0,
             "ticks": ""
            },
            "type": "mesh3d"
           }
          ],
          "parcoords": [
           {
            "line": {
             "colorbar": {
              "outlinewidth": 0,
              "ticks": ""
             }
            },
            "type": "parcoords"
           }
          ],
          "pie": [
           {
            "automargin": true,
            "type": "pie"
           }
          ],
          "scatter": [
           {
            "fillpattern": {
             "fillmode": "overlay",
             "size": 10,
             "solidity": 0.2
            },
            "type": "scatter"
           }
          ],
          "scatter3d": [
           {
            "line": {
             "colorbar": {
              "outlinewidth": 0,
              "ticks": ""
             }
            },
            "marker": {
             "colorbar": {
              "outlinewidth": 0,
              "ticks": ""
             }
            },
            "type": "scatter3d"
           }
          ],
          "scattercarpet": [
           {
            "marker": {
             "colorbar": {
              "outlinewidth": 0,
              "ticks": ""
             }
            },
            "type": "scattercarpet"
           }
          ],
          "scattergeo": [
           {
            "marker": {
             "colorbar": {
              "outlinewidth": 0,
              "ticks": ""
             }
            },
            "type": "scattergeo"
           }
          ],
          "scattergl": [
           {
            "marker": {
             "colorbar": {
              "outlinewidth": 0,
              "ticks": ""
             }
            },
            "type": "scattergl"
           }
          ],
          "scattermapbox": [
           {
            "marker": {
             "colorbar": {
              "outlinewidth": 0,
              "ticks": ""
             }
            },
            "type": "scattermapbox"
           }
          ],
          "scatterpolar": [
           {
            "marker": {
             "colorbar": {
              "outlinewidth": 0,
              "ticks": ""
             }
            },
            "type": "scatterpolar"
           }
          ],
          "scatterpolargl": [
           {
            "marker": {
             "colorbar": {
              "outlinewidth": 0,
              "ticks": ""
             }
            },
            "type": "scatterpolargl"
           }
          ],
          "scatterternary": [
           {
            "marker": {
             "colorbar": {
              "outlinewidth": 0,
              "ticks": ""
             }
            },
            "type": "scatterternary"
           }
          ],
          "surface": [
           {
            "colorbar": {
             "outlinewidth": 0,
             "ticks": ""
            },
            "colorscale": [
             [
              0,
              "#0d0887"
             ],
             [
              0.1111111111111111,
              "#46039f"
             ],
             [
              0.2222222222222222,
              "#7201a8"
             ],
             [
              0.3333333333333333,
              "#9c179e"
             ],
             [
              0.4444444444444444,
              "#bd3786"
             ],
             [
              0.5555555555555556,
              "#d8576b"
             ],
             [
              0.6666666666666666,
              "#ed7953"
             ],
             [
              0.7777777777777778,
              "#fb9f3a"
             ],
             [
              0.8888888888888888,
              "#fdca26"
             ],
             [
              1,
              "#f0f921"
             ]
            ],
            "type": "surface"
           }
          ],
          "table": [
           {
            "cells": {
             "fill": {
              "color": "#EBF0F8"
             },
             "line": {
              "color": "white"
             }
            },
            "header": {
             "fill": {
              "color": "#C8D4E3"
             },
             "line": {
              "color": "white"
             }
            },
            "type": "table"
           }
          ]
         },
         "layout": {
          "annotationdefaults": {
           "arrowcolor": "#2a3f5f",
           "arrowhead": 0,
           "arrowwidth": 1
          },
          "autotypenumbers": "strict",
          "coloraxis": {
           "colorbar": {
            "outlinewidth": 0,
            "ticks": ""
           }
          },
          "colorscale": {
           "diverging": [
            [
             0,
             "#8e0152"
            ],
            [
             0.1,
             "#c51b7d"
            ],
            [
             0.2,
             "#de77ae"
            ],
            [
             0.3,
             "#f1b6da"
            ],
            [
             0.4,
             "#fde0ef"
            ],
            [
             0.5,
             "#f7f7f7"
            ],
            [
             0.6,
             "#e6f5d0"
            ],
            [
             0.7,
             "#b8e186"
            ],
            [
             0.8,
             "#7fbc41"
            ],
            [
             0.9,
             "#4d9221"
            ],
            [
             1,
             "#276419"
            ]
           ],
           "sequential": [
            [
             0,
             "#0d0887"
            ],
            [
             0.1111111111111111,
             "#46039f"
            ],
            [
             0.2222222222222222,
             "#7201a8"
            ],
            [
             0.3333333333333333,
             "#9c179e"
            ],
            [
             0.4444444444444444,
             "#bd3786"
            ],
            [
             0.5555555555555556,
             "#d8576b"
            ],
            [
             0.6666666666666666,
             "#ed7953"
            ],
            [
             0.7777777777777778,
             "#fb9f3a"
            ],
            [
             0.8888888888888888,
             "#fdca26"
            ],
            [
             1,
             "#f0f921"
            ]
           ],
           "sequentialminus": [
            [
             0,
             "#0d0887"
            ],
            [
             0.1111111111111111,
             "#46039f"
            ],
            [
             0.2222222222222222,
             "#7201a8"
            ],
            [
             0.3333333333333333,
             "#9c179e"
            ],
            [
             0.4444444444444444,
             "#bd3786"
            ],
            [
             0.5555555555555556,
             "#d8576b"
            ],
            [
             0.6666666666666666,
             "#ed7953"
            ],
            [
             0.7777777777777778,
             "#fb9f3a"
            ],
            [
             0.8888888888888888,
             "#fdca26"
            ],
            [
             1,
             "#f0f921"
            ]
           ]
          },
          "colorway": [
           "#636efa",
           "#EF553B",
           "#00cc96",
           "#ab63fa",
           "#FFA15A",
           "#19d3f3",
           "#FF6692",
           "#B6E880",
           "#FF97FF",
           "#FECB52"
          ],
          "font": {
           "color": "#2a3f5f"
          },
          "geo": {
           "bgcolor": "white",
           "lakecolor": "white",
           "landcolor": "#E5ECF6",
           "showlakes": true,
           "showland": true,
           "subunitcolor": "white"
          },
          "hoverlabel": {
           "align": "left"
          },
          "hovermode": "closest",
          "mapbox": {
           "style": "light"
          },
          "paper_bgcolor": "white",
          "plot_bgcolor": "#E5ECF6",
          "polar": {
           "angularaxis": {
            "gridcolor": "white",
            "linecolor": "white",
            "ticks": ""
           },
           "bgcolor": "#E5ECF6",
           "radialaxis": {
            "gridcolor": "white",
            "linecolor": "white",
            "ticks": ""
           }
          },
          "scene": {
           "xaxis": {
            "backgroundcolor": "#E5ECF6",
            "gridcolor": "white",
            "gridwidth": 2,
            "linecolor": "white",
            "showbackground": true,
            "ticks": "",
            "zerolinecolor": "white"
           },
           "yaxis": {
            "backgroundcolor": "#E5ECF6",
            "gridcolor": "white",
            "gridwidth": 2,
            "linecolor": "white",
            "showbackground": true,
            "ticks": "",
            "zerolinecolor": "white"
           },
           "zaxis": {
            "backgroundcolor": "#E5ECF6",
            "gridcolor": "white",
            "gridwidth": 2,
            "linecolor": "white",
            "showbackground": true,
            "ticks": "",
            "zerolinecolor": "white"
           }
          },
          "shapedefaults": {
           "line": {
            "color": "#2a3f5f"
           }
          },
          "ternary": {
           "aaxis": {
            "gridcolor": "white",
            "linecolor": "white",
            "ticks": ""
           },
           "baxis": {
            "gridcolor": "white",
            "linecolor": "white",
            "ticks": ""
           },
           "bgcolor": "#E5ECF6",
           "caxis": {
            "gridcolor": "white",
            "linecolor": "white",
            "ticks": ""
           }
          },
          "title": {
           "x": 0.05
          },
          "xaxis": {
           "automargin": true,
           "gridcolor": "white",
           "linecolor": "white",
           "ticks": "",
           "title": {
            "standoff": 15
           },
           "zerolinecolor": "white",
           "zerolinewidth": 2
          },
          "yaxis": {
           "automargin": true,
           "gridcolor": "white",
           "linecolor": "white",
           "ticks": "",
           "title": {
            "standoff": 15
           },
           "zerolinecolor": "white",
           "zerolinewidth": 2
          }
         }
        },
        "xaxis": {
         "anchor": "y",
         "domain": [
          0,
          1
         ],
         "title": {
          "text": "Date"
         }
        },
        "yaxis": {
         "anchor": "x",
         "domain": [
          0,
          1
         ],
         "title": {
          "text": "count"
         }
        }
       }
      },
      "text/html": [
       "<div>                            <div id=\"9999f063-42d8-41e9-9031-b6cf2e60c95a\" class=\"plotly-graph-div\" style=\"height:525px; width:100%;\"></div>            <script type=\"text/javascript\">                require([\"plotly\"], function(Plotly) {                    window.PLOTLYENV=window.PLOTLYENV || {};                                    if (document.getElementById(\"9999f063-42d8-41e9-9031-b6cf2e60c95a\")) {                    Plotly.newPlot(                        \"9999f063-42d8-41e9-9031-b6cf2e60c95a\",                        [{\"hovertemplate\":\"Category=Business<br>Date=%{x}<br>count=%{y}<extra></extra>\",\"legendgroup\":\"Business\",\"line\":{\"color\":\"#3b4cc0\",\"dash\":\"solid\"},\"marker\":{\"symbol\":\"circle\"},\"mode\":\"lines\",\"name\":\"Business\",\"orientation\":\"v\",\"showlegend\":true,\"x\":[\"2022-05-30T00:00:00\",\"2022-05-31T00:00:00\",\"2022-06-01T00:00:00\",\"2022-06-06T00:00:00\",\"2022-06-07T00:00:00\",\"2022-06-08T00:00:00\",\"2022-06-09T00:00:00\",\"2022-06-10T00:00:00\",\"2022-06-12T00:00:00\",\"2022-06-13T00:00:00\",\"2022-06-14T00:00:00\",\"2022-06-15T00:00:00\",\"2022-06-16T00:00:00\",\"2022-06-17T00:00:00\",\"2022-06-19T00:00:00\",\"2022-06-21T00:00:00\",\"2022-06-22T00:00:00\",\"2022-06-23T00:00:00\",\"2022-06-28T00:00:00\",\"2022-06-30T00:00:00\",\"2022-07-02T00:00:00\",\"2022-07-03T00:00:00\",\"2022-07-05T00:00:00\",\"2022-07-07T00:00:00\",\"2022-07-08T00:00:00\",\"2022-07-09T00:00:00\",\"2022-07-10T00:00:00\",\"2022-07-11T00:00:00\",\"2022-07-12T00:00:00\",\"2022-07-13T00:00:00\",\"2022-07-14T00:00:00\",\"2022-07-15T00:00:00\",\"2022-07-16T00:00:00\",\"2022-07-17T00:00:00\",\"2022-07-18T00:00:00\",\"2022-07-19T00:00:00\",\"2022-07-20T00:00:00\",\"2022-07-21T00:00:00\",\"2022-07-22T00:00:00\",\"2022-07-26T00:00:00\",\"2022-07-27T00:00:00\",\"2022-07-28T00:00:00\",\"2022-07-29T00:00:00\",\"2022-07-31T00:00:00\",\"2022-08-01T00:00:00\",\"2022-08-03T00:00:00\",\"2022-08-04T00:00:00\",\"2022-08-05T00:00:00\",\"2022-08-06T00:00:00\",\"2022-08-07T00:00:00\",\"2022-08-08T00:00:00\",\"2022-08-09T00:00:00\",\"2022-08-10T00:00:00\",\"2022-08-12T00:00:00\",\"2022-08-14T00:00:00\",\"2022-08-16T00:00:00\",\"2022-08-19T00:00:00\",\"2022-08-21T00:00:00\",\"2022-08-22T00:00:00\",\"2022-08-23T00:00:00\",\"2022-08-24T00:00:00\",\"2022-08-25T00:00:00\",\"2022-08-26T00:00:00\",\"2022-08-27T00:00:00\",\"2022-08-28T00:00:00\",\"2022-08-29T00:00:00\",\"2022-08-30T00:00:00\",\"2022-08-31T00:00:00\",\"2022-09-01T00:00:00\",\"2022-09-02T00:00:00\",\"2022-09-06T00:00:00\",\"2022-09-07T00:00:00\",\"2022-09-08T00:00:00\",\"2022-09-09T00:00:00\",\"2022-09-10T00:00:00\",\"2022-09-12T00:00:00\",\"2022-09-13T00:00:00\",\"2022-09-14T00:00:00\",\"2022-09-15T00:00:00\",\"2022-09-16T00:00:00\",\"2022-09-18T00:00:00\",\"2022-09-19T00:00:00\",\"2022-09-22T00:00:00\",\"2022-09-26T00:00:00\",\"2022-09-27T00:00:00\",\"2022-09-28T00:00:00\",\"2022-09-29T00:00:00\",\"2022-09-30T00:00:00\",\"2022-10-02T00:00:00\",\"2022-10-03T00:00:00\",\"2022-10-04T00:00:00\",\"2022-10-05T00:00:00\",\"2022-10-06T00:00:00\",\"2022-10-07T00:00:00\",\"2022-10-08T00:00:00\",\"2022-10-09T00:00:00\",\"2022-10-10T00:00:00\",\"2022-10-11T00:00:00\",\"2022-10-13T00:00:00\",\"2022-10-14T00:00:00\",\"2022-10-15T00:00:00\",\"2022-10-16T00:00:00\",\"2022-10-17T00:00:00\",\"2022-10-19T00:00:00\",\"2022-10-20T00:00:00\",\"2022-10-21T00:00:00\",\"2022-10-22T00:00:00\",\"2022-10-23T00:00:00\",\"2022-10-24T00:00:00\",\"2022-10-25T00:00:00\",\"2022-10-26T00:00:00\",\"2022-10-27T00:00:00\",\"2022-10-28T00:00:00\",\"2022-10-29T00:00:00\",\"2022-10-30T00:00:00\",\"2022-10-31T00:00:00\",\"2022-11-01T00:00:00\",\"2022-11-02T00:00:00\",\"2022-11-03T00:00:00\",\"2022-11-04T00:00:00\",\"2022-11-05T00:00:00\",\"2022-11-06T00:00:00\",\"2022-11-07T00:00:00\",\"2022-11-08T00:00:00\",\"2022-11-09T00:00:00\",\"2022-11-10T00:00:00\",\"2022-11-11T00:00:00\",\"2022-11-12T00:00:00\",\"2022-11-13T00:00:00\",\"2022-11-14T00:00:00\",\"2022-11-15T00:00:00\",\"2022-11-16T00:00:00\",\"2022-11-17T00:00:00\",\"2022-11-18T00:00:00\",\"2022-11-19T00:00:00\",\"2022-11-20T00:00:00\",\"2022-11-21T00:00:00\",\"2022-11-22T00:00:00\",\"2022-11-23T00:00:00\",\"2022-11-24T00:00:00\",\"2022-11-25T00:00:00\",\"2022-11-26T00:00:00\",\"2022-11-27T00:00:00\",\"2022-11-28T00:00:00\",\"2022-11-29T00:00:00\"],\"xaxis\":\"x\",\"y\":[1,1,1,16,6,8,6,1,2,1,8,2,11,3,1,6,2,1,2,1,7,1,2,4,20,15,12,30,17,11,9,10,8,3,9,12,3,3,10,3,3,1,4,2,1,1,3,2,7,2,2,2,8,1,1,1,1,1,7,16,13,6,1,1,2,12,11,2,8,1,1,7,5,3,2,9,17,5,1,2,1,1,1,6,3,4,1,9,1,1,30,22,29,9,3,6,3,4,2,6,3,1,1,2,2,18,3,1,2,6,11,20,50,24,19,28,25,16,16,43,24,14,33,9,7,13,18,11,2,6,6,7,5,9,8,10,10,9,3,2,5,2,5,6,2],\"yaxis\":\"y\",\"type\":\"scatter\"},{\"hovertemplate\":\"Category=Technology<br>Date=%{x}<br>count=%{y}<extra></extra>\",\"legendgroup\":\"Technology\",\"line\":{\"color\":\"#a7a7e6\",\"dash\":\"solid\"},\"marker\":{\"symbol\":\"circle\"},\"mode\":\"lines\",\"name\":\"Technology\",\"orientation\":\"v\",\"showlegend\":true,\"x\":[\"2022-05-30T00:00:00\",\"2022-05-31T00:00:00\",\"2022-06-01T00:00:00\",\"2022-06-02T00:00:00\",\"2022-06-03T00:00:00\",\"2022-06-06T00:00:00\",\"2022-06-07T00:00:00\",\"2022-06-08T00:00:00\",\"2022-06-09T00:00:00\",\"2022-06-10T00:00:00\",\"2022-06-11T00:00:00\",\"2022-06-13T00:00:00\",\"2022-06-14T00:00:00\",\"2022-06-15T00:00:00\",\"2022-06-16T00:00:00\",\"2022-06-17T00:00:00\",\"2022-06-20T00:00:00\",\"2022-06-21T00:00:00\",\"2022-06-22T00:00:00\",\"2022-06-23T00:00:00\",\"2022-06-24T00:00:00\",\"2022-06-28T00:00:00\",\"2022-06-29T00:00:00\",\"2022-06-30T00:00:00\",\"2022-07-02T00:00:00\",\"2022-07-03T00:00:00\",\"2022-07-04T00:00:00\",\"2022-07-05T00:00:00\",\"2022-07-06T00:00:00\",\"2022-07-07T00:00:00\",\"2022-07-08T00:00:00\",\"2022-07-09T00:00:00\",\"2022-07-10T00:00:00\",\"2022-07-11T00:00:00\",\"2022-07-12T00:00:00\",\"2022-07-13T00:00:00\",\"2022-07-14T00:00:00\",\"2022-07-15T00:00:00\",\"2022-07-16T00:00:00\",\"2022-07-18T00:00:00\",\"2022-07-19T00:00:00\",\"2022-07-20T00:00:00\",\"2022-07-21T00:00:00\",\"2022-07-22T00:00:00\",\"2022-07-24T00:00:00\",\"2022-07-25T00:00:00\",\"2022-07-26T00:00:00\",\"2022-07-27T00:00:00\",\"2022-07-28T00:00:00\",\"2022-07-29T00:00:00\",\"2022-07-30T00:00:00\",\"2022-08-01T00:00:00\",\"2022-08-02T00:00:00\",\"2022-08-03T00:00:00\",\"2022-08-04T00:00:00\",\"2022-08-05T00:00:00\",\"2022-08-06T00:00:00\",\"2022-08-07T00:00:00\",\"2022-08-08T00:00:00\",\"2022-08-09T00:00:00\",\"2022-08-10T00:00:00\",\"2022-08-11T00:00:00\",\"2022-08-12T00:00:00\",\"2022-08-16T00:00:00\",\"2022-08-17T00:00:00\",\"2022-08-18T00:00:00\",\"2022-08-19T00:00:00\",\"2022-08-20T00:00:00\",\"2022-08-22T00:00:00\",\"2022-08-23T00:00:00\",\"2022-08-24T00:00:00\",\"2022-08-25T00:00:00\",\"2022-08-26T00:00:00\",\"2022-08-27T00:00:00\",\"2022-08-29T00:00:00\",\"2022-08-30T00:00:00\",\"2022-08-31T00:00:00\",\"2022-09-01T00:00:00\",\"2022-09-02T00:00:00\",\"2022-09-03T00:00:00\",\"2022-09-06T00:00:00\",\"2022-09-07T00:00:00\",\"2022-09-08T00:00:00\",\"2022-09-09T00:00:00\",\"2022-09-10T00:00:00\",\"2022-09-11T00:00:00\",\"2022-09-12T00:00:00\",\"2022-09-13T00:00:00\",\"2022-09-14T00:00:00\",\"2022-09-15T00:00:00\",\"2022-09-16T00:00:00\",\"2022-09-18T00:00:00\",\"2022-09-20T00:00:00\",\"2022-09-21T00:00:00\",\"2022-09-22T00:00:00\",\"2022-09-26T00:00:00\",\"2022-09-27T00:00:00\",\"2022-09-28T00:00:00\",\"2022-09-29T00:00:00\",\"2022-09-30T00:00:00\",\"2022-10-01T00:00:00\",\"2022-10-02T00:00:00\",\"2022-10-03T00:00:00\",\"2022-10-04T00:00:00\",\"2022-10-05T00:00:00\",\"2022-10-06T00:00:00\",\"2022-10-07T00:00:00\",\"2022-10-08T00:00:00\",\"2022-10-09T00:00:00\",\"2022-10-10T00:00:00\",\"2022-10-11T00:00:00\",\"2022-10-12T00:00:00\",\"2022-10-13T00:00:00\",\"2022-10-14T00:00:00\",\"2022-10-15T00:00:00\",\"2022-10-17T00:00:00\",\"2022-10-18T00:00:00\",\"2022-10-19T00:00:00\",\"2022-10-20T00:00:00\",\"2022-10-21T00:00:00\",\"2022-10-22T00:00:00\",\"2022-10-24T00:00:00\",\"2022-10-25T00:00:00\",\"2022-10-26T00:00:00\",\"2022-10-27T00:00:00\",\"2022-10-28T00:00:00\",\"2022-10-29T00:00:00\",\"2022-10-30T00:00:00\",\"2022-10-31T00:00:00\",\"2022-11-01T00:00:00\",\"2022-11-02T00:00:00\",\"2022-11-03T00:00:00\",\"2022-11-04T00:00:00\",\"2022-11-05T00:00:00\",\"2022-11-06T00:00:00\",\"2022-11-07T00:00:00\",\"2022-11-08T00:00:00\",\"2022-11-09T00:00:00\",\"2022-11-10T00:00:00\",\"2022-11-11T00:00:00\",\"2022-11-12T00:00:00\",\"2022-11-13T00:00:00\",\"2022-11-14T00:00:00\",\"2022-11-15T00:00:00\",\"2022-11-16T00:00:00\",\"2022-11-17T00:00:00\",\"2022-11-18T00:00:00\",\"2022-11-19T00:00:00\",\"2022-11-20T00:00:00\",\"2022-11-21T00:00:00\",\"2022-11-22T00:00:00\",\"2022-11-23T00:00:00\",\"2022-11-24T00:00:00\",\"2022-11-25T00:00:00\",\"2022-11-26T00:00:00\",\"2022-11-27T00:00:00\",\"2022-11-28T00:00:00\",\"2022-11-29T00:00:00\"],\"xaxis\":\"x\",\"y\":[1,2,8,4,2,13,9,14,6,4,1,2,9,3,9,5,1,5,7,1,3,3,1,2,2,4,2,5,1,11,25,10,3,19,17,16,17,12,4,5,16,7,4,11,1,1,5,6,6,12,3,4,5,6,6,7,4,3,5,4,7,6,4,2,2,1,3,2,7,25,15,17,6,2,7,20,3,16,2,4,4,14,7,7,2,1,7,27,2,3,4,1,5,5,3,4,1,8,6,8,2,1,9,22,21,24,13,3,5,5,10,2,3,7,2,3,4,3,7,7,1,4,5,18,19,62,20,13,45,30,17,26,57,21,19,30,20,12,19,25,16,2,12,15,25,6,27,12,17,5,20,12,12,18,3,7,19,2],\"yaxis\":\"y\",\"type\":\"scatter\"},{\"hovertemplate\":\"Category=Top<br>Date=%{x}<br>count=%{y}<extra></extra>\",\"legendgroup\":\"Top\",\"line\":{\"color\":\"#f0b98d\",\"dash\":\"solid\"},\"marker\":{\"symbol\":\"circle\"},\"mode\":\"lines\",\"name\":\"Top\",\"orientation\":\"v\",\"showlegend\":true,\"x\":[\"2022-05-30T00:00:00\",\"2022-05-31T00:00:00\",\"2022-06-01T00:00:00\",\"2022-06-02T00:00:00\",\"2022-06-03T00:00:00\",\"2022-06-05T00:00:00\",\"2022-06-06T00:00:00\",\"2022-06-07T00:00:00\",\"2022-06-08T00:00:00\",\"2022-06-09T00:00:00\",\"2022-06-10T00:00:00\",\"2022-06-11T00:00:00\",\"2022-06-12T00:00:00\",\"2022-06-13T00:00:00\",\"2022-06-14T00:00:00\",\"2022-06-15T00:00:00\",\"2022-06-16T00:00:00\",\"2022-06-17T00:00:00\",\"2022-06-18T00:00:00\",\"2022-06-19T00:00:00\",\"2022-06-20T00:00:00\",\"2022-06-21T00:00:00\",\"2022-06-22T00:00:00\",\"2022-06-23T00:00:00\",\"2022-06-24T00:00:00\",\"2022-06-25T00:00:00\",\"2022-06-26T00:00:00\",\"2022-06-27T00:00:00\",\"2022-06-28T00:00:00\",\"2022-06-29T00:00:00\",\"2022-06-30T00:00:00\",\"2022-07-01T00:00:00\",\"2022-07-02T00:00:00\",\"2022-07-03T00:00:00\",\"2022-07-04T00:00:00\",\"2022-07-05T00:00:00\",\"2022-07-06T00:00:00\",\"2022-07-07T00:00:00\",\"2022-07-08T00:00:00\",\"2022-07-09T00:00:00\",\"2022-07-10T00:00:00\",\"2022-07-11T00:00:00\",\"2022-07-12T00:00:00\",\"2022-07-13T00:00:00\",\"2022-07-14T00:00:00\",\"2022-07-15T00:00:00\",\"2022-07-16T00:00:00\",\"2022-07-17T00:00:00\",\"2022-07-18T00:00:00\",\"2022-07-19T00:00:00\",\"2022-07-20T00:00:00\",\"2022-07-21T00:00:00\",\"2022-07-22T00:00:00\",\"2022-07-23T00:00:00\",\"2022-07-24T00:00:00\",\"2022-07-25T00:00:00\",\"2022-07-26T00:00:00\",\"2022-07-27T00:00:00\",\"2022-07-28T00:00:00\",\"2022-07-29T00:00:00\",\"2022-07-30T00:00:00\",\"2022-07-31T00:00:00\",\"2022-08-01T00:00:00\",\"2022-08-02T00:00:00\",\"2022-08-03T00:00:00\",\"2022-08-04T00:00:00\",\"2022-08-05T00:00:00\",\"2022-08-06T00:00:00\",\"2022-08-07T00:00:00\",\"2022-08-08T00:00:00\",\"2022-08-09T00:00:00\",\"2022-08-10T00:00:00\",\"2022-08-11T00:00:00\",\"2022-08-12T00:00:00\",\"2022-08-13T00:00:00\",\"2022-08-14T00:00:00\",\"2022-08-15T00:00:00\",\"2022-08-16T00:00:00\",\"2022-08-17T00:00:00\",\"2022-08-18T00:00:00\",\"2022-08-19T00:00:00\",\"2022-08-20T00:00:00\",\"2022-08-21T00:00:00\",\"2022-08-22T00:00:00\",\"2022-08-23T00:00:00\",\"2022-08-24T00:00:00\",\"2022-08-25T00:00:00\",\"2022-08-26T00:00:00\",\"2022-08-27T00:00:00\",\"2022-08-28T00:00:00\",\"2022-08-29T00:00:00\",\"2022-08-30T00:00:00\",\"2022-08-31T00:00:00\",\"2022-09-01T00:00:00\",\"2022-09-02T00:00:00\",\"2022-09-03T00:00:00\",\"2022-09-04T00:00:00\",\"2022-09-05T00:00:00\",\"2022-09-06T00:00:00\",\"2022-09-07T00:00:00\",\"2022-09-08T00:00:00\",\"2022-09-09T00:00:00\",\"2022-09-10T00:00:00\",\"2022-09-11T00:00:00\",\"2022-09-12T00:00:00\",\"2022-09-13T00:00:00\",\"2022-09-14T00:00:00\",\"2022-09-15T00:00:00\",\"2022-09-16T00:00:00\",\"2022-09-17T00:00:00\",\"2022-09-18T00:00:00\",\"2022-09-19T00:00:00\",\"2022-09-20T00:00:00\",\"2022-09-21T00:00:00\",\"2022-09-22T00:00:00\",\"2022-09-23T00:00:00\",\"2022-09-24T00:00:00\",\"2022-09-25T00:00:00\",\"2022-09-26T00:00:00\",\"2022-09-27T00:00:00\",\"2022-09-28T00:00:00\",\"2022-09-29T00:00:00\",\"2022-09-30T00:00:00\",\"2022-10-01T00:00:00\",\"2022-10-02T00:00:00\",\"2022-10-03T00:00:00\",\"2022-10-04T00:00:00\",\"2022-10-05T00:00:00\",\"2022-10-06T00:00:00\",\"2022-10-07T00:00:00\",\"2022-10-08T00:00:00\",\"2022-10-09T00:00:00\",\"2022-10-10T00:00:00\",\"2022-10-11T00:00:00\",\"2022-10-12T00:00:00\",\"2022-10-13T00:00:00\",\"2022-10-14T00:00:00\",\"2022-10-15T00:00:00\",\"2022-10-17T00:00:00\",\"2022-10-18T00:00:00\",\"2022-10-19T00:00:00\",\"2022-10-20T00:00:00\",\"2022-10-21T00:00:00\",\"2022-10-22T00:00:00\",\"2022-10-23T00:00:00\",\"2022-10-24T00:00:00\",\"2022-10-25T00:00:00\",\"2022-10-26T00:00:00\",\"2022-10-27T00:00:00\",\"2022-10-28T00:00:00\",\"2022-10-29T00:00:00\",\"2022-10-30T00:00:00\",\"2022-10-31T00:00:00\",\"2022-11-01T00:00:00\",\"2022-11-02T00:00:00\",\"2022-11-03T00:00:00\",\"2022-11-04T00:00:00\",\"2022-11-05T00:00:00\",\"2022-11-06T00:00:00\",\"2022-11-07T00:00:00\",\"2022-11-08T00:00:00\",\"2022-11-09T00:00:00\",\"2022-11-10T00:00:00\",\"2022-11-11T00:00:00\",\"2022-11-12T00:00:00\",\"2022-11-13T00:00:00\",\"2022-11-14T00:00:00\",\"2022-11-15T00:00:00\",\"2022-11-16T00:00:00\",\"2022-11-17T00:00:00\",\"2022-11-18T00:00:00\",\"2022-11-19T00:00:00\",\"2022-11-20T00:00:00\",\"2022-11-21T00:00:00\",\"2022-11-22T00:00:00\",\"2022-11-23T00:00:00\",\"2022-11-24T00:00:00\",\"2022-11-25T00:00:00\",\"2022-11-26T00:00:00\",\"2022-11-27T00:00:00\",\"2022-11-28T00:00:00\",\"2022-11-29T00:00:00\"],\"xaxis\":\"x\",\"y\":[1,3,7,4,7,4,11,5,12,10,7,2,6,7,13,6,25,9,6,2,5,10,10,9,5,2,3,5,1,1,11,2,11,5,4,5,5,5,33,20,9,24,24,13,15,7,8,4,9,17,7,8,13,4,4,8,6,2,6,8,9,3,2,5,5,8,12,5,6,10,7,17,3,4,2,1,5,4,7,6,2,4,2,10,27,17,16,12,2,3,3,16,9,17,2,4,2,3,5,9,12,2,3,3,5,33,5,5,3,6,2,3,6,5,7,4,1,3,6,8,6,9,11,9,2,7,40,34,23,12,6,8,11,11,5,4,8,3,9,7,7,7,19,5,6,8,22,24,41,107,39,31,55,52,44,47,93,52,37,48,40,16,21,25,14,9,11,9,8,12,32,13,21,18,12,14,13,13,8,7,17,5],\"yaxis\":\"y\",\"type\":\"scatter\"},{\"hovertemplate\":\"Category=Other<br>Date=%{x}<br>count=%{y}<extra></extra>\",\"legendgroup\":\"Other\",\"line\":{\"color\":\"#d61818\",\"dash\":\"solid\"},\"marker\":{\"symbol\":\"circle\"},\"mode\":\"lines\",\"name\":\"Other\",\"orientation\":\"v\",\"showlegend\":true,\"x\":[\"2022-06-01T00:00:00\",\"2022-06-13T00:00:00\",\"2022-06-14T00:00:00\",\"2022-06-15T00:00:00\",\"2022-07-09T00:00:00\",\"2022-07-11T00:00:00\",\"2022-07-12T00:00:00\",\"2022-07-14T00:00:00\",\"2022-07-22T00:00:00\",\"2022-08-04T00:00:00\",\"2022-08-09T00:00:00\",\"2022-08-10T00:00:00\",\"2022-08-16T00:00:00\",\"2022-08-18T00:00:00\",\"2022-08-19T00:00:00\",\"2022-08-23T00:00:00\",\"2022-08-24T00:00:00\",\"2022-08-25T00:00:00\",\"2022-08-28T00:00:00\",\"2022-08-31T00:00:00\",\"2022-09-01T00:00:00\",\"2022-09-02T00:00:00\",\"2022-09-07T00:00:00\",\"2022-09-08T00:00:00\",\"2022-09-13T00:00:00\",\"2022-09-16T00:00:00\",\"2022-09-26T00:00:00\",\"2022-10-03T00:00:00\",\"2022-10-04T00:00:00\",\"2022-10-05T00:00:00\",\"2022-10-06T00:00:00\",\"2022-10-07T00:00:00\",\"2022-10-09T00:00:00\",\"2022-10-10T00:00:00\",\"2022-10-14T00:00:00\",\"2022-10-15T00:00:00\",\"2022-10-19T00:00:00\",\"2022-10-20T00:00:00\",\"2022-10-21T00:00:00\",\"2022-10-27T00:00:00\",\"2022-10-28T00:00:00\",\"2022-10-29T00:00:00\",\"2022-10-30T00:00:00\",\"2022-10-31T00:00:00\",\"2022-11-01T00:00:00\",\"2022-11-02T00:00:00\",\"2022-11-03T00:00:00\",\"2022-11-05T00:00:00\",\"2022-11-06T00:00:00\",\"2022-11-07T00:00:00\",\"2022-11-09T00:00:00\",\"2022-11-10T00:00:00\",\"2022-11-11T00:00:00\",\"2022-11-12T00:00:00\",\"2022-11-13T00:00:00\",\"2022-11-14T00:00:00\",\"2022-11-15T00:00:00\",\"2022-11-16T00:00:00\",\"2022-11-17T00:00:00\",\"2022-11-18T00:00:00\",\"2022-11-19T00:00:00\",\"2022-11-20T00:00:00\",\"2022-11-21T00:00:00\",\"2022-11-22T00:00:00\",\"2022-11-24T00:00:00\",\"2022-11-25T00:00:00\",\"2022-11-28T00:00:00\"],\"xaxis\":\"x\",\"y\":[1,1,2,1,1,1,1,2,1,1,3,2,1,1,1,2,2,1,2,1,1,1,1,2,3,1,1,1,5,2,3,2,1,2,1,1,1,1,1,4,3,3,2,3,4,1,1,2,3,3,2,3,3,2,1,1,2,2,2,2,2,7,4,2,5,1,1],\"yaxis\":\"y\",\"type\":\"scatter\"}],                        {\"template\":{\"data\":{\"histogram2dcontour\":[{\"type\":\"histogram2dcontour\",\"colorbar\":{\"outlinewidth\":0,\"ticks\":\"\"},\"colorscale\":[[0.0,\"#0d0887\"],[0.1111111111111111,\"#46039f\"],[0.2222222222222222,\"#7201a8\"],[0.3333333333333333,\"#9c179e\"],[0.4444444444444444,\"#bd3786\"],[0.5555555555555556,\"#d8576b\"],[0.6666666666666666,\"#ed7953\"],[0.7777777777777778,\"#fb9f3a\"],[0.8888888888888888,\"#fdca26\"],[1.0,\"#f0f921\"]]}],\"choropleth\":[{\"type\":\"choropleth\",\"colorbar\":{\"outlinewidth\":0,\"ticks\":\"\"}}],\"histogram2d\":[{\"type\":\"histogram2d\",\"colorbar\":{\"outlinewidth\":0,\"ticks\":\"\"},\"colorscale\":[[0.0,\"#0d0887\"],[0.1111111111111111,\"#46039f\"],[0.2222222222222222,\"#7201a8\"],[0.3333333333333333,\"#9c179e\"],[0.4444444444444444,\"#bd3786\"],[0.5555555555555556,\"#d8576b\"],[0.6666666666666666,\"#ed7953\"],[0.7777777777777778,\"#fb9f3a\"],[0.8888888888888888,\"#fdca26\"],[1.0,\"#f0f921\"]]}],\"heatmap\":[{\"type\":\"heatmap\",\"colorbar\":{\"outlinewidth\":0,\"ticks\":\"\"},\"colorscale\":[[0.0,\"#0d0887\"],[0.1111111111111111,\"#46039f\"],[0.2222222222222222,\"#7201a8\"],[0.3333333333333333,\"#9c179e\"],[0.4444444444444444,\"#bd3786\"],[0.5555555555555556,\"#d8576b\"],[0.6666666666666666,\"#ed7953\"],[0.7777777777777778,\"#fb9f3a\"],[0.8888888888888888,\"#fdca26\"],[1.0,\"#f0f921\"]]}],\"heatmapgl\":[{\"type\":\"heatmapgl\",\"colorbar\":{\"outlinewidth\":0,\"ticks\":\"\"},\"colorscale\":[[0.0,\"#0d0887\"],[0.1111111111111111,\"#46039f\"],[0.2222222222222222,\"#7201a8\"],[0.3333333333333333,\"#9c179e\"],[0.4444444444444444,\"#bd3786\"],[0.5555555555555556,\"#d8576b\"],[0.6666666666666666,\"#ed7953\"],[0.7777777777777778,\"#fb9f3a\"],[0.8888888888888888,\"#fdca26\"],[1.0,\"#f0f921\"]]}],\"contourcarpet\":[{\"type\":\"contourcarpet\",\"colorbar\":{\"outlinewidth\":0,\"ticks\":\"\"}}],\"contour\":[{\"type\":\"contour\",\"colorbar\":{\"outlinewidth\":0,\"ticks\":\"\"},\"colorscale\":[[0.0,\"#0d0887\"],[0.1111111111111111,\"#46039f\"],[0.2222222222222222,\"#7201a8\"],[0.3333333333333333,\"#9c179e\"],[0.4444444444444444,\"#bd3786\"],[0.5555555555555556,\"#d8576b\"],[0.6666666666666666,\"#ed7953\"],[0.7777777777777778,\"#fb9f3a\"],[0.8888888888888888,\"#fdca26\"],[1.0,\"#f0f921\"]]}],\"surface\":[{\"type\":\"surface\",\"colorbar\":{\"outlinewidth\":0,\"ticks\":\"\"},\"colorscale\":[[0.0,\"#0d0887\"],[0.1111111111111111,\"#46039f\"],[0.2222222222222222,\"#7201a8\"],[0.3333333333333333,\"#9c179e\"],[0.4444444444444444,\"#bd3786\"],[0.5555555555555556,\"#d8576b\"],[0.6666666666666666,\"#ed7953\"],[0.7777777777777778,\"#fb9f3a\"],[0.8888888888888888,\"#fdca26\"],[1.0,\"#f0f921\"]]}],\"mesh3d\":[{\"type\":\"mesh3d\",\"colorbar\":{\"outlinewidth\":0,\"ticks\":\"\"}}],\"scatter\":[{\"fillpattern\":{\"fillmode\":\"overlay\",\"size\":10,\"solidity\":0.2},\"type\":\"scatter\"}],\"parcoords\":[{\"type\":\"parcoords\",\"line\":{\"colorbar\":{\"outlinewidth\":0,\"ticks\":\"\"}}}],\"scatterpolargl\":[{\"type\":\"scatterpolargl\",\"marker\":{\"colorbar\":{\"outlinewidth\":0,\"ticks\":\"\"}}}],\"bar\":[{\"error_x\":{\"color\":\"#2a3f5f\"},\"error_y\":{\"color\":\"#2a3f5f\"},\"marker\":{\"line\":{\"color\":\"#E5ECF6\",\"width\":0.5},\"pattern\":{\"fillmode\":\"overlay\",\"size\":10,\"solidity\":0.2}},\"type\":\"bar\"}],\"scattergeo\":[{\"type\":\"scattergeo\",\"marker\":{\"colorbar\":{\"outlinewidth\":0,\"ticks\":\"\"}}}],\"scatterpolar\":[{\"type\":\"scatterpolar\",\"marker\":{\"colorbar\":{\"outlinewidth\":0,\"ticks\":\"\"}}}],\"histogram\":[{\"marker\":{\"pattern\":{\"fillmode\":\"overlay\",\"size\":10,\"solidity\":0.2}},\"type\":\"histogram\"}],\"scattergl\":[{\"type\":\"scattergl\",\"marker\":{\"colorbar\":{\"outlinewidth\":0,\"ticks\":\"\"}}}],\"scatter3d\":[{\"type\":\"scatter3d\",\"line\":{\"colorbar\":{\"outlinewidth\":0,\"ticks\":\"\"}},\"marker\":{\"colorbar\":{\"outlinewidth\":0,\"ticks\":\"\"}}}],\"scattermapbox\":[{\"type\":\"scattermapbox\",\"marker\":{\"colorbar\":{\"outlinewidth\":0,\"ticks\":\"\"}}}],\"scatterternary\":[{\"type\":\"scatterternary\",\"marker\":{\"colorbar\":{\"outlinewidth\":0,\"ticks\":\"\"}}}],\"scattercarpet\":[{\"type\":\"scattercarpet\",\"marker\":{\"colorbar\":{\"outlinewidth\":0,\"ticks\":\"\"}}}],\"carpet\":[{\"aaxis\":{\"endlinecolor\":\"#2a3f5f\",\"gridcolor\":\"white\",\"linecolor\":\"white\",\"minorgridcolor\":\"white\",\"startlinecolor\":\"#2a3f5f\"},\"baxis\":{\"endlinecolor\":\"#2a3f5f\",\"gridcolor\":\"white\",\"linecolor\":\"white\",\"minorgridcolor\":\"white\",\"startlinecolor\":\"#2a3f5f\"},\"type\":\"carpet\"}],\"table\":[{\"cells\":{\"fill\":{\"color\":\"#EBF0F8\"},\"line\":{\"color\":\"white\"}},\"header\":{\"fill\":{\"color\":\"#C8D4E3\"},\"line\":{\"color\":\"white\"}},\"type\":\"table\"}],\"barpolar\":[{\"marker\":{\"line\":{\"color\":\"#E5ECF6\",\"width\":0.5},\"pattern\":{\"fillmode\":\"overlay\",\"size\":10,\"solidity\":0.2}},\"type\":\"barpolar\"}],\"pie\":[{\"automargin\":true,\"type\":\"pie\"}]},\"layout\":{\"autotypenumbers\":\"strict\",\"colorway\":[\"#636efa\",\"#EF553B\",\"#00cc96\",\"#ab63fa\",\"#FFA15A\",\"#19d3f3\",\"#FF6692\",\"#B6E880\",\"#FF97FF\",\"#FECB52\"],\"font\":{\"color\":\"#2a3f5f\"},\"hovermode\":\"closest\",\"hoverlabel\":{\"align\":\"left\"},\"paper_bgcolor\":\"white\",\"plot_bgcolor\":\"#E5ECF6\",\"polar\":{\"bgcolor\":\"#E5ECF6\",\"angularaxis\":{\"gridcolor\":\"white\",\"linecolor\":\"white\",\"ticks\":\"\"},\"radialaxis\":{\"gridcolor\":\"white\",\"linecolor\":\"white\",\"ticks\":\"\"}},\"ternary\":{\"bgcolor\":\"#E5ECF6\",\"aaxis\":{\"gridcolor\":\"white\",\"linecolor\":\"white\",\"ticks\":\"\"},\"baxis\":{\"gridcolor\":\"white\",\"linecolor\":\"white\",\"ticks\":\"\"},\"caxis\":{\"gridcolor\":\"white\",\"linecolor\":\"white\",\"ticks\":\"\"}},\"coloraxis\":{\"colorbar\":{\"outlinewidth\":0,\"ticks\":\"\"}},\"colorscale\":{\"sequential\":[[0.0,\"#0d0887\"],[0.1111111111111111,\"#46039f\"],[0.2222222222222222,\"#7201a8\"],[0.3333333333333333,\"#9c179e\"],[0.4444444444444444,\"#bd3786\"],[0.5555555555555556,\"#d8576b\"],[0.6666666666666666,\"#ed7953\"],[0.7777777777777778,\"#fb9f3a\"],[0.8888888888888888,\"#fdca26\"],[1.0,\"#f0f921\"]],\"sequentialminus\":[[0.0,\"#0d0887\"],[0.1111111111111111,\"#46039f\"],[0.2222222222222222,\"#7201a8\"],[0.3333333333333333,\"#9c179e\"],[0.4444444444444444,\"#bd3786\"],[0.5555555555555556,\"#d8576b\"],[0.6666666666666666,\"#ed7953\"],[0.7777777777777778,\"#fb9f3a\"],[0.8888888888888888,\"#fdca26\"],[1.0,\"#f0f921\"]],\"diverging\":[[0,\"#8e0152\"],[0.1,\"#c51b7d\"],[0.2,\"#de77ae\"],[0.3,\"#f1b6da\"],[0.4,\"#fde0ef\"],[0.5,\"#f7f7f7\"],[0.6,\"#e6f5d0\"],[0.7,\"#b8e186\"],[0.8,\"#7fbc41\"],[0.9,\"#4d9221\"],[1,\"#276419\"]]},\"xaxis\":{\"gridcolor\":\"white\",\"linecolor\":\"white\",\"ticks\":\"\",\"title\":{\"standoff\":15},\"zerolinecolor\":\"white\",\"automargin\":true,\"zerolinewidth\":2},\"yaxis\":{\"gridcolor\":\"white\",\"linecolor\":\"white\",\"ticks\":\"\",\"title\":{\"standoff\":15},\"zerolinecolor\":\"white\",\"automargin\":true,\"zerolinewidth\":2},\"scene\":{\"xaxis\":{\"backgroundcolor\":\"#E5ECF6\",\"gridcolor\":\"white\",\"linecolor\":\"white\",\"showbackground\":true,\"ticks\":\"\",\"zerolinecolor\":\"white\",\"gridwidth\":2},\"yaxis\":{\"backgroundcolor\":\"#E5ECF6\",\"gridcolor\":\"white\",\"linecolor\":\"white\",\"showbackground\":true,\"ticks\":\"\",\"zerolinecolor\":\"white\",\"gridwidth\":2},\"zaxis\":{\"backgroundcolor\":\"#E5ECF6\",\"gridcolor\":\"white\",\"linecolor\":\"white\",\"showbackground\":true,\"ticks\":\"\",\"zerolinecolor\":\"white\",\"gridwidth\":2}},\"shapedefaults\":{\"line\":{\"color\":\"#2a3f5f\"}},\"annotationdefaults\":{\"arrowcolor\":\"#2a3f5f\",\"arrowhead\":0,\"arrowwidth\":1},\"geo\":{\"bgcolor\":\"white\",\"landcolor\":\"#E5ECF6\",\"subunitcolor\":\"white\",\"showland\":true,\"showlakes\":true,\"lakecolor\":\"white\"},\"title\":{\"x\":0.05},\"mapbox\":{\"style\":\"light\"}}},\"xaxis\":{\"anchor\":\"y\",\"domain\":[0.0,1.0],\"title\":{\"text\":\"Date\"}},\"yaxis\":{\"anchor\":\"x\",\"domain\":[0.0,1.0],\"title\":{\"text\":\"count\"}},\"legend\":{\"title\":{\"text\":\"Category\"},\"tracegroupgap\":0},\"margin\":{\"t\":60}},                        {\"responsive\": true}                    ).then(function(){\n",
       "                            \n",
       "var gd = document.getElementById('9999f063-42d8-41e9-9031-b6cf2e60c95a');\n",
       "var x = new MutationObserver(function (mutations, observer) {{\n",
       "        var display = window.getComputedStyle(gd).display;\n",
       "        if (!display || display === 'none') {{\n",
       "            console.log([gd, 'removed!']);\n",
       "            Plotly.purge(gd);\n",
       "            observer.disconnect();\n",
       "        }}\n",
       "}});\n",
       "\n",
       "// Listen for the removal of the full notebook cells\n",
       "var notebookContainer = gd.closest('#notebook-container');\n",
       "if (notebookContainer) {{\n",
       "    x.observe(notebookContainer, {childList: true});\n",
       "}}\n",
       "\n",
       "// Listen for the clearing of the current output cell\n",
       "var outputEl = gd.closest('.output');\n",
       "if (outputEl) {{\n",
       "    x.observe(outputEl, {childList: true});\n",
       "}}\n",
       "\n",
       "                        })                };                });            </script>        </div>"
      ]
     },
     "metadata": {},
     "output_type": "display_data"
    }
   ],
   "source": [
    "custom_palette = ['#3b4cc0', '#a7a7e6', '#f0b98d', '#d61818']\n",
    "fig = px.line(counts, x=\"Date\", y=\"count\", color=\"Category\", color_discrete_sequence=custom_palette)\n",
    "fig"
   ]
  },
  {
   "cell_type": "code",
   "execution_count": 112,
   "id": "8951e9ae",
   "metadata": {},
   "outputs": [
    {
     "data": {
      "text/plain": [
       "'name.html'"
      ]
     },
     "execution_count": 112,
     "metadata": {},
     "output_type": "execute_result"
    }
   ],
   "source": [
    "plotly.offline.plot(fig, filename='.html')"
   ]
  },
  {
   "cell_type": "code",
   "execution_count": 104,
   "id": "4a21e7d0",
   "metadata": {},
   "outputs": [
    {
     "data": {
      "text/html": [
       "<div>\n",
       "<style scoped>\n",
       "    .dataframe tbody tr th:only-of-type {\n",
       "        vertical-align: middle;\n",
       "    }\n",
       "\n",
       "    .dataframe tbody tr th {\n",
       "        vertical-align: top;\n",
       "    }\n",
       "\n",
       "    .dataframe thead th {\n",
       "        text-align: right;\n",
       "    }\n",
       "</style>\n",
       "<table border=\"1\" class=\"dataframe\">\n",
       "  <thead>\n",
       "    <tr style=\"text-align: right;\">\n",
       "      <th></th>\n",
       "      <th>Title</th>\n",
       "      <th>Article Link</th>\n",
       "      <th>Published Date (Gmt)</th>\n",
       "      <th>Author</th>\n",
       "      <th>Publisher</th>\n",
       "      <th>Country</th>\n",
       "      <th>Category</th>\n",
       "      <th>Language</th>\n",
       "      <th>Description</th>\n",
       "      <th>Date</th>\n",
       "    </tr>\n",
       "  </thead>\n",
       "  <tbody>\n",
       "    <tr>\n",
       "      <th>0</th>\n",
       "      <td>\"Mark Cuban Calls Elon Musk 'Judge And Jury' O...</td>\n",
       "      <td>https://www.benzinga.com/news/22/11/29885272/m...</td>\n",
       "      <td>2022-11-29 12:36:03</td>\n",
       "      <td>Unknown</td>\n",
       "      <td>Benzinga</td>\n",
       "      <td>United States Of America</td>\n",
       "      <td>Top</td>\n",
       "      <td>English</td>\n",
       "      <td>Elon Musk-led Twitter lacks transparency, acco...</td>\n",
       "      <td>2022-11-29</td>\n",
       "    </tr>\n",
       "    <tr>\n",
       "      <th>1</th>\n",
       "      <td>\"Twitter's 'Big Bang' — Elon Musk's 'General A...</td>\n",
       "      <td>https://www.benzinga.com/news/22/11/29881698/t...</td>\n",
       "      <td>2022-11-29 11:35:43</td>\n",
       "      <td>Unknown</td>\n",
       "      <td>Benzinga</td>\n",
       "      <td>United States Of America</td>\n",
       "      <td>Top</td>\n",
       "      <td>English</td>\n",
       "      <td>Twitter is going through a rollercoaster ride....</td>\n",
       "      <td>2022-11-29</td>\n",
       "    </tr>\n",
       "    <tr>\n",
       "      <th>2</th>\n",
       "      <td>\"Twitter owner Musk signals new 'war' against ...</td>\n",
       "      <td>https://techxplore.com/news/2022-11-twitter-ow...</td>\n",
       "      <td>2022-11-29 09:39:18</td>\n",
       "      <td>Unknown</td>\n",
       "      <td>Phys.org</td>\n",
       "      <td>United States Of America</td>\n",
       "      <td>Technology</td>\n",
       "      <td>English</td>\n",
       "      <td>Twitter owner Elon Musk on Monday opened fire ...</td>\n",
       "      <td>2022-11-29</td>\n",
       "    </tr>\n",
       "    <tr>\n",
       "      <th>3</th>\n",
       "      <td>\"Chinese police are now conducting random stop...</td>\n",
       "      <td>https://www.businessinsider.com/chinese-police...</td>\n",
       "      <td>2022-11-29 08:30:16</td>\n",
       "      <td>Unknown</td>\n",
       "      <td>Business Insider</td>\n",
       "      <td>United States Of America</td>\n",
       "      <td>Top</td>\n",
       "      <td>English</td>\n",
       "      <td>Certain foreign social media apps are banned i...</td>\n",
       "      <td>2022-11-29</td>\n",
       "    </tr>\n",
       "    <tr>\n",
       "      <th>4</th>\n",
       "      <td>\"Twitter Downloads Surge In China Amid Protest...</td>\n",
       "      <td>https://www.benzinga.com/news/22/11/29882264/t...</td>\n",
       "      <td>2022-11-29 07:48:17</td>\n",
       "      <td>Unknown</td>\n",
       "      <td>Benzinga</td>\n",
       "      <td>United States Of America</td>\n",
       "      <td>Top</td>\n",
       "      <td>English</td>\n",
       "      <td>read more</td>\n",
       "      <td>2022-11-29</td>\n",
       "    </tr>\n",
       "  </tbody>\n",
       "</table>\n",
       "</div>"
      ],
      "text/plain": [
       "                                               Title  \\\n",
       "0  \"Mark Cuban Calls Elon Musk 'Judge And Jury' O...   \n",
       "1  \"Twitter's 'Big Bang' — Elon Musk's 'General A...   \n",
       "2  \"Twitter owner Musk signals new 'war' against ...   \n",
       "3  \"Chinese police are now conducting random stop...   \n",
       "4  \"Twitter Downloads Surge In China Amid Protest...   \n",
       "\n",
       "                                        Article Link Published Date (Gmt)  \\\n",
       "0  https://www.benzinga.com/news/22/11/29885272/m...  2022-11-29 12:36:03   \n",
       "1  https://www.benzinga.com/news/22/11/29881698/t...  2022-11-29 11:35:43   \n",
       "2  https://techxplore.com/news/2022-11-twitter-ow...  2022-11-29 09:39:18   \n",
       "3  https://www.businessinsider.com/chinese-police...  2022-11-29 08:30:16   \n",
       "4  https://www.benzinga.com/news/22/11/29882264/t...  2022-11-29 07:48:17   \n",
       "\n",
       "    Author         Publisher                   Country    Category Language  \\\n",
       "0  Unknown          Benzinga  United States Of America         Top  English   \n",
       "1  Unknown          Benzinga  United States Of America         Top  English   \n",
       "2  Unknown          Phys.org  United States Of America  Technology  English   \n",
       "3  Unknown  Business Insider  United States Of America         Top  English   \n",
       "4  Unknown          Benzinga  United States Of America         Top  English   \n",
       "\n",
       "                                         Description       Date  \n",
       "0  Elon Musk-led Twitter lacks transparency, acco... 2022-11-29  \n",
       "1  Twitter is going through a rollercoaster ride.... 2022-11-29  \n",
       "2  Twitter owner Elon Musk on Monday opened fire ... 2022-11-29  \n",
       "3  Certain foreign social media apps are banned i... 2022-11-29  \n",
       "4                                          read more 2022-11-29  "
      ]
     },
     "execution_count": 104,
     "metadata": {},
     "output_type": "execute_result"
    }
   ],
   "source": [
    "records.head()"
   ]
  },
  {
   "cell_type": "code",
   "execution_count": 107,
   "id": "00284390",
   "metadata": {},
   "outputs": [],
   "source": [
    "records.to_csv('records_2')"
   ]
  }
 ],
 "metadata": {
  "kernelspec": {
   "display_name": "Python 3 (ipykernel)",
   "language": "python",
   "name": "python3"
  },
  "language_info": {
   "codemirror_mode": {
    "name": "ipython",
    "version": 3
   },
   "file_extension": ".py",
   "mimetype": "text/x-python",
   "name": "python",
   "nbconvert_exporter": "python",
   "pygments_lexer": "ipython3",
   "version": "3.7.1"
  }
 },
 "nbformat": 4,
 "nbformat_minor": 5
}
