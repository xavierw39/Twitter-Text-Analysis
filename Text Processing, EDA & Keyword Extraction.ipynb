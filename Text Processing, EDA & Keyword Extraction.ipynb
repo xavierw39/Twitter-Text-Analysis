{
  "nbformat": 4,
  "nbformat_minor": 0,
  "metadata": {
    "colab": {
      "provenance": [],
      "collapsed_sections": [
        "ma9jxo3EBYwW",
        "bwwq9Rrm5Jab",
        "w465mLI-WUoW",
        "67CWxMe_c6Yh",
        "FBNPNXBGAxXy",
        "kHM_tlTYqSGx"
      ],
      "include_colab_link": true
    },
    "kernelspec": {
      "name": "python3",
      "display_name": "Python 3"
    },
    "language_info": {
      "name": "python"
    }
  },
  "cells": [
    {
      "cell_type": "markdown",
      "metadata": {
        "id": "view-in-github",
        "colab_type": "text"
      },
      "source": [
        "<a href=\"https://colab.research.google.com/github/xavierw39/Twitter-Text-Analysis/blob/main/Text%20Processing%2C%20EDA%20%26%20Keyword%20Extraction.ipynb\" target=\"_parent\"><img src=\"https://colab.research.google.com/assets/colab-badge.svg\" alt=\"Open In Colab\"/></a>"
      ]
    },
    {
      "cell_type": "markdown",
      "source": [
        "## Introduction\n",
        "### Background\n",
        "On April 14, 2022, Elon Musk, the founder of Tesla and SpaceX, announced his intention to acquire Twitter. The acquisition was settled six months later. In these months, many incidents have happened that reflected the confrontations and negotiations between the social platform and the business magnate.\n",
        "\n",
        "### Project Introduction\n",
        "This project uses Newsdata API to extract from the web about 5000 Twitter-related news articles from May to November 2022. This project includes:  \n",
        "* a short description of API data extraction process\n",
        "* text processing \n",
        "* EDA on the news text, and \n",
        "* the use of several NLP methods aimed to identify the trending news topics and the buzzwords regarding Twitter"
      ],
      "metadata": {
        "id": "B8s9_bl-VB57"
      }
    },
    {
      "cell_type": "markdown",
      "source": [
        "## Analyze the business news titles about Twitter "
      ],
      "metadata": {
        "id": "Z3_Vh6U8AZTb"
      }
    },
    {
      "cell_type": "code",
      "source": [
        "from google.colab import drive\n",
        "drive.mount('/content/drive')"
      ],
      "metadata": {
        "colab": {
          "base_uri": "https://localhost:8080/"
        },
        "id": "1w70u8HwfhtT",
        "outputId": "614e6381-5a2f-4828-98d5-de3dd16d4e3a"
      },
      "execution_count": null,
      "outputs": [
        {
          "output_type": "stream",
          "name": "stdout",
          "text": [
            "Mounted at /content/drive\n"
          ]
        }
      ]
    },
    {
      "cell_type": "code",
      "source": [
        "# Import complete data\n",
        "import pandas as pd\n",
        "import numpy as np\n",
        "# news_df = pd.read_csv(\"/content/drive/MyDrive/Newsdata_Records.csv\")\n",
        "news_df = pd.read_csv(\"records_2\", index_col = 0)\n",
        "news_df.shape"
      ],
      "metadata": {
        "colab": {
          "base_uri": "https://localhost:8080/"
        },
        "id": "zlaCRbeafdhW",
        "outputId": "9f4141ec-197d-4c90-dff3-ea50d386cedd"
      },
      "execution_count": 5,
      "outputs": [
        {
          "output_type": "execute_result",
          "data": {
            "text/plain": [
              "(4943, 10)"
            ]
          },
          "metadata": {},
          "execution_count": 5
        }
      ]
    },
    {
      "cell_type": "code",
      "source": [
        "news_df.head()"
      ],
      "metadata": {
        "colab": {
          "base_uri": "https://localhost:8080/",
          "height": 354
        },
        "id": "UEkz0IlZirGR",
        "outputId": "2403cdc9-fa8e-467a-f694-4fff8ec4a25c"
      },
      "execution_count": 6,
      "outputs": [
        {
          "output_type": "execute_result",
          "data": {
            "text/plain": [
              "                                               Title  \\\n",
              "0  \"Mark Cuban Calls Elon Musk 'Judge And Jury' O...   \n",
              "1  \"Twitter's 'Big Bang' — Elon Musk's 'General A...   \n",
              "2  \"Twitter owner Musk signals new 'war' against ...   \n",
              "3  \"Chinese police are now conducting random stop...   \n",
              "4  \"Twitter Downloads Surge In China Amid Protest...   \n",
              "\n",
              "                                        Article Link Published Date (Gmt)  \\\n",
              "0  https://www.benzinga.com/news/22/11/29885272/m...  2022-11-29 12:36:03   \n",
              "1  https://www.benzinga.com/news/22/11/29881698/t...  2022-11-29 11:35:43   \n",
              "2  https://techxplore.com/news/2022-11-twitter-ow...  2022-11-29 09:39:18   \n",
              "3  https://www.businessinsider.com/chinese-police...  2022-11-29 08:30:16   \n",
              "4  https://www.benzinga.com/news/22/11/29882264/t...  2022-11-29 07:48:17   \n",
              "\n",
              "    Author         Publisher                   Country    Category Language  \\\n",
              "0  Unknown          Benzinga  United States Of America         Top  English   \n",
              "1  Unknown          Benzinga  United States Of America         Top  English   \n",
              "2  Unknown          Phys.org  United States Of America  Technology  English   \n",
              "3  Unknown  Business Insider  United States Of America         Top  English   \n",
              "4  Unknown          Benzinga  United States Of America         Top  English   \n",
              "\n",
              "                                         Description        Date  \n",
              "0  Elon Musk-led Twitter lacks transparency, acco...  2022-11-29  \n",
              "1  Twitter is going through a rollercoaster ride....  2022-11-29  \n",
              "2  Twitter owner Elon Musk on Monday opened fire ...  2022-11-29  \n",
              "3  Certain foreign social media apps are banned i...  2022-11-29  \n",
              "4                                          read more  2022-11-29  "
            ],
            "text/html": [
              "\n",
              "  <div id=\"df-e5f48aaa-7f1e-4ca7-b786-fa8cbc3a2b9b\">\n",
              "    <div class=\"colab-df-container\">\n",
              "      <div>\n",
              "<style scoped>\n",
              "    .dataframe tbody tr th:only-of-type {\n",
              "        vertical-align: middle;\n",
              "    }\n",
              "\n",
              "    .dataframe tbody tr th {\n",
              "        vertical-align: top;\n",
              "    }\n",
              "\n",
              "    .dataframe thead th {\n",
              "        text-align: right;\n",
              "    }\n",
              "</style>\n",
              "<table border=\"1\" class=\"dataframe\">\n",
              "  <thead>\n",
              "    <tr style=\"text-align: right;\">\n",
              "      <th></th>\n",
              "      <th>Title</th>\n",
              "      <th>Article Link</th>\n",
              "      <th>Published Date (Gmt)</th>\n",
              "      <th>Author</th>\n",
              "      <th>Publisher</th>\n",
              "      <th>Country</th>\n",
              "      <th>Category</th>\n",
              "      <th>Language</th>\n",
              "      <th>Description</th>\n",
              "      <th>Date</th>\n",
              "    </tr>\n",
              "  </thead>\n",
              "  <tbody>\n",
              "    <tr>\n",
              "      <th>0</th>\n",
              "      <td>\"Mark Cuban Calls Elon Musk 'Judge And Jury' O...</td>\n",
              "      <td>https://www.benzinga.com/news/22/11/29885272/m...</td>\n",
              "      <td>2022-11-29 12:36:03</td>\n",
              "      <td>Unknown</td>\n",
              "      <td>Benzinga</td>\n",
              "      <td>United States Of America</td>\n",
              "      <td>Top</td>\n",
              "      <td>English</td>\n",
              "      <td>Elon Musk-led Twitter lacks transparency, acco...</td>\n",
              "      <td>2022-11-29</td>\n",
              "    </tr>\n",
              "    <tr>\n",
              "      <th>1</th>\n",
              "      <td>\"Twitter's 'Big Bang' — Elon Musk's 'General A...</td>\n",
              "      <td>https://www.benzinga.com/news/22/11/29881698/t...</td>\n",
              "      <td>2022-11-29 11:35:43</td>\n",
              "      <td>Unknown</td>\n",
              "      <td>Benzinga</td>\n",
              "      <td>United States Of America</td>\n",
              "      <td>Top</td>\n",
              "      <td>English</td>\n",
              "      <td>Twitter is going through a rollercoaster ride....</td>\n",
              "      <td>2022-11-29</td>\n",
              "    </tr>\n",
              "    <tr>\n",
              "      <th>2</th>\n",
              "      <td>\"Twitter owner Musk signals new 'war' against ...</td>\n",
              "      <td>https://techxplore.com/news/2022-11-twitter-ow...</td>\n",
              "      <td>2022-11-29 09:39:18</td>\n",
              "      <td>Unknown</td>\n",
              "      <td>Phys.org</td>\n",
              "      <td>United States Of America</td>\n",
              "      <td>Technology</td>\n",
              "      <td>English</td>\n",
              "      <td>Twitter owner Elon Musk on Monday opened fire ...</td>\n",
              "      <td>2022-11-29</td>\n",
              "    </tr>\n",
              "    <tr>\n",
              "      <th>3</th>\n",
              "      <td>\"Chinese police are now conducting random stop...</td>\n",
              "      <td>https://www.businessinsider.com/chinese-police...</td>\n",
              "      <td>2022-11-29 08:30:16</td>\n",
              "      <td>Unknown</td>\n",
              "      <td>Business Insider</td>\n",
              "      <td>United States Of America</td>\n",
              "      <td>Top</td>\n",
              "      <td>English</td>\n",
              "      <td>Certain foreign social media apps are banned i...</td>\n",
              "      <td>2022-11-29</td>\n",
              "    </tr>\n",
              "    <tr>\n",
              "      <th>4</th>\n",
              "      <td>\"Twitter Downloads Surge In China Amid Protest...</td>\n",
              "      <td>https://www.benzinga.com/news/22/11/29882264/t...</td>\n",
              "      <td>2022-11-29 07:48:17</td>\n",
              "      <td>Unknown</td>\n",
              "      <td>Benzinga</td>\n",
              "      <td>United States Of America</td>\n",
              "      <td>Top</td>\n",
              "      <td>English</td>\n",
              "      <td>read more</td>\n",
              "      <td>2022-11-29</td>\n",
              "    </tr>\n",
              "  </tbody>\n",
              "</table>\n",
              "</div>\n",
              "      <button class=\"colab-df-convert\" onclick=\"convertToInteractive('df-e5f48aaa-7f1e-4ca7-b786-fa8cbc3a2b9b')\"\n",
              "              title=\"Convert this dataframe to an interactive table.\"\n",
              "              style=\"display:none;\">\n",
              "        \n",
              "  <svg xmlns=\"http://www.w3.org/2000/svg\" height=\"24px\"viewBox=\"0 0 24 24\"\n",
              "       width=\"24px\">\n",
              "    <path d=\"M0 0h24v24H0V0z\" fill=\"none\"/>\n",
              "    <path d=\"M18.56 5.44l.94 2.06.94-2.06 2.06-.94-2.06-.94-.94-2.06-.94 2.06-2.06.94zm-11 1L8.5 8.5l.94-2.06 2.06-.94-2.06-.94L8.5 2.5l-.94 2.06-2.06.94zm10 10l.94 2.06.94-2.06 2.06-.94-2.06-.94-.94-2.06-.94 2.06-2.06.94z\"/><path d=\"M17.41 7.96l-1.37-1.37c-.4-.4-.92-.59-1.43-.59-.52 0-1.04.2-1.43.59L10.3 9.45l-7.72 7.72c-.78.78-.78 2.05 0 2.83L4 21.41c.39.39.9.59 1.41.59.51 0 1.02-.2 1.41-.59l7.78-7.78 2.81-2.81c.8-.78.8-2.07 0-2.86zM5.41 20L4 18.59l7.72-7.72 1.47 1.35L5.41 20z\"/>\n",
              "  </svg>\n",
              "      </button>\n",
              "      \n",
              "  <style>\n",
              "    .colab-df-container {\n",
              "      display:flex;\n",
              "      flex-wrap:wrap;\n",
              "      gap: 12px;\n",
              "    }\n",
              "\n",
              "    .colab-df-convert {\n",
              "      background-color: #E8F0FE;\n",
              "      border: none;\n",
              "      border-radius: 50%;\n",
              "      cursor: pointer;\n",
              "      display: none;\n",
              "      fill: #1967D2;\n",
              "      height: 32px;\n",
              "      padding: 0 0 0 0;\n",
              "      width: 32px;\n",
              "    }\n",
              "\n",
              "    .colab-df-convert:hover {\n",
              "      background-color: #E2EBFA;\n",
              "      box-shadow: 0px 1px 2px rgba(60, 64, 67, 0.3), 0px 1px 3px 1px rgba(60, 64, 67, 0.15);\n",
              "      fill: #174EA6;\n",
              "    }\n",
              "\n",
              "    [theme=dark] .colab-df-convert {\n",
              "      background-color: #3B4455;\n",
              "      fill: #D2E3FC;\n",
              "    }\n",
              "\n",
              "    [theme=dark] .colab-df-convert:hover {\n",
              "      background-color: #434B5C;\n",
              "      box-shadow: 0px 1px 3px 1px rgba(0, 0, 0, 0.15);\n",
              "      filter: drop-shadow(0px 1px 2px rgba(0, 0, 0, 0.3));\n",
              "      fill: #FFFFFF;\n",
              "    }\n",
              "  </style>\n",
              "\n",
              "      <script>\n",
              "        const buttonEl =\n",
              "          document.querySelector('#df-e5f48aaa-7f1e-4ca7-b786-fa8cbc3a2b9b button.colab-df-convert');\n",
              "        buttonEl.style.display =\n",
              "          google.colab.kernel.accessAllowed ? 'block' : 'none';\n",
              "\n",
              "        async function convertToInteractive(key) {\n",
              "          const element = document.querySelector('#df-e5f48aaa-7f1e-4ca7-b786-fa8cbc3a2b9b');\n",
              "          const dataTable =\n",
              "            await google.colab.kernel.invokeFunction('convertToInteractive',\n",
              "                                                     [key], {});\n",
              "          if (!dataTable) return;\n",
              "\n",
              "          const docLinkHtml = 'Like what you see? Visit the ' +\n",
              "            '<a target=\"_blank\" href=https://colab.research.google.com/notebooks/data_table.ipynb>data table notebook</a>'\n",
              "            + ' to learn more about interactive tables.';\n",
              "          element.innerHTML = '';\n",
              "          dataTable['output_type'] = 'display_data';\n",
              "          await google.colab.output.renderOutput(dataTable, element);\n",
              "          const docLink = document.createElement('div');\n",
              "          docLink.innerHTML = docLinkHtml;\n",
              "          element.appendChild(docLink);\n",
              "        }\n",
              "      </script>\n",
              "    </div>\n",
              "  </div>\n",
              "  "
            ]
          },
          "metadata": {},
          "execution_count": 6
        }
      ]
    },
    {
      "cell_type": "markdown",
      "source": [
        "## Title Text Analysis"
      ],
      "metadata": {
        "id": "JGyKzXllVJ7V"
      }
    },
    {
      "cell_type": "markdown",
      "source": [
        "### Normalization\n",
        "The normalization process include removing accented characters, expand contractions (e.g. can't - cannot), lemmatization, and removing stop words."
      ],
      "metadata": {
        "id": "bwwq9Rrm5Jab"
      }
    },
    {
      "cell_type": "code",
      "source": [
        "news_title = news_df['Title']"
      ],
      "metadata": {
        "id": "xK0y3R7UXs8f"
      },
      "execution_count": 6,
      "outputs": []
    },
    {
      "cell_type": "code",
      "source": [
        "## Remove accented characters\n",
        "import unicodedata\n",
        "def remove_accented_chars(text):\n",
        "    text = unicodedata.normalize('NFKD', text)\n",
        "    text = text.encode('ascii', 'ignore')\n",
        "    text = text.decode('utf-8', 'ignore')\n",
        "    return text"
      ],
      "metadata": {
        "id": "n6OPIpxeAUhM"
      },
      "execution_count": 8,
      "outputs": []
    },
    {
      "cell_type": "code",
      "source": [
        "news_titles = [remove_accented_chars(title) for title in news_title]\n",
        "news_titles[:5] "
      ],
      "metadata": {
        "colab": {
          "base_uri": "https://localhost:8080/"
        },
        "id": "Dt8nq04fXzUA",
        "outputId": "06005de3-02b3-40a1-8c0b-a901a71283c9"
      },
      "execution_count": 9,
      "outputs": [
        {
          "output_type": "execute_result",
          "data": {
            "text/plain": [
              "['\"Mark Cuban Calls Elon Musk \\'Judge And Jury\\' Of His Social Media Company: \\'When Do We See Twitter Bill Of Rights?\\'\"',\n",
              " '\"Twitter\\'s \\'Big Bang\\'  Elon Musk\\'s \\'General Amnesty\\' Could Bring 62k Suspended Accounts Back\"',\n",
              " '\"Twitter owner Musk signals new \\'war\\' against Apple\"',\n",
              " '\"Chinese police are now conducting random stop-and-search checks for banned foreign apps such as Instagram and Twitter: reports\"',\n",
              " '\"Twitter Downloads Surge In China Amid Protests Against Xi Jinping\\'s Government Despite Ban\"']"
            ]
          },
          "metadata": {},
          "execution_count": 9
        }
      ]
    },
    {
      "cell_type": "code",
      "source": [
        "# !pip install contractions"
      ],
      "metadata": {
        "id": "vb9Seh2kaBCa",
        "colab": {
          "base_uri": "https://localhost:8080/"
        },
        "outputId": "cdd26805-37de-4726-ea52-6c26b0ee2b16"
      },
      "execution_count": 12,
      "outputs": [
        {
          "output_type": "stream",
          "name": "stdout",
          "text": [
            "Looking in indexes: https://pypi.org/simple, https://us-python.pkg.dev/colab-wheels/public/simple/\n",
            "Collecting contractions\n",
            "  Downloading contractions-0.1.73-py2.py3-none-any.whl (8.7 kB)\n",
            "Collecting textsearch>=0.0.21\n",
            "  Downloading textsearch-0.0.24-py2.py3-none-any.whl (7.6 kB)\n",
            "Collecting pyahocorasick\n",
            "  Downloading pyahocorasick-2.0.0-cp39-cp39-manylinux_2_5_x86_64.manylinux1_x86_64.whl (103 kB)\n",
            "\u001b[2K     \u001b[90m━━━━━━━━━━━━━━━━━━━━━━━━━━━━━━━━━━━━━━\u001b[0m \u001b[32m103.2/103.2 kB\u001b[0m \u001b[31m10.5 MB/s\u001b[0m eta \u001b[36m0:00:00\u001b[0m\n",
            "\u001b[?25hCollecting anyascii\n",
            "  Downloading anyascii-0.3.2-py3-none-any.whl (289 kB)\n",
            "\u001b[2K     \u001b[90m━━━━━━━━━━━━━━━━━━━━━━━━━━━━━━━━━━━━━━\u001b[0m \u001b[32m289.9/289.9 kB\u001b[0m \u001b[31m29.0 MB/s\u001b[0m eta \u001b[36m0:00:00\u001b[0m\n",
            "\u001b[?25hInstalling collected packages: pyahocorasick, anyascii, textsearch, contractions\n",
            "Successfully installed anyascii-0.3.2 contractions-0.1.73 pyahocorasick-2.0.0 textsearch-0.0.24\n"
          ]
        }
      ]
    },
    {
      "cell_type": "code",
      "source": [
        "## contraction\n",
        "import contractions\n",
        "news_titles = [contractions.fix(title) for title in news_title]\n",
        "news_titles[:5] "
      ],
      "metadata": {
        "id": "K-BrWEeRYOaA",
        "colab": {
          "base_uri": "https://localhost:8080/"
        },
        "outputId": "55096583-6803-48ac-df63-abd3753ae422"
      },
      "execution_count": 14,
      "outputs": [
        {
          "output_type": "execute_result",
          "data": {
            "text/plain": [
              "['\"Mark Cuban Calls Elon Musk \\'Judge And Jury\\' Of His Social Media Company: \\'When Do We See Twitter Bill Of Rights?\\'\"',\n",
              " '\"Twitter\\'s \\'Big Bang\\' — Elon Musk\\'s \\'General Amnesty\\' Could Bring 62k Suspended Accounts Back\"',\n",
              " '\"Twitter owner Musk signals new \\'war\\' against Apple\"',\n",
              " '\"Chinese police are now conducting random stop-and-search checks for banned foreign apps such as Instagram and Twitter: reports\"',\n",
              " '\"Twitter Downloads Surge In China Amid Protests Against Xi Jinping\\'s Government Despite Ban\"']"
            ]
          },
          "metadata": {},
          "execution_count": 14
        }
      ]
    },
    {
      "cell_type": "code",
      "source": [
        "## Lemmatize text\n",
        "import spacy\n",
        "nlp = spacy.load(\"en_core_web_sm\")\n",
        "def lemmatize_text(text):\n",
        "    text = nlp(text)\n",
        "    text = ' '.join([word.lemma_ if word.lemma_ != '-PRON-' else word.text for word in text]) \n",
        "    # return the lemmatized form of the word unless it is a pronoun.\n",
        "    return text"
      ],
      "metadata": {
        "id": "xd9fSPOsauqS"
      },
      "execution_count": 15,
      "outputs": []
    },
    {
      "cell_type": "code",
      "source": [
        "## remove special character\n",
        "import re\n",
        "def remove_special_characters(text, remove_digits=True):\n",
        "    pattern = r'[^a-zA-Z0-9\\s]' if not remove_digits else r'[^a-zA-Z\\s]'\n",
        "    # if we want to remove digits, our matching pattern will be defined as letters only (left), if not we will match numbers as well.\n",
        "    text = re.sub(pattern, '', text)\n",
        "    return text"
      ],
      "metadata": {
        "id": "xsABWagCbMEl"
      },
      "execution_count": 16,
      "outputs": []
    },
    {
      "cell_type": "code",
      "source": [
        "## removing stopwords\n",
        "import nltk\n",
        "nltk.download('stopwords')\n",
        "nltk.download('punkt')\n",
        "from nltk.tokenize import word_tokenize\n",
        "stopword_list = nltk.corpus.stopwords.words('english')"
      ],
      "metadata": {
        "id": "eb2Ep6JVbZxo",
        "colab": {
          "base_uri": "https://localhost:8080/"
        },
        "outputId": "9dc48930-1b51-40f3-d580-63dc0da28e92"
      },
      "execution_count": 17,
      "outputs": [
        {
          "output_type": "stream",
          "name": "stderr",
          "text": [
            "[nltk_data] Downloading package stopwords to /root/nltk_data...\n",
            "[nltk_data]   Unzipping corpora/stopwords.zip.\n",
            "[nltk_data] Downloading package punkt to /root/nltk_data...\n",
            "[nltk_data]   Unzipping tokenizers/punkt.zip.\n"
          ]
        }
      ]
    },
    {
      "cell_type": "code",
      "source": [
        "stopword_list.extend(['twitter', 'elon', 'musk']) # to improve our later analysis, we remove these three common words here"
      ],
      "metadata": {
        "id": "aCt2tnUMyMg3"
      },
      "execution_count": 48,
      "outputs": []
    },
    {
      "cell_type": "code",
      "source": [
        "def remove_stopwords(text):\n",
        "    tokens = word_tokenize(text)\n",
        "    tokens = [token.strip() for token in tokens]\n",
        "    filtered_text = [token for token in tokens if token not in stopword_list]\n",
        "    filtered_text = ' '.join(filtered_text)\n",
        "    return filtered_text"
      ],
      "metadata": {
        "id": "HhWy6Pak4vp7"
      },
      "execution_count": 49,
      "outputs": []
    },
    {
      "cell_type": "code",
      "source": [
        "def normalize(doc):\n",
        "    doc = remove_accented_chars(doc)\n",
        "    doc = contractions.fix(doc) # fix contraction\n",
        "    doc = doc.lower() # lower case\n",
        "    doc = re.sub(r'[\\r|\\n|\\r\\n]+', ' ', doc) # remove extra newlines\n",
        "    doc = lemmatize_text(doc)\n",
        "    doc = re.sub(r'([{.(\\-)!}])', ' \\\\1 ', doc) #expand special characters\n",
        "    doc = remove_special_characters(doc)\n",
        "    doc = re.sub(r' +', ' ', doc) # remove extra whitespace\n",
        "    doc = remove_stopwords(doc)\n",
        "    return doc"
      ],
      "metadata": {
        "id": "GiQQMl3X4k7c"
      },
      "execution_count": 50,
      "outputs": []
    },
    {
      "cell_type": "code",
      "source": [
        "news_titles = [normalize(title) for title in news_title]"
      ],
      "metadata": {
        "id": "mDYm0jmw4qgU"
      },
      "execution_count": 51,
      "outputs": []
    },
    {
      "cell_type": "code",
      "source": [
        "news_titles[:5]"
      ],
      "metadata": {
        "id": "PmpAio395GTc",
        "colab": {
          "base_uri": "https://localhost:8080/"
        },
        "outputId": "341f7209-631f-4b1b-b10d-d1f74546eaa4"
      },
      "execution_count": 20,
      "outputs": [
        {
          "output_type": "execute_result",
          "data": {
            "text/plain": [
              "['mark cuban call elon musk judge jury social medium company see twitter bill right',\n",
              " 'twitter big bang elon musk general amnesty could bring k suspend account back',\n",
              " 'twitter owner musk signal new war apple',\n",
              " 'chinese police conduct random stop search check ban foreign app instagram twitter report',\n",
              " 'twitter download surge china amid protest xi jinping government despite ban']"
            ]
          },
          "metadata": {},
          "execution_count": 20
        }
      ]
    },
    {
      "cell_type": "markdown",
      "source": [
        "### Tokenize and Count\n"
      ],
      "metadata": {
        "id": "w465mLI-WUoW"
      }
    },
    {
      "cell_type": "markdown",
      "source": [
        "#### Single word"
      ],
      "metadata": {
        "id": "GBM4Xr3m5ipi"
      }
    },
    {
      "cell_type": "code",
      "source": [
        "title_tokenized = []\n",
        "for title in news_titles:\n",
        "  title_tokenized.extend(word_tokenize(title))"
      ],
      "metadata": {
        "id": "yX8uupIQWRNj"
      },
      "execution_count": 52,
      "outputs": []
    },
    {
      "cell_type": "code",
      "source": [
        "title_tokenized[:5]"
      ],
      "metadata": {
        "colab": {
          "base_uri": "https://localhost:8080/"
        },
        "id": "BWfUvSNtWxl3",
        "outputId": "ed3852e7-dec4-49ef-9f70-3cd0c346c210"
      },
      "execution_count": 22,
      "outputs": [
        {
          "output_type": "execute_result",
          "data": {
            "text/plain": [
              "['mark', 'cuban', 'call', 'elon', 'musk']"
            ]
          },
          "metadata": {},
          "execution_count": 22
        }
      ]
    },
    {
      "cell_type": "code",
      "source": [
        "# single words\n",
        "import collections\n",
        "collections.Counter(title_tokenized).most_common(15)"
      ],
      "metadata": {
        "colab": {
          "base_uri": "https://localhost:8080/"
        },
        "id": "CEsVaZnbXav5",
        "outputId": "62815ddc-4513-4a19-d60d-71dabf97996d"
      },
      "execution_count": 53,
      "outputs": [
        {
          "output_type": "execute_result",
          "data": {
            "text/plain": [
              "[('say', 527),\n",
              " ('deal', 494),\n",
              " ('account', 346),\n",
              " ('new', 248),\n",
              " ('takeover', 231),\n",
              " ('employee', 231),\n",
              " ('report', 226),\n",
              " ('whistleblower', 224),\n",
              " ('user', 223),\n",
              " ('buy', 214),\n",
              " ('layoff', 172),\n",
              " ('plan', 167),\n",
              " ('company', 164),\n",
              " ('back', 163),\n",
              " ('tweet', 160)]"
            ]
          },
          "metadata": {},
          "execution_count": 53
        }
      ]
    },
    {
      "cell_type": "markdown",
      "source": [
        "**Data Exploration**\n",
        "\n",
        "With the common single words, we can explore the information behind some popular words."
      ],
      "metadata": {
        "id": "H3QNIi7A5Wgv"
      }
    },
    {
      "cell_type": "code",
      "source": [
        "import seaborn as sns\n",
        "import matplotlib.pyplot as plt\n",
        "\n",
        "title_uni_df = pd.DataFrame(title_tokenized)\n",
        "uni_counts = title_uni_df.iloc[:,0].value_counts().reset_index()\n",
        "\n",
        "uni_counts.rename(columns = {0: 'count'}, inplace = True)\n",
        "uni_counts.head()"
      ],
      "metadata": {
        "id": "yPg0krkMdMa3",
        "colab": {
          "base_uri": "https://localhost:8080/",
          "height": 206
        },
        "outputId": "f2b54ae5-6766-488e-ee13-905d20fbc077"
      },
      "execution_count": 54,
      "outputs": [
        {
          "output_type": "execute_result",
          "data": {
            "text/plain": [
              "      index  count\n",
              "0       say    527\n",
              "1      deal    494\n",
              "2   account    346\n",
              "3       new    248\n",
              "4  takeover    231"
            ],
            "text/html": [
              "\n",
              "  <div id=\"df-04119de7-5762-4d2d-90fc-cd73c9af0f4e\">\n",
              "    <div class=\"colab-df-container\">\n",
              "      <div>\n",
              "<style scoped>\n",
              "    .dataframe tbody tr th:only-of-type {\n",
              "        vertical-align: middle;\n",
              "    }\n",
              "\n",
              "    .dataframe tbody tr th {\n",
              "        vertical-align: top;\n",
              "    }\n",
              "\n",
              "    .dataframe thead th {\n",
              "        text-align: right;\n",
              "    }\n",
              "</style>\n",
              "<table border=\"1\" class=\"dataframe\">\n",
              "  <thead>\n",
              "    <tr style=\"text-align: right;\">\n",
              "      <th></th>\n",
              "      <th>index</th>\n",
              "      <th>count</th>\n",
              "    </tr>\n",
              "  </thead>\n",
              "  <tbody>\n",
              "    <tr>\n",
              "      <th>0</th>\n",
              "      <td>say</td>\n",
              "      <td>527</td>\n",
              "    </tr>\n",
              "    <tr>\n",
              "      <th>1</th>\n",
              "      <td>deal</td>\n",
              "      <td>494</td>\n",
              "    </tr>\n",
              "    <tr>\n",
              "      <th>2</th>\n",
              "      <td>account</td>\n",
              "      <td>346</td>\n",
              "    </tr>\n",
              "    <tr>\n",
              "      <th>3</th>\n",
              "      <td>new</td>\n",
              "      <td>248</td>\n",
              "    </tr>\n",
              "    <tr>\n",
              "      <th>4</th>\n",
              "      <td>takeover</td>\n",
              "      <td>231</td>\n",
              "    </tr>\n",
              "  </tbody>\n",
              "</table>\n",
              "</div>\n",
              "      <button class=\"colab-df-convert\" onclick=\"convertToInteractive('df-04119de7-5762-4d2d-90fc-cd73c9af0f4e')\"\n",
              "              title=\"Convert this dataframe to an interactive table.\"\n",
              "              style=\"display:none;\">\n",
              "        \n",
              "  <svg xmlns=\"http://www.w3.org/2000/svg\" height=\"24px\"viewBox=\"0 0 24 24\"\n",
              "       width=\"24px\">\n",
              "    <path d=\"M0 0h24v24H0V0z\" fill=\"none\"/>\n",
              "    <path d=\"M18.56 5.44l.94 2.06.94-2.06 2.06-.94-2.06-.94-.94-2.06-.94 2.06-2.06.94zm-11 1L8.5 8.5l.94-2.06 2.06-.94-2.06-.94L8.5 2.5l-.94 2.06-2.06.94zm10 10l.94 2.06.94-2.06 2.06-.94-2.06-.94-.94-2.06-.94 2.06-2.06.94z\"/><path d=\"M17.41 7.96l-1.37-1.37c-.4-.4-.92-.59-1.43-.59-.52 0-1.04.2-1.43.59L10.3 9.45l-7.72 7.72c-.78.78-.78 2.05 0 2.83L4 21.41c.39.39.9.59 1.41.59.51 0 1.02-.2 1.41-.59l7.78-7.78 2.81-2.81c.8-.78.8-2.07 0-2.86zM5.41 20L4 18.59l7.72-7.72 1.47 1.35L5.41 20z\"/>\n",
              "  </svg>\n",
              "      </button>\n",
              "      \n",
              "  <style>\n",
              "    .colab-df-container {\n",
              "      display:flex;\n",
              "      flex-wrap:wrap;\n",
              "      gap: 12px;\n",
              "    }\n",
              "\n",
              "    .colab-df-convert {\n",
              "      background-color: #E8F0FE;\n",
              "      border: none;\n",
              "      border-radius: 50%;\n",
              "      cursor: pointer;\n",
              "      display: none;\n",
              "      fill: #1967D2;\n",
              "      height: 32px;\n",
              "      padding: 0 0 0 0;\n",
              "      width: 32px;\n",
              "    }\n",
              "\n",
              "    .colab-df-convert:hover {\n",
              "      background-color: #E2EBFA;\n",
              "      box-shadow: 0px 1px 2px rgba(60, 64, 67, 0.3), 0px 1px 3px 1px rgba(60, 64, 67, 0.15);\n",
              "      fill: #174EA6;\n",
              "    }\n",
              "\n",
              "    [theme=dark] .colab-df-convert {\n",
              "      background-color: #3B4455;\n",
              "      fill: #D2E3FC;\n",
              "    }\n",
              "\n",
              "    [theme=dark] .colab-df-convert:hover {\n",
              "      background-color: #434B5C;\n",
              "      box-shadow: 0px 1px 3px 1px rgba(0, 0, 0, 0.15);\n",
              "      filter: drop-shadow(0px 1px 2px rgba(0, 0, 0, 0.3));\n",
              "      fill: #FFFFFF;\n",
              "    }\n",
              "  </style>\n",
              "\n",
              "      <script>\n",
              "        const buttonEl =\n",
              "          document.querySelector('#df-04119de7-5762-4d2d-90fc-cd73c9af0f4e button.colab-df-convert');\n",
              "        buttonEl.style.display =\n",
              "          google.colab.kernel.accessAllowed ? 'block' : 'none';\n",
              "\n",
              "        async function convertToInteractive(key) {\n",
              "          const element = document.querySelector('#df-04119de7-5762-4d2d-90fc-cd73c9af0f4e');\n",
              "          const dataTable =\n",
              "            await google.colab.kernel.invokeFunction('convertToInteractive',\n",
              "                                                     [key], {});\n",
              "          if (!dataTable) return;\n",
              "\n",
              "          const docLinkHtml = 'Like what you see? Visit the ' +\n",
              "            '<a target=\"_blank\" href=https://colab.research.google.com/notebooks/data_table.ipynb>data table notebook</a>'\n",
              "            + ' to learn more about interactive tables.';\n",
              "          element.innerHTML = '';\n",
              "          dataTable['output_type'] = 'display_data';\n",
              "          await google.colab.output.renderOutput(dataTable, element);\n",
              "          const docLink = document.createElement('div');\n",
              "          docLink.innerHTML = docLinkHtml;\n",
              "          element.appendChild(docLink);\n",
              "        }\n",
              "      </script>\n",
              "    </div>\n",
              "  </div>\n",
              "  "
            ]
          },
          "metadata": {},
          "execution_count": 54
        }
      ]
    },
    {
      "cell_type": "code",
      "source": [
        "plt.rcParams['figure.dpi'] = 150\n",
        "sns.barplot(uni_counts.iloc[:15], x = \"count\", y = \"index\", palette = 'coolwarm')"
      ],
      "metadata": {
        "colab": {
          "base_uri": "https://localhost:8080/",
          "height": 681
        },
        "id": "f09deigugdxS",
        "outputId": "fd45c948-de95-40e5-d09c-1688d03d40fa"
      },
      "execution_count": 55,
      "outputs": [
        {
          "output_type": "execute_result",
          "data": {
            "text/plain": [
              "<Axes: xlabel='count', ylabel='index'>"
            ]
          },
          "metadata": {},
          "execution_count": 55
        },
        {
          "output_type": "display_data",
          "data": {
            "text/plain": [
              "<Figure size 960x720 with 1 Axes>"
            ],
            "image/png": "[encoded data removed]"
          },
          "metadata": {}
        }
      ]
    },
    {
      "cell_type": "markdown",
      "source": [
        "From the barplot above we can visualize what are the most common words in the title. It is reasonable to see words like Twitter, Elon Musk, and deal being the most common ones. On the other hand, I am interested by the word \"whistleblower\". Let me take a look of the articles associated with the word."
      ],
      "metadata": {
        "id": "rNyi0h60iEoi"
      }
    },
    {
      "cell_type": "code",
      "source": [
        "news_df[news_df['Title'].str.contains('whistleblower')].Title[:5]"
      ],
      "metadata": {
        "colab": {
          "base_uri": "https://localhost:8080/"
        },
        "id": "3xs_9HWpq07w",
        "outputId": "2b29131c-9be9-4bc4-d4ed-e95abdf0a00b"
      },
      "execution_count": 50,
      "outputs": [
        {
          "output_type": "execute_result",
          "data": {
            "text/plain": [
              "2628    \"Musk claims Twitter ordered whistleblower to ...\n",
              "2645    \"Elon Musk’s legal team: Twitter ordered whist...\n",
              "2836    \"Did Twitter whistleblower Peiter Zatko email ...\n",
              "2936    \"Just before Musk backtracked, a judge said Tw...\n",
              "2996    \"Judge says Twitter can search Musk team’s tex...\n",
              "Name: Title, dtype: object"
            ]
          },
          "metadata": {},
          "execution_count": 50
        }
      ]
    },
    {
      "cell_type": "code",
      "source": [
        "news_df.loc[2628].Description"
      ],
      "metadata": {
        "colab": {
          "base_uri": "https://localhost:8080/",
          "height": 53
        },
        "id": "-UMM6Ky83kv6",
        "outputId": "c6f99cd8-0cda-493c-fdfb-5125c90b3e16"
      },
      "execution_count": 54,
      "outputs": [
        {
          "output_type": "execute_result",
          "data": {
            "text/plain": [
              "\"Elon Musk alleges that Twitter Inc. officials ordered a whistleblower to destroy evidence of the company's missteps as part of a $7.8 million severance package at issue in a legal fight over the billionaire's attempt to cancel a buyout of the social media platform.\""
            ],
            "application/vnd.google.colaboratory.intrinsic+json": {
              "type": "string"
            }
          },
          "metadata": {},
          "execution_count": 54
        }
      ]
    },
    {
      "cell_type": "markdown",
      "source": [
        "A further look into the news title reveals that there's a whistleblower inside Twitter called Peiter Zatko who were paid by Twitter to remain quiet about Twitter's \"misteps\", which may hurt Twitter's buyout value."
      ],
      "metadata": {
        "id": "okSY34y02fVB"
      }
    },
    {
      "cell_type": "markdown",
      "source": [
        "#### Bigram"
      ],
      "metadata": {
        "id": "0SfiYvQC55_Y"
      }
    },
    {
      "cell_type": "code",
      "source": [
        "# bigram\n",
        "from nltk.util import ngrams\n",
        "title_bigram = [' '.join(e) for e in ngrams(title_tokenized, 2)]\n",
        "title_bigram[:5]"
      ],
      "metadata": {
        "colab": {
          "base_uri": "https://localhost:8080/"
        },
        "id": "DPMBE012bUAO",
        "outputId": "860d2c52-6ab0-4f22-ed52-392333d17794"
      },
      "execution_count": 56,
      "outputs": [
        {
          "output_type": "execute_result",
          "data": {
            "text/plain": [
              "['mark cuban', 'cuban call', 'call judge', 'judge jury', 'jury social']"
            ]
          },
          "metadata": {},
          "execution_count": 56
        }
      ]
    },
    {
      "cell_type": "code",
      "source": [
        "collections.Counter(title_bigram).most_common(15)"
      ],
      "metadata": {
        "colab": {
          "base_uri": "https://localhost:8080/"
        },
        "id": "ERxEUAzIc8Di",
        "outputId": "7fa89b42-025c-4aae-8985-e01bdc124cd6"
      },
      "execution_count": 57,
      "outputs": [
        {
          "output_type": "execute_result",
          "data": {
            "text/plain": [
              "[('report say', 63),\n",
              " ('jack dorsey', 63),\n",
              " ('new york', 55),\n",
              " ('social medium', 51),\n",
              " ('deal buy', 49),\n",
              " ('mass layoff', 46),\n",
              " ('billion deal', 45),\n",
              " ('b deal', 44),\n",
              " ('edit button', 42),\n",
              " ('blue check', 41),\n",
              " ('fake account', 40),\n",
              " ('kanye west', 38),\n",
              " ('york times', 38),\n",
              " ('donald trump', 34),\n",
              " ('wall street', 33)]"
            ]
          },
          "metadata": {},
          "execution_count": 57
        }
      ]
    },
    {
      "cell_type": "code",
      "source": [
        "title_bi_df = pd.DataFrame(title_bigram)\n",
        "bi_counts = title_bi_df.iloc[:,0].value_counts().reset_index()\n",
        "\n",
        "bi_counts.rename(columns = {0: 'count'}, inplace = True)\n",
        "bi_counts.head(15)"
      ],
      "metadata": {
        "colab": {
          "base_uri": "https://localhost:8080/",
          "height": 519
        },
        "id": "46BC62EdnZOj",
        "outputId": "d1c848ef-b86d-4549-8ac6-02aef68a926b"
      },
      "execution_count": 58,
      "outputs": [
        {
          "output_type": "execute_result",
          "data": {
            "text/plain": [
              "            index  count\n",
              "0     jack dorsey     63\n",
              "1      report say     63\n",
              "2        new york     55\n",
              "3   social medium     51\n",
              "4        deal buy     49\n",
              "5     mass layoff     46\n",
              "6    billion deal     45\n",
              "7          b deal     44\n",
              "8     edit button     42\n",
              "9      blue check     41\n",
              "10   fake account     40\n",
              "11     york times     38\n",
              "12     kanye west     38\n",
              "13   donald trump     34\n",
              "14    wall street     33"
            ],
            "text/html": [
              "\n",
              "  <div id=\"df-c58805bc-998f-4fe1-837e-370d7658d072\">\n",
              "    <div class=\"colab-df-container\">\n",
              "      <div>\n",
              "<style scoped>\n",
              "    .dataframe tbody tr th:only-of-type {\n",
              "        vertical-align: middle;\n",
              "    }\n",
              "\n",
              "    .dataframe tbody tr th {\n",
              "        vertical-align: top;\n",
              "    }\n",
              "\n",
              "    .dataframe thead th {\n",
              "        text-align: right;\n",
              "    }\n",
              "</style>\n",
              "<table border=\"1\" class=\"dataframe\">\n",
              "  <thead>\n",
              "    <tr style=\"text-align: right;\">\n",
              "      <th></th>\n",
              "      <th>index</th>\n",
              "      <th>count</th>\n",
              "    </tr>\n",
              "  </thead>\n",
              "  <tbody>\n",
              "    <tr>\n",
              "      <th>0</th>\n",
              "      <td>jack dorsey</td>\n",
              "      <td>63</td>\n",
              "    </tr>\n",
              "    <tr>\n",
              "      <th>1</th>\n",
              "      <td>report say</td>\n",
              "      <td>63</td>\n",
              "    </tr>\n",
              "    <tr>\n",
              "      <th>2</th>\n",
              "      <td>new york</td>\n",
              "      <td>55</td>\n",
              "    </tr>\n",
              "    <tr>\n",
              "      <th>3</th>\n",
              "      <td>social medium</td>\n",
              "      <td>51</td>\n",
              "    </tr>\n",
              "    <tr>\n",
              "      <th>4</th>\n",
              "      <td>deal buy</td>\n",
              "      <td>49</td>\n",
              "    </tr>\n",
              "    <tr>\n",
              "      <th>5</th>\n",
              "      <td>mass layoff</td>\n",
              "      <td>46</td>\n",
              "    </tr>\n",
              "    <tr>\n",
              "      <th>6</th>\n",
              "      <td>billion deal</td>\n",
              "      <td>45</td>\n",
              "    </tr>\n",
              "    <tr>\n",
              "      <th>7</th>\n",
              "      <td>b deal</td>\n",
              "      <td>44</td>\n",
              "    </tr>\n",
              "    <tr>\n",
              "      <th>8</th>\n",
              "      <td>edit button</td>\n",
              "      <td>42</td>\n",
              "    </tr>\n",
              "    <tr>\n",
              "      <th>9</th>\n",
              "      <td>blue check</td>\n",
              "      <td>41</td>\n",
              "    </tr>\n",
              "    <tr>\n",
              "      <th>10</th>\n",
              "      <td>fake account</td>\n",
              "      <td>40</td>\n",
              "    </tr>\n",
              "    <tr>\n",
              "      <th>11</th>\n",
              "      <td>york times</td>\n",
              "      <td>38</td>\n",
              "    </tr>\n",
              "    <tr>\n",
              "      <th>12</th>\n",
              "      <td>kanye west</td>\n",
              "      <td>38</td>\n",
              "    </tr>\n",
              "    <tr>\n",
              "      <th>13</th>\n",
              "      <td>donald trump</td>\n",
              "      <td>34</td>\n",
              "    </tr>\n",
              "    <tr>\n",
              "      <th>14</th>\n",
              "      <td>wall street</td>\n",
              "      <td>33</td>\n",
              "    </tr>\n",
              "  </tbody>\n",
              "</table>\n",
              "</div>\n",
              "      <button class=\"colab-df-convert\" onclick=\"convertToInteractive('df-c58805bc-998f-4fe1-837e-370d7658d072')\"\n",
              "              title=\"Convert this dataframe to an interactive table.\"\n",
              "              style=\"display:none;\">\n",
              "        \n",
              "  <svg xmlns=\"http://www.w3.org/2000/svg\" height=\"24px\"viewBox=\"0 0 24 24\"\n",
              "       width=\"24px\">\n",
              "    <path d=\"M0 0h24v24H0V0z\" fill=\"none\"/>\n",
              "    <path d=\"M18.56 5.44l.94 2.06.94-2.06 2.06-.94-2.06-.94-.94-2.06-.94 2.06-2.06.94zm-11 1L8.5 8.5l.94-2.06 2.06-.94-2.06-.94L8.5 2.5l-.94 2.06-2.06.94zm10 10l.94 2.06.94-2.06 2.06-.94-2.06-.94-.94-2.06-.94 2.06-2.06.94z\"/><path d=\"M17.41 7.96l-1.37-1.37c-.4-.4-.92-.59-1.43-.59-.52 0-1.04.2-1.43.59L10.3 9.45l-7.72 7.72c-.78.78-.78 2.05 0 2.83L4 21.41c.39.39.9.59 1.41.59.51 0 1.02-.2 1.41-.59l7.78-7.78 2.81-2.81c.8-.78.8-2.07 0-2.86zM5.41 20L4 18.59l7.72-7.72 1.47 1.35L5.41 20z\"/>\n",
              "  </svg>\n",
              "      </button>\n",
              "      \n",
              "  <style>\n",
              "    .colab-df-container {\n",
              "      display:flex;\n",
              "      flex-wrap:wrap;\n",
              "      gap: 12px;\n",
              "    }\n",
              "\n",
              "    .colab-df-convert {\n",
              "      background-color: #E8F0FE;\n",
              "      border: none;\n",
              "      border-radius: 50%;\n",
              "      cursor: pointer;\n",
              "      display: none;\n",
              "      fill: #1967D2;\n",
              "      height: 32px;\n",
              "      padding: 0 0 0 0;\n",
              "      width: 32px;\n",
              "    }\n",
              "\n",
              "    .colab-df-convert:hover {\n",
              "      background-color: #E2EBFA;\n",
              "      box-shadow: 0px 1px 2px rgba(60, 64, 67, 0.3), 0px 1px 3px 1px rgba(60, 64, 67, 0.15);\n",
              "      fill: #174EA6;\n",
              "    }\n",
              "\n",
              "    [theme=dark] .colab-df-convert {\n",
              "      background-color: #3B4455;\n",
              "      fill: #D2E3FC;\n",
              "    }\n",
              "\n",
              "    [theme=dark] .colab-df-convert:hover {\n",
              "      background-color: #434B5C;\n",
              "      box-shadow: 0px 1px 3px 1px rgba(0, 0, 0, 0.15);\n",
              "      filter: drop-shadow(0px 1px 2px rgba(0, 0, 0, 0.3));\n",
              "      fill: #FFFFFF;\n",
              "    }\n",
              "  </style>\n",
              "\n",
              "      <script>\n",
              "        const buttonEl =\n",
              "          document.querySelector('#df-c58805bc-998f-4fe1-837e-370d7658d072 button.colab-df-convert');\n",
              "        buttonEl.style.display =\n",
              "          google.colab.kernel.accessAllowed ? 'block' : 'none';\n",
              "\n",
              "        async function convertToInteractive(key) {\n",
              "          const element = document.querySelector('#df-c58805bc-998f-4fe1-837e-370d7658d072');\n",
              "          const dataTable =\n",
              "            await google.colab.kernel.invokeFunction('convertToInteractive',\n",
              "                                                     [key], {});\n",
              "          if (!dataTable) return;\n",
              "\n",
              "          const docLinkHtml = 'Like what you see? Visit the ' +\n",
              "            '<a target=\"_blank\" href=https://colab.research.google.com/notebooks/data_table.ipynb>data table notebook</a>'\n",
              "            + ' to learn more about interactive tables.';\n",
              "          element.innerHTML = '';\n",
              "          dataTable['output_type'] = 'display_data';\n",
              "          await google.colab.output.renderOutput(dataTable, element);\n",
              "          const docLink = document.createElement('div');\n",
              "          docLink.innerHTML = docLinkHtml;\n",
              "          element.appendChild(docLink);\n",
              "        }\n",
              "      </script>\n",
              "    </div>\n",
              "  </div>\n",
              "  "
            ]
          },
          "metadata": {},
          "execution_count": 58
        }
      ]
    },
    {
      "cell_type": "markdown",
      "source": [
        "Similar to the analysis of single words, common bigrams shows similar topics such as twitter deal, takeover, whistleblower."
      ],
      "metadata": {
        "id": "H1DkxbeX6Zu7"
      }
    },
    {
      "cell_type": "markdown",
      "source": [
        "## News Content Analysis\n",
        "After analysis on news title, let's dive into the news content or description to see what more we can find about the news articles. "
      ],
      "metadata": {
        "id": "GKWAE4OEoj8Z"
      }
    },
    {
      "cell_type": "markdown",
      "source": [
        "# Text Analysis\n",
        "* ngram analysis on news content\n",
        "* sentiment analysis on news content"
      ],
      "metadata": {
        "id": "o2AJJ61WdRSs"
      }
    },
    {
      "cell_type": "markdown",
      "source": [
        "### Basic EDA"
      ],
      "metadata": {
        "id": "67CWxMe_c6Yh"
      }
    },
    {
      "cell_type": "code",
      "source": [
        "news_df.head()"
      ],
      "metadata": {
        "colab": {
          "base_uri": "https://localhost:8080/",
          "height": 354
        },
        "id": "qR0J1_qaqooo",
        "outputId": "36693cb4-087c-4941-9d98-1fd4acdaa31d"
      },
      "execution_count": 23,
      "outputs": [
        {
          "output_type": "execute_result",
          "data": {
            "text/plain": [
              "                                               Title  \\\n",
              "0  \"Mark Cuban Calls Elon Musk 'Judge And Jury' O...   \n",
              "1  \"Twitter's 'Big Bang' — Elon Musk's 'General A...   \n",
              "2  \"Twitter owner Musk signals new 'war' against ...   \n",
              "3  \"Chinese police are now conducting random stop...   \n",
              "4  \"Twitter Downloads Surge In China Amid Protest...   \n",
              "\n",
              "                                        Article Link Published Date (Gmt)  \\\n",
              "0  https://www.benzinga.com/news/22/11/29885272/m...  2022-11-29 12:36:03   \n",
              "1  https://www.benzinga.com/news/22/11/29881698/t...  2022-11-29 11:35:43   \n",
              "2  https://techxplore.com/news/2022-11-twitter-ow...  2022-11-29 09:39:18   \n",
              "3  https://www.businessinsider.com/chinese-police...  2022-11-29 08:30:16   \n",
              "4  https://www.benzinga.com/news/22/11/29882264/t...  2022-11-29 07:48:17   \n",
              "\n",
              "    Author         Publisher                   Country    Category Language  \\\n",
              "0  Unknown          Benzinga  United States Of America         Top  English   \n",
              "1  Unknown          Benzinga  United States Of America         Top  English   \n",
              "2  Unknown          Phys.org  United States Of America  Technology  English   \n",
              "3  Unknown  Business Insider  United States Of America         Top  English   \n",
              "4  Unknown          Benzinga  United States Of America         Top  English   \n",
              "\n",
              "                                         Description        Date  \n",
              "0  Elon Musk-led Twitter lacks transparency, acco...  2022-11-29  \n",
              "1  Twitter is going through a rollercoaster ride....  2022-11-29  \n",
              "2  Twitter owner Elon Musk on Monday opened fire ...  2022-11-29  \n",
              "3  Certain foreign social media apps are banned i...  2022-11-29  \n",
              "4                                          read more  2022-11-29  "
            ],
            "text/html": [
              "\n",
              "  <div id=\"df-7e1b91bf-cd5b-4dab-86bd-8d4b50e6f7db\">\n",
              "    <div class=\"colab-df-container\">\n",
              "      <div>\n",
              "<style scoped>\n",
              "    .dataframe tbody tr th:only-of-type {\n",
              "        vertical-align: middle;\n",
              "    }\n",
              "\n",
              "    .dataframe tbody tr th {\n",
              "        vertical-align: top;\n",
              "    }\n",
              "\n",
              "    .dataframe thead th {\n",
              "        text-align: right;\n",
              "    }\n",
              "</style>\n",
              "<table border=\"1\" class=\"dataframe\">\n",
              "  <thead>\n",
              "    <tr style=\"text-align: right;\">\n",
              "      <th></th>\n",
              "      <th>Title</th>\n",
              "      <th>Article Link</th>\n",
              "      <th>Published Date (Gmt)</th>\n",
              "      <th>Author</th>\n",
              "      <th>Publisher</th>\n",
              "      <th>Country</th>\n",
              "      <th>Category</th>\n",
              "      <th>Language</th>\n",
              "      <th>Description</th>\n",
              "      <th>Date</th>\n",
              "    </tr>\n",
              "  </thead>\n",
              "  <tbody>\n",
              "    <tr>\n",
              "      <th>0</th>\n",
              "      <td>\"Mark Cuban Calls Elon Musk 'Judge And Jury' O...</td>\n",
              "      <td>https://www.benzinga.com/news/22/11/29885272/m...</td>\n",
              "      <td>2022-11-29 12:36:03</td>\n",
              "      <td>Unknown</td>\n",
              "      <td>Benzinga</td>\n",
              "      <td>United States Of America</td>\n",
              "      <td>Top</td>\n",
              "      <td>English</td>\n",
              "      <td>Elon Musk-led Twitter lacks transparency, acco...</td>\n",
              "      <td>2022-11-29</td>\n",
              "    </tr>\n",
              "    <tr>\n",
              "      <th>1</th>\n",
              "      <td>\"Twitter's 'Big Bang' — Elon Musk's 'General A...</td>\n",
              "      <td>https://www.benzinga.com/news/22/11/29881698/t...</td>\n",
              "      <td>2022-11-29 11:35:43</td>\n",
              "      <td>Unknown</td>\n",
              "      <td>Benzinga</td>\n",
              "      <td>United States Of America</td>\n",
              "      <td>Top</td>\n",
              "      <td>English</td>\n",
              "      <td>Twitter is going through a rollercoaster ride....</td>\n",
              "      <td>2022-11-29</td>\n",
              "    </tr>\n",
              "    <tr>\n",
              "      <th>2</th>\n",
              "      <td>\"Twitter owner Musk signals new 'war' against ...</td>\n",
              "      <td>https://techxplore.com/news/2022-11-twitter-ow...</td>\n",
              "      <td>2022-11-29 09:39:18</td>\n",
              "      <td>Unknown</td>\n",
              "      <td>Phys.org</td>\n",
              "      <td>United States Of America</td>\n",
              "      <td>Technology</td>\n",
              "      <td>English</td>\n",
              "      <td>Twitter owner Elon Musk on Monday opened fire ...</td>\n",
              "      <td>2022-11-29</td>\n",
              "    </tr>\n",
              "    <tr>\n",
              "      <th>3</th>\n",
              "      <td>\"Chinese police are now conducting random stop...</td>\n",
              "      <td>https://www.businessinsider.com/chinese-police...</td>\n",
              "      <td>2022-11-29 08:30:16</td>\n",
              "      <td>Unknown</td>\n",
              "      <td>Business Insider</td>\n",
              "      <td>United States Of America</td>\n",
              "      <td>Top</td>\n",
              "      <td>English</td>\n",
              "      <td>Certain foreign social media apps are banned i...</td>\n",
              "      <td>2022-11-29</td>\n",
              "    </tr>\n",
              "    <tr>\n",
              "      <th>4</th>\n",
              "      <td>\"Twitter Downloads Surge In China Amid Protest...</td>\n",
              "      <td>https://www.benzinga.com/news/22/11/29882264/t...</td>\n",
              "      <td>2022-11-29 07:48:17</td>\n",
              "      <td>Unknown</td>\n",
              "      <td>Benzinga</td>\n",
              "      <td>United States Of America</td>\n",
              "      <td>Top</td>\n",
              "      <td>English</td>\n",
              "      <td>read more</td>\n",
              "      <td>2022-11-29</td>\n",
              "    </tr>\n",
              "  </tbody>\n",
              "</table>\n",
              "</div>\n",
              "      <button class=\"colab-df-convert\" onclick=\"convertToInteractive('df-7e1b91bf-cd5b-4dab-86bd-8d4b50e6f7db')\"\n",
              "              title=\"Convert this dataframe to an interactive table.\"\n",
              "              style=\"display:none;\">\n",
              "        \n",
              "  <svg xmlns=\"http://www.w3.org/2000/svg\" height=\"24px\"viewBox=\"0 0 24 24\"\n",
              "       width=\"24px\">\n",
              "    <path d=\"M0 0h24v24H0V0z\" fill=\"none\"/>\n",
              "    <path d=\"M18.56 5.44l.94 2.06.94-2.06 2.06-.94-2.06-.94-.94-2.06-.94 2.06-2.06.94zm-11 1L8.5 8.5l.94-2.06 2.06-.94-2.06-.94L8.5 2.5l-.94 2.06-2.06.94zm10 10l.94 2.06.94-2.06 2.06-.94-2.06-.94-.94-2.06-.94 2.06-2.06.94z\"/><path d=\"M17.41 7.96l-1.37-1.37c-.4-.4-.92-.59-1.43-.59-.52 0-1.04.2-1.43.59L10.3 9.45l-7.72 7.72c-.78.78-.78 2.05 0 2.83L4 21.41c.39.39.9.59 1.41.59.51 0 1.02-.2 1.41-.59l7.78-7.78 2.81-2.81c.8-.78.8-2.07 0-2.86zM5.41 20L4 18.59l7.72-7.72 1.47 1.35L5.41 20z\"/>\n",
              "  </svg>\n",
              "      </button>\n",
              "      \n",
              "  <style>\n",
              "    .colab-df-container {\n",
              "      display:flex;\n",
              "      flex-wrap:wrap;\n",
              "      gap: 12px;\n",
              "    }\n",
              "\n",
              "    .colab-df-convert {\n",
              "      background-color: #E8F0FE;\n",
              "      border: none;\n",
              "      border-radius: 50%;\n",
              "      cursor: pointer;\n",
              "      display: none;\n",
              "      fill: #1967D2;\n",
              "      height: 32px;\n",
              "      padding: 0 0 0 0;\n",
              "      width: 32px;\n",
              "    }\n",
              "\n",
              "    .colab-df-convert:hover {\n",
              "      background-color: #E2EBFA;\n",
              "      box-shadow: 0px 1px 2px rgba(60, 64, 67, 0.3), 0px 1px 3px 1px rgba(60, 64, 67, 0.15);\n",
              "      fill: #174EA6;\n",
              "    }\n",
              "\n",
              "    [theme=dark] .colab-df-convert {\n",
              "      background-color: #3B4455;\n",
              "      fill: #D2E3FC;\n",
              "    }\n",
              "\n",
              "    [theme=dark] .colab-df-convert:hover {\n",
              "      background-color: #434B5C;\n",
              "      box-shadow: 0px 1px 3px 1px rgba(0, 0, 0, 0.15);\n",
              "      filter: drop-shadow(0px 1px 2px rgba(0, 0, 0, 0.3));\n",
              "      fill: #FFFFFF;\n",
              "    }\n",
              "  </style>\n",
              "\n",
              "      <script>\n",
              "        const buttonEl =\n",
              "          document.querySelector('#df-7e1b91bf-cd5b-4dab-86bd-8d4b50e6f7db button.colab-df-convert');\n",
              "        buttonEl.style.display =\n",
              "          google.colab.kernel.accessAllowed ? 'block' : 'none';\n",
              "\n",
              "        async function convertToInteractive(key) {\n",
              "          const element = document.querySelector('#df-7e1b91bf-cd5b-4dab-86bd-8d4b50e6f7db');\n",
              "          const dataTable =\n",
              "            await google.colab.kernel.invokeFunction('convertToInteractive',\n",
              "                                                     [key], {});\n",
              "          if (!dataTable) return;\n",
              "\n",
              "          const docLinkHtml = 'Like what you see? Visit the ' +\n",
              "            '<a target=\"_blank\" href=https://colab.research.google.com/notebooks/data_table.ipynb>data table notebook</a>'\n",
              "            + ' to learn more about interactive tables.';\n",
              "          element.innerHTML = '';\n",
              "          dataTable['output_type'] = 'display_data';\n",
              "          await google.colab.output.renderOutput(dataTable, element);\n",
              "          const docLink = document.createElement('div');\n",
              "          docLink.innerHTML = docLinkHtml;\n",
              "          element.appendChild(docLink);\n",
              "        }\n",
              "      </script>\n",
              "    </div>\n",
              "  </div>\n",
              "  "
            ]
          },
          "metadata": {},
          "execution_count": 23
        }
      ]
    },
    {
      "cell_type": "code",
      "source": [
        "news_content = news_df[(news_df['Description'] != \"No Description\") & (news_df['Description'] != \"read more\")].Description"
      ],
      "metadata": {
        "id": "rAZKFr1Soh8D"
      },
      "execution_count": 26,
      "outputs": []
    },
    {
      "cell_type": "code",
      "source": [
        "news_content[:5]"
      ],
      "metadata": {
        "colab": {
          "base_uri": "https://localhost:8080/"
        },
        "id": "CLrW0XZTr6tJ",
        "outputId": "044a5c59-5dc7-47dd-d9a1-ad1e4eb2853e"
      },
      "execution_count": 65,
      "outputs": [
        {
          "output_type": "execute_result",
          "data": {
            "text/plain": [
              "0    Elon Musk-led Twitter lacks transparency, acco...\n",
              "1    Twitter is going through a rollercoaster ride....\n",
              "2    Twitter owner Elon Musk on Monday opened fire ...\n",
              "3    Certain foreign social media apps are banned i...\n",
              "5    Twitter saw a surge in downloads in China as p...\n",
              "Name: Description, dtype: object"
            ]
          },
          "metadata": {},
          "execution_count": 65
        }
      ]
    },
    {
      "cell_type": "code",
      "source": [
        "# number of business news articles\n",
        "len(news_content)"
      ],
      "metadata": {
        "colab": {
          "base_uri": "https://localhost:8080/"
        },
        "id": "UEeQB-Xj9pkr",
        "outputId": "136794d9-1899-4c2b-b8b1-0e589c515418"
      },
      "execution_count": 66,
      "outputs": [
        {
          "output_type": "execute_result",
          "data": {
            "text/plain": [
              "4531"
            ]
          },
          "metadata": {},
          "execution_count": 66
        }
      ]
    },
    {
      "cell_type": "code",
      "source": [
        "# news_content tokenized without losing sentence structure\n",
        "content_sent_tokens = []\n",
        "for content in news_content:\n",
        "  content_sent_tokens.append(word_tokenize(content))"
      ],
      "metadata": {
        "id": "_9bdo_Bh-eMN"
      },
      "execution_count": 27,
      "outputs": []
    },
    {
      "cell_type": "code",
      "source": [
        "# word counts for each article\n",
        "word_counts = np.asarray([len(article) for article in content_sent_tokens])\n",
        "pd.DataFrame({\"values\": [np.mean(word_counts), np.min(word_counts), np.max(word_counts)]}, index = [\"mean\", \"minimum\", \"maximum\"])"
      ],
      "metadata": {
        "colab": {
          "base_uri": "https://localhost:8080/",
          "height": 143
        },
        "id": "VlgRPeH9-x8r",
        "outputId": "61624fd0-5c90-4084-9307-33be9242fbb5"
      },
      "execution_count": 28,
      "outputs": [
        {
          "output_type": "execute_result",
          "data": {
            "text/plain": [
              "              values\n",
              "mean       56.509821\n",
              "minimum     2.000000\n",
              "maximum  2560.000000"
            ],
            "text/html": [
              "\n",
              "  <div id=\"df-528c139e-95fd-479e-aa7f-4d54ca138a8c\">\n",
              "    <div class=\"colab-df-container\">\n",
              "      <div>\n",
              "<style scoped>\n",
              "    .dataframe tbody tr th:only-of-type {\n",
              "        vertical-align: middle;\n",
              "    }\n",
              "\n",
              "    .dataframe tbody tr th {\n",
              "        vertical-align: top;\n",
              "    }\n",
              "\n",
              "    .dataframe thead th {\n",
              "        text-align: right;\n",
              "    }\n",
              "</style>\n",
              "<table border=\"1\" class=\"dataframe\">\n",
              "  <thead>\n",
              "    <tr style=\"text-align: right;\">\n",
              "      <th></th>\n",
              "      <th>values</th>\n",
              "    </tr>\n",
              "  </thead>\n",
              "  <tbody>\n",
              "    <tr>\n",
              "      <th>mean</th>\n",
              "      <td>56.509821</td>\n",
              "    </tr>\n",
              "    <tr>\n",
              "      <th>minimum</th>\n",
              "      <td>2.000000</td>\n",
              "    </tr>\n",
              "    <tr>\n",
              "      <th>maximum</th>\n",
              "      <td>2560.000000</td>\n",
              "    </tr>\n",
              "  </tbody>\n",
              "</table>\n",
              "</div>\n",
              "      <button class=\"colab-df-convert\" onclick=\"convertToInteractive('df-528c139e-95fd-479e-aa7f-4d54ca138a8c')\"\n",
              "              title=\"Convert this dataframe to an interactive table.\"\n",
              "              style=\"display:none;\">\n",
              "        \n",
              "  <svg xmlns=\"http://www.w3.org/2000/svg\" height=\"24px\"viewBox=\"0 0 24 24\"\n",
              "       width=\"24px\">\n",
              "    <path d=\"M0 0h24v24H0V0z\" fill=\"none\"/>\n",
              "    <path d=\"M18.56 5.44l.94 2.06.94-2.06 2.06-.94-2.06-.94-.94-2.06-.94 2.06-2.06.94zm-11 1L8.5 8.5l.94-2.06 2.06-.94-2.06-.94L8.5 2.5l-.94 2.06-2.06.94zm10 10l.94 2.06.94-2.06 2.06-.94-2.06-.94-.94-2.06-.94 2.06-2.06.94z\"/><path d=\"M17.41 7.96l-1.37-1.37c-.4-.4-.92-.59-1.43-.59-.52 0-1.04.2-1.43.59L10.3 9.45l-7.72 7.72c-.78.78-.78 2.05 0 2.83L4 21.41c.39.39.9.59 1.41.59.51 0 1.02-.2 1.41-.59l7.78-7.78 2.81-2.81c.8-.78.8-2.07 0-2.86zM5.41 20L4 18.59l7.72-7.72 1.47 1.35L5.41 20z\"/>\n",
              "  </svg>\n",
              "      </button>\n",
              "      \n",
              "  <style>\n",
              "    .colab-df-container {\n",
              "      display:flex;\n",
              "      flex-wrap:wrap;\n",
              "      gap: 12px;\n",
              "    }\n",
              "\n",
              "    .colab-df-convert {\n",
              "      background-color: #E8F0FE;\n",
              "      border: none;\n",
              "      border-radius: 50%;\n",
              "      cursor: pointer;\n",
              "      display: none;\n",
              "      fill: #1967D2;\n",
              "      height: 32px;\n",
              "      padding: 0 0 0 0;\n",
              "      width: 32px;\n",
              "    }\n",
              "\n",
              "    .colab-df-convert:hover {\n",
              "      background-color: #E2EBFA;\n",
              "      box-shadow: 0px 1px 2px rgba(60, 64, 67, 0.3), 0px 1px 3px 1px rgba(60, 64, 67, 0.15);\n",
              "      fill: #174EA6;\n",
              "    }\n",
              "\n",
              "    [theme=dark] .colab-df-convert {\n",
              "      background-color: #3B4455;\n",
              "      fill: #D2E3FC;\n",
              "    }\n",
              "\n",
              "    [theme=dark] .colab-df-convert:hover {\n",
              "      background-color: #434B5C;\n",
              "      box-shadow: 0px 1px 3px 1px rgba(0, 0, 0, 0.15);\n",
              "      filter: drop-shadow(0px 1px 2px rgba(0, 0, 0, 0.3));\n",
              "      fill: #FFFFFF;\n",
              "    }\n",
              "  </style>\n",
              "\n",
              "      <script>\n",
              "        const buttonEl =\n",
              "          document.querySelector('#df-528c139e-95fd-479e-aa7f-4d54ca138a8c button.colab-df-convert');\n",
              "        buttonEl.style.display =\n",
              "          google.colab.kernel.accessAllowed ? 'block' : 'none';\n",
              "\n",
              "        async function convertToInteractive(key) {\n",
              "          const element = document.querySelector('#df-528c139e-95fd-479e-aa7f-4d54ca138a8c');\n",
              "          const dataTable =\n",
              "            await google.colab.kernel.invokeFunction('convertToInteractive',\n",
              "                                                     [key], {});\n",
              "          if (!dataTable) return;\n",
              "\n",
              "          const docLinkHtml = 'Like what you see? Visit the ' +\n",
              "            '<a target=\"_blank\" href=https://colab.research.google.com/notebooks/data_table.ipynb>data table notebook</a>'\n",
              "            + ' to learn more about interactive tables.';\n",
              "          element.innerHTML = '';\n",
              "          dataTable['output_type'] = 'display_data';\n",
              "          await google.colab.output.renderOutput(dataTable, element);\n",
              "          const docLink = document.createElement('div');\n",
              "          docLink.innerHTML = docLinkHtml;\n",
              "          element.appendChild(docLink);\n",
              "        }\n",
              "      </script>\n",
              "    </div>\n",
              "  </div>\n",
              "  "
            ]
          },
          "metadata": {},
          "execution_count": 28
        }
      ]
    },
    {
      "cell_type": "markdown",
      "source": [
        "The average length of our news content is 56 words."
      ],
      "metadata": {
        "id": "NV90MeXqDnTK"
      }
    },
    {
      "cell_type": "code",
      "source": [
        "plt.xlim([0, 500])\n",
        "sns.histplot(word_counts)"
      ],
      "metadata": {
        "colab": {
          "base_uri": "https://localhost:8080/",
          "height": 652
        },
        "id": "15t2yqUcSYji",
        "outputId": "06295b73-0e46-4006-df95-2d8b855cc6da"
      },
      "execution_count": 83,
      "outputs": [
        {
          "output_type": "execute_result",
          "data": {
            "text/plain": [
              "<Axes: ylabel='Count'>"
            ]
          },
          "metadata": {},
          "execution_count": 83
        },
        {
          "output_type": "display_data",
          "data": {
            "text/plain": [
              "<Figure size 960x720 with 1 Axes>"
            ],
            "image/png": "[encoded data removed]"
          },
          "metadata": {}
        }
      ]
    },
    {
      "cell_type": "code",
      "source": [
        "sns.histplot(word_counts[word_counts < 50])"
      ],
      "metadata": {
        "colab": {
          "base_uri": "https://localhost:8080/",
          "height": 447
        },
        "id": "tij4XW01ZLOg",
        "outputId": "1a057289-8b0d-4b31-e806-507526a4e251"
      },
      "execution_count": 32,
      "outputs": [
        {
          "output_type": "execute_result",
          "data": {
            "text/plain": [
              "<Axes: ylabel='Count'>"
            ]
          },
          "metadata": {},
          "execution_count": 32
        },
        {
          "output_type": "display_data",
          "data": {
            "text/plain": [
              "<Figure size 640x480 with 1 Axes>"
            ],
            "image/png": "[encoded data removed]"
          },
          "metadata": {}
        }
      ]
    },
    {
      "cell_type": "code",
      "source": [
        "plt.xlim([0, 1000])\n",
        "sns.histplot(word_counts[word_counts > 50], bins = 20)\n",
        "plt.title('Article Length')\n",
        "plt.ylabel('word count')\n",
        "plt.xlabel('number of articles')\n",
        "plt.show()"
      ],
      "metadata": {
        "colab": {
          "base_uri": "https://localhost:8080/",
          "height": 695
        },
        "id": "eAsHmALZbWu_",
        "outputId": "aff4618d-c87d-404d-d12f-5a27e58f5f9c"
      },
      "execution_count": 86,
      "outputs": [
        {
          "output_type": "display_data",
          "data": {
            "text/plain": [
              "<Figure size 960x720 with 1 Axes>"
            ],
            "image/png": "[encoded data removed]"
          },
          "metadata": {}
        }
      ]
    },
    {
      "cell_type": "markdown",
      "source": [
        "### Content: Bigram Analysis"
      ],
      "metadata": {
        "id": "GsSqFGfudC7u"
      }
    },
    {
      "cell_type": "code",
      "source": [
        "news_content = [normalize(content) for content in news_content]\n",
        "\n",
        "content_tokenized = []\n",
        "for content in news_content:\n",
        "  content_tokenized.extend(word_tokenize(content))\n",
        "\n",
        "from nltk.util import ngrams\n",
        "content_bigram = [' '.join(e) for e in ngrams(content_tokenized, 2)]\n",
        "content_bigram[:5]"
      ],
      "metadata": {
        "colab": {
          "base_uri": "https://localhost:8080/"
        },
        "id": "g7ykdaVgr9dc",
        "outputId": "09221396-58fb-460f-f3ee-efd67dd711ba"
      },
      "execution_count": 59,
      "outputs": [
        {
          "output_type": "execute_result",
          "data": {
            "text/plain": [
              "['lead lack',\n",
              " 'lack transparency',\n",
              " 'transparency accord',\n",
              " 'accord dallas',\n",
              " 'dallas maverick']"
            ]
          },
          "metadata": {},
          "execution_count": 59
        }
      ]
    },
    {
      "cell_type": "code",
      "source": [
        "collections.Counter(content_bigram).most_common(15)"
      ],
      "metadata": {
        "colab": {
          "base_uri": "https://localhost:8080/"
        },
        "id": "LCi-jTd67et1",
        "outputId": "353694dc-26ef-4943-8a9b-2f0df3235327"
      },
      "execution_count": 60,
      "outputs": [
        {
          "output_type": "execute_result",
          "data": {
            "text/plain": [
              "[('social medium', 767),\n",
              " ('full coverage', 429),\n",
              " ('coverage google', 429),\n",
              " ('google news', 429),\n",
              " ('appear first', 331),\n",
              " ('medium platform', 289),\n",
              " ('tesla ceo', 225),\n",
              " ('new york', 206),\n",
              " ('medium company', 204),\n",
              " ('continue read', 187),\n",
              " ('new owner', 149),\n",
              " ('social network', 148),\n",
              " ('billion deal', 145),\n",
              " ('deal buy', 143),\n",
              " ('originally publish', 118)]"
            ]
          },
          "metadata": {},
          "execution_count": 60
        }
      ]
    },
    {
      "cell_type": "code",
      "source": [
        "len(content_bigram)"
      ],
      "metadata": {
        "colab": {
          "base_uri": "https://localhost:8080/"
        },
        "id": "wPuQ6Dps9jAA",
        "outputId": "5c56c637-d02e-40df-edf7-5fa2340ddb79"
      },
      "execution_count": 89,
      "outputs": [
        {
          "output_type": "execute_result",
          "data": {
            "text/plain": [
              "140837"
            ]
          },
          "metadata": {},
          "execution_count": 89
        }
      ]
    },
    {
      "cell_type": "markdown",
      "source": [
        " ### Keyword Extraction\n",
        " In text analysis, we wish to extract the keywords, words that reveal more information than others that can help us better understand the text. The extraction methods we are going to try include TF-IDF and TextRank."
      ],
      "metadata": {
        "id": "EYQYsvUW4kKl"
      }
    },
    {
      "cell_type": "markdown",
      "source": [
        "#### TFIDF important keywords"
      ],
      "metadata": {
        "id": "FBNPNXBGAxXy"
      }
    },
    {
      "cell_type": "code",
      "source": [
        "# text data\n",
        "text_data = news_content"
      ],
      "metadata": {
        "id": "t3XbYDuzpFjn"
      },
      "execution_count": 61,
      "outputs": []
    },
    {
      "cell_type": "code",
      "source": [
        "# Extract meaningful bigram key phrases\n",
        "from collections import defaultdict\n",
        "bigrams = set()\n",
        "c = defaultdict(int) # setting defaultdict as int makes it easier for (keyphrase) counting\n",
        "m = defaultdict(set) # create a dictionary containing each keyphrase\n",
        "N = len(text_data)"
      ],
      "metadata": {
        "id": "VEp5wRlUAv3w"
      },
      "execution_count": 62,
      "outputs": []
    },
    {
      "cell_type": "code",
      "source": [
        "candidate_pos = ['NOUN', 'PROPN', 'ADP']\n",
        "def isValid(token):\n",
        "  if token.pos_ in candidate_pos:\n",
        "    return True\n",
        "  else:\n",
        "    return False"
      ],
      "metadata": {
        "id": "vs087Mwap8EI"
      },
      "execution_count": 63,
      "outputs": []
    },
    {
      "cell_type": "code",
      "source": [
        "for d, sent in enumerate(text_data):\n",
        "  doc = nlp(sent)\n",
        "  n = len(doc)\n",
        "  for i in range(n - 1): # bigrams has 1 less pairs\n",
        "    if isValid(doc[i]) and isValid(doc[i + 1]):\n",
        "      pair = (doc[i].text.lower(), doc[i+1].text.lower())\n",
        "      bigrams.add(pair)\n",
        "      c[pair] += 1\n",
        "      m[pair].add(d) \n",
        "    # set dictionary records unique indexes of sentences in which the keyphrases appear."
      ],
      "metadata": {
        "id": "IBdtGskv9ekm"
      },
      "execution_count": 64,
      "outputs": []
    },
    {
      "cell_type": "markdown",
      "source": [
        "##### TF-IDF Calculation"
      ],
      "metadata": {
        "id": "kHM_tlTYqSGx"
      }
    },
    {
      "cell_type": "code",
      "source": [
        "from math import log\n",
        "\n",
        "tfidf = defaultdict(int)\n",
        "# Total number of keyphrase\n",
        "Nw = sum([val for key, val in c.items()])\n",
        "\n",
        "for pair in bigrams:\n",
        "  tf = c[pair] / Nw\n",
        "  idf = log(N / len(m[pair]))\n",
        "  tfidf[pair] = tf* idf # map the value of tfidf to pairs"
      ],
      "metadata": {
        "id": "rpT8hNnGqRmE"
      },
      "execution_count": 65,
      "outputs": []
    },
    {
      "cell_type": "code",
      "source": [
        "pd.DataFrame(tfidf.items(), columns = ['pair', 'tfidf']).sort_values(\n",
        "    by = 'tfidf', ascending = False)[:15]"
      ],
      "metadata": {
        "colab": {
          "base_uri": "https://localhost:8080/",
          "height": 519
        },
        "id": "6JGI6YG2qi7F",
        "outputId": "c972c87e-2851-4d57-a695-4bc8e4235ac4"
      },
      "execution_count": 66,
      "outputs": [
        {
          "output_type": "execute_result",
          "data": {
            "text/plain": [
              "                           pair     tfidf\n",
              "5307         (coverage, google)  0.019761\n",
              "23109            (google, news)  0.019708\n",
              "14096              (tesla, ceo)  0.013143\n",
              "16323               (new, york)  0.012768\n",
              "25021        (medium, platform)  0.009982\n",
              "27388            (wall, street)  0.008681\n",
              "10133     (content, moderation)  0.007334\n",
              "31724              (news, html)  0.006892\n",
              "7087   (httpswww, hotnewhiphop)  0.006892\n",
              "25656        (washington, post)  0.006821\n",
              "17876            (jack, dorsey)  0.006635\n",
              "6423        (fox, businesselon)  0.006429\n",
              "20581               (deal, buy)  0.005848\n",
              "3206               (ceo, parag)  0.005826\n",
              "8999          (delaware, court)  0.005514"
            ],
            "text/html": [
              "\n",
              "  <div id=\"df-9efc25b0-e1d1-45b6-9d85-d012736ccd41\">\n",
              "    <div class=\"colab-df-container\">\n",
              "      <div>\n",
              "<style scoped>\n",
              "    .dataframe tbody tr th:only-of-type {\n",
              "        vertical-align: middle;\n",
              "    }\n",
              "\n",
              "    .dataframe tbody tr th {\n",
              "        vertical-align: top;\n",
              "    }\n",
              "\n",
              "    .dataframe thead th {\n",
              "        text-align: right;\n",
              "    }\n",
              "</style>\n",
              "<table border=\"1\" class=\"dataframe\">\n",
              "  <thead>\n",
              "    <tr style=\"text-align: right;\">\n",
              "      <th></th>\n",
              "      <th>pair</th>\n",
              "      <th>tfidf</th>\n",
              "    </tr>\n",
              "  </thead>\n",
              "  <tbody>\n",
              "    <tr>\n",
              "      <th>5307</th>\n",
              "      <td>(coverage, google)</td>\n",
              "      <td>0.019761</td>\n",
              "    </tr>\n",
              "    <tr>\n",
              "      <th>23109</th>\n",
              "      <td>(google, news)</td>\n",
              "      <td>0.019708</td>\n",
              "    </tr>\n",
              "    <tr>\n",
              "      <th>14096</th>\n",
              "      <td>(tesla, ceo)</td>\n",
              "      <td>0.013143</td>\n",
              "    </tr>\n",
              "    <tr>\n",
              "      <th>16323</th>\n",
              "      <td>(new, york)</td>\n",
              "      <td>0.012768</td>\n",
              "    </tr>\n",
              "    <tr>\n",
              "      <th>25021</th>\n",
              "      <td>(medium, platform)</td>\n",
              "      <td>0.009982</td>\n",
              "    </tr>\n",
              "    <tr>\n",
              "      <th>27388</th>\n",
              "      <td>(wall, street)</td>\n",
              "      <td>0.008681</td>\n",
              "    </tr>\n",
              "    <tr>\n",
              "      <th>10133</th>\n",
              "      <td>(content, moderation)</td>\n",
              "      <td>0.007334</td>\n",
              "    </tr>\n",
              "    <tr>\n",
              "      <th>31724</th>\n",
              "      <td>(news, html)</td>\n",
              "      <td>0.006892</td>\n",
              "    </tr>\n",
              "    <tr>\n",
              "      <th>7087</th>\n",
              "      <td>(httpswww, hotnewhiphop)</td>\n",
              "      <td>0.006892</td>\n",
              "    </tr>\n",
              "    <tr>\n",
              "      <th>25656</th>\n",
              "      <td>(washington, post)</td>\n",
              "      <td>0.006821</td>\n",
              "    </tr>\n",
              "    <tr>\n",
              "      <th>17876</th>\n",
              "      <td>(jack, dorsey)</td>\n",
              "      <td>0.006635</td>\n",
              "    </tr>\n",
              "    <tr>\n",
              "      <th>6423</th>\n",
              "      <td>(fox, businesselon)</td>\n",
              "      <td>0.006429</td>\n",
              "    </tr>\n",
              "    <tr>\n",
              "      <th>20581</th>\n",
              "      <td>(deal, buy)</td>\n",
              "      <td>0.005848</td>\n",
              "    </tr>\n",
              "    <tr>\n",
              "      <th>3206</th>\n",
              "      <td>(ceo, parag)</td>\n",
              "      <td>0.005826</td>\n",
              "    </tr>\n",
              "    <tr>\n",
              "      <th>8999</th>\n",
              "      <td>(delaware, court)</td>\n",
              "      <td>0.005514</td>\n",
              "    </tr>\n",
              "  </tbody>\n",
              "</table>\n",
              "</div>\n",
              "      <button class=\"colab-df-convert\" onclick=\"convertToInteractive('df-9efc25b0-e1d1-45b6-9d85-d012736ccd41')\"\n",
              "              title=\"Convert this dataframe to an interactive table.\"\n",
              "              style=\"display:none;\">\n",
              "        \n",
              "  <svg xmlns=\"http://www.w3.org/2000/svg\" height=\"24px\"viewBox=\"0 0 24 24\"\n",
              "       width=\"24px\">\n",
              "    <path d=\"M0 0h24v24H0V0z\" fill=\"none\"/>\n",
              "    <path d=\"M18.56 5.44l.94 2.06.94-2.06 2.06-.94-2.06-.94-.94-2.06-.94 2.06-2.06.94zm-11 1L8.5 8.5l.94-2.06 2.06-.94-2.06-.94L8.5 2.5l-.94 2.06-2.06.94zm10 10l.94 2.06.94-2.06 2.06-.94-2.06-.94-.94-2.06-.94 2.06-2.06.94z\"/><path d=\"M17.41 7.96l-1.37-1.37c-.4-.4-.92-.59-1.43-.59-.52 0-1.04.2-1.43.59L10.3 9.45l-7.72 7.72c-.78.78-.78 2.05 0 2.83L4 21.41c.39.39.9.59 1.41.59.51 0 1.02-.2 1.41-.59l7.78-7.78 2.81-2.81c.8-.78.8-2.07 0-2.86zM5.41 20L4 18.59l7.72-7.72 1.47 1.35L5.41 20z\"/>\n",
              "  </svg>\n",
              "      </button>\n",
              "      \n",
              "  <style>\n",
              "    .colab-df-container {\n",
              "      display:flex;\n",
              "      flex-wrap:wrap;\n",
              "      gap: 12px;\n",
              "    }\n",
              "\n",
              "    .colab-df-convert {\n",
              "      background-color: #E8F0FE;\n",
              "      border: none;\n",
              "      border-radius: 50%;\n",
              "      cursor: pointer;\n",
              "      display: none;\n",
              "      fill: #1967D2;\n",
              "      height: 32px;\n",
              "      padding: 0 0 0 0;\n",
              "      width: 32px;\n",
              "    }\n",
              "\n",
              "    .colab-df-convert:hover {\n",
              "      background-color: #E2EBFA;\n",
              "      box-shadow: 0px 1px 2px rgba(60, 64, 67, 0.3), 0px 1px 3px 1px rgba(60, 64, 67, 0.15);\n",
              "      fill: #174EA6;\n",
              "    }\n",
              "\n",
              "    [theme=dark] .colab-df-convert {\n",
              "      background-color: #3B4455;\n",
              "      fill: #D2E3FC;\n",
              "    }\n",
              "\n",
              "    [theme=dark] .colab-df-convert:hover {\n",
              "      background-color: #434B5C;\n",
              "      box-shadow: 0px 1px 3px 1px rgba(0, 0, 0, 0.15);\n",
              "      filter: drop-shadow(0px 1px 2px rgba(0, 0, 0, 0.3));\n",
              "      fill: #FFFFFF;\n",
              "    }\n",
              "  </style>\n",
              "\n",
              "      <script>\n",
              "        const buttonEl =\n",
              "          document.querySelector('#df-9efc25b0-e1d1-45b6-9d85-d012736ccd41 button.colab-df-convert');\n",
              "        buttonEl.style.display =\n",
              "          google.colab.kernel.accessAllowed ? 'block' : 'none';\n",
              "\n",
              "        async function convertToInteractive(key) {\n",
              "          const element = document.querySelector('#df-9efc25b0-e1d1-45b6-9d85-d012736ccd41');\n",
              "          const dataTable =\n",
              "            await google.colab.kernel.invokeFunction('convertToInteractive',\n",
              "                                                     [key], {});\n",
              "          if (!dataTable) return;\n",
              "\n",
              "          const docLinkHtml = 'Like what you see? Visit the ' +\n",
              "            '<a target=\"_blank\" href=https://colab.research.google.com/notebooks/data_table.ipynb>data table notebook</a>'\n",
              "            + ' to learn more about interactive tables.';\n",
              "          element.innerHTML = '';\n",
              "          dataTable['output_type'] = 'display_data';\n",
              "          await google.colab.output.renderOutput(dataTable, element);\n",
              "          const docLink = document.createElement('div');\n",
              "          docLink.innerHTML = docLinkHtml;\n",
              "          element.appendChild(docLink);\n",
              "        }\n",
              "      </script>\n",
              "    </div>\n",
              "  </div>\n",
              "  "
            ]
          },
          "metadata": {},
          "execution_count": 66
        }
      ]
    },
    {
      "cell_type": "markdown",
      "source": [
        "Although most keywords extracted here are usual words such as news, medium, or name of the news outlets, this list still presents some interesting words such as content moderation, Jack Dorsey, CEO Parag (Agarwal), and Delaware court."
      ],
      "metadata": {
        "id": "veGt05YFz4in"
      }
    },
    {
      "cell_type": "markdown",
      "source": [
        "#### Text Rank"
      ],
      "metadata": {
        "id": "ax-NNbmStoQu"
      }
    },
    {
      "cell_type": "code",
      "source": [
        "candidate_pos = ['NOUN', 'PROPN','ADP']\n",
        "# vocab_dict\n",
        "vocab_set = set()\n",
        "\n",
        "for d, sent in enumerate(text_data):\n",
        "    doc = nlp(sent)\n",
        "    for token in doc:\n",
        "        if isValid(token):\n",
        "            vocab_set.add(token.text.lower())\n",
        "\n",
        "# List of keyphrase candidates\n",
        "vocab_list = list(vocab_set)"
      ],
      "metadata": {
        "id": "3rw1dz7wtnr_"
      },
      "execution_count": 68,
      "outputs": []
    },
    {
      "cell_type": "code",
      "source": [
        "vocab_dict = {token:i for i,token in enumerate(vocab_list)}"
      ],
      "metadata": {
        "id": "KoZ_K38wyWDs"
      },
      "execution_count": 69,
      "outputs": []
    },
    {
      "cell_type": "markdown",
      "source": [
        "##### Cooccurrence Matrix"
      ],
      "metadata": {
        "id": "EI12L0p10JWt"
      }
    },
    {
      "cell_type": "code",
      "source": [
        "window_size = 8\n",
        "pairs = defaultdict(int)\n",
        "\n",
        "for article in text_data:\n",
        "    doc = nlp(article)\n",
        "    for i, token_i in enumerate(doc):\n",
        "        if isValid(token_i):\n",
        "            for j, token_j in enumerate(doc[i+1:i+window_size]):\n",
        "                if isValid(token_j):\n",
        "                    pair = (token_i.text.lower(), token_j.text.lower())\n",
        "                    pairs[pair] += 1"
      ],
      "metadata": {
        "id": "O_Lb5M5g0TCW"
      },
      "execution_count": 70,
      "outputs": []
    },
    {
      "cell_type": "code",
      "source": [
        "vocab_size = len(vocab_list)"
      ],
      "metadata": {
        "id": "5q7gteMKxvQ9"
      },
      "execution_count": 71,
      "outputs": []
    },
    {
      "cell_type": "code",
      "source": [
        "import numpy as np\n",
        "# cooccurence matrix\n",
        "M = np.zeros((vocab_size, vocab_size))\n",
        "\n",
        "for pair in pairs:\n",
        "    i = vocab_dict[pair[0]]\n",
        "    j = vocab_dict[pair[1]]\n",
        "    M[i,j] = pairs[pair]\n",
        "\n",
        "# Forming a symmetric matrix \n",
        "M = M + M.T - np.diag(M.diagonal())\n",
        "\n",
        "out = M.sum(axis=1)[:, None]\n",
        "W = np.divide(M, out, where=out!=0)"
      ],
      "metadata": {
        "id": "QJlGHjHU0uN3"
      },
      "execution_count": 72,
      "outputs": []
    },
    {
      "cell_type": "code",
      "source": [
        "# calculate page rank scores (single word)\n",
        "pr = np.ones(vocab_size)\n",
        "previous_pr = pr\n",
        "steps = 100\n",
        "threshold=1e-5\n",
        "damping = 0.85"
      ],
      "metadata": {
        "id": "DMp_wnoY1Q4F"
      },
      "execution_count": 73,
      "outputs": []
    },
    {
      "cell_type": "code",
      "source": [
        "for i in range(steps):\n",
        "    pr = (1-damping) + damping * pr.dot(W)\n",
        "    if ((previous_pr - pr)**2).sum() < threshold:\n",
        "        print(f'Converged in {i+1} steps')\n",
        "        break\n",
        "    else:\n",
        "        previous_pr = pr"
      ],
      "metadata": {
        "colab": {
          "base_uri": "https://localhost:8080/"
        },
        "id": "RjAxENlR1g-N",
        "outputId": "aedbb954-08f0-4665-8387-081e9625cf89"
      },
      "execution_count": 74,
      "outputs": [
        {
          "output_type": "stream",
          "name": "stdout",
          "text": [
            "Converged in 19 steps\n"
          ]
        }
      ]
    },
    {
      "cell_type": "code",
      "source": [
        "top = np.argsort(pr)[::-1]\n",
        "[(vocab_list[idx], pr[idx].round(2)) for idx in top[:10]]"
      ],
      "metadata": {
        "colab": {
          "base_uri": "https://localhost:8080/"
        },
        "id": "ux7td-uO1lZU",
        "outputId": "794f1c1e-5e92-4e8f-9e7d-35f460fb5837"
      },
      "execution_count": 75,
      "outputs": [
        {
          "output_type": "execute_result",
          "data": {
            "text/plain": [
              "[('company', 114.53),\n",
              " ('deal', 69.75),\n",
              " ('account', 68.1),\n",
              " ('platform', 66.17),\n",
              " ('post', 60.69),\n",
              " ('user', 60.67),\n",
              " ('news', 60.49),\n",
              " ('ceo', 50.28),\n",
              " ('tweet', 48.53),\n",
              " ('employee', 41.42)]"
            ]
          },
          "metadata": {},
          "execution_count": 75
        }
      ]
    },
    {
      "cell_type": "code",
      "source": [
        "# pagerank scores on bigrams\n",
        "pairs = defaultdict(float)\n",
        "for review in text_data:\n",
        "    doc = nlp(review)\n",
        "    n = len(doc)\n",
        "    for i in range(n-1):\n",
        "        w1 = doc[i].text.lower()\n",
        "        w2 = doc[i+1].text.lower()\n",
        "        if w1 in vocab_dict and w2 in vocab_dict:\n",
        "            pair = (w1, w2)\n",
        "            idx1 = vocab_dict[w1]\n",
        "            idx2 = vocab_dict[w2]\n",
        "            pr1 = pr[idx1]\n",
        "            pr2 = pr[idx2]\n",
        "            pairs[pair] = (pr1+pr2)/2"
      ],
      "metadata": {
        "id": "JOk-GFY9xOGx"
      },
      "execution_count": 77,
      "outputs": []
    },
    {
      "cell_type": "code",
      "source": [
        "keyphrases = [(val, key) for key, val in pairs.items()]\n",
        "keyphrases.sort()\n",
        "keyphrases = keyphrases[::-1]\n",
        "keyphrases[:20]"
      ],
      "metadata": {
        "colab": {
          "base_uri": "https://localhost:8080/"
        },
        "id": "b9XJdtigzHPd",
        "outputId": "a77f036b-e829-41a4-fe71-e3f3e826f20f"
      },
      "execution_count": 79,
      "outputs": [
        {
          "output_type": "execute_result",
          "data": {
            "text/plain": [
              "[(114.53464284270662, ('company', 'company')),\n",
              " (92.14241294435772, ('deal', 'company')),\n",
              " (92.14241294435772, ('company', 'deal')),\n",
              " (91.31877583105543, ('company', 'account')),\n",
              " (91.31877583105543, ('account', 'company')),\n",
              " (90.35122938596338, ('platform', 'company')),\n",
              " (90.35122938596338, ('company', 'platform')),\n",
              " (87.6129013887287, ('post', 'company')),\n",
              " (87.6129013887287, ('company', 'post')),\n",
              " (87.6002954229607, ('user', 'company')),\n",
              " (87.6002954229607, ('company', 'user')),\n",
              " (87.51308998729795, ('news', 'company')),\n",
              " (87.51308998729795, ('company', 'news')),\n",
              " (82.40708282764561, ('company', 'ceo')),\n",
              " (82.40708282764561, ('ceo', 'company')),\n",
              " (81.53206580923346, ('tweet', 'company')),\n",
              " (81.53206580923346, ('company', 'tweet')),\n",
              " (77.97687446747491, ('employee', 'company')),\n",
              " (77.97687446747491, ('company', 'employee')),\n",
              " (77.47293088685616, ('report', 'company'))]"
            ]
          },
          "metadata": {},
          "execution_count": 79
        }
      ]
    },
    {
      "cell_type": "markdown",
      "source": [
        "The scores from Text Rank does not give us useful information since it tends to return the same word over and over again."
      ],
      "metadata": {
        "id": "YUJ2jlx52ynQ"
      }
    },
    {
      "cell_type": "markdown",
      "source": [
        "### Bigram Network Graph\n",
        "As the last part of the notebook, let's use the bigram we created through tfidf to create a network graph to visualize the relationships among bigrams."
      ],
      "metadata": {
        "id": "UK3yN8FX3zQH"
      }
    },
    {
      "cell_type": "code",
      "source": [
        "tfidf_bigram = pd.DataFrame(tfidf.items(), columns = ['pair', 'tfidf']).sort_values(\n",
        "    by = 'tfidf', ascending = False)\n",
        "tfidf_bigram.head(25)"
      ],
      "metadata": {
        "colab": {
          "base_uri": "https://localhost:8080/",
          "height": 833
        },
        "id": "ezq9LalG42Z-",
        "outputId": "377c8ccb-81c2-4429-f15c-e8064e9e73d0"
      },
      "execution_count": 134,
      "outputs": [
        {
          "output_type": "execute_result",
          "data": {
            "text/plain": [
              "                             pair     tfidf\n",
              "5307           (coverage, google)  0.019761\n",
              "23109              (google, news)  0.019708\n",
              "14096                (tesla, ceo)  0.013143\n",
              "16323                 (new, york)  0.012768\n",
              "25021          (medium, platform)  0.009982\n",
              "27388              (wall, street)  0.008681\n",
              "10133       (content, moderation)  0.007334\n",
              "31724                (news, html)  0.006892\n",
              "7087     (httpswww, hotnewhiphop)  0.006892\n",
              "25656          (washington, post)  0.006821\n",
              "17876              (jack, dorsey)  0.006635\n",
              "6423          (fox, businesselon)  0.006429\n",
              "20581                 (deal, buy)  0.005848\n",
              "3206                 (ceo, parag)  0.005826\n",
              "8999            (delaware, court)  0.005514\n",
              "12719              (edit, button)  0.005284\n",
              "26969  (whistleblower, complaint)  0.005195\n",
              "5535              (spam, account)  0.004998\n",
              "5418               (mass, layoff)  0.004933\n",
              "11481            (parag, agrawal)  0.004827\n",
              "19238            (san, francisco)  0.004754\n",
              "28093             (donald, trump)  0.004741\n",
              "19985            (head, security)  0.004528\n",
              "4879              (peiter, zatko)  0.004423\n",
              "3967               (hate, speech)  0.004344"
            ],
            "text/html": [
              "\n",
              "  <div id=\"df-734d9456-4542-4ffe-b7f1-674f41f42cf6\">\n",
              "    <div class=\"colab-df-container\">\n",
              "      <div>\n",
              "<style scoped>\n",
              "    .dataframe tbody tr th:only-of-type {\n",
              "        vertical-align: middle;\n",
              "    }\n",
              "\n",
              "    .dataframe tbody tr th {\n",
              "        vertical-align: top;\n",
              "    }\n",
              "\n",
              "    .dataframe thead th {\n",
              "        text-align: right;\n",
              "    }\n",
              "</style>\n",
              "<table border=\"1\" class=\"dataframe\">\n",
              "  <thead>\n",
              "    <tr style=\"text-align: right;\">\n",
              "      <th></th>\n",
              "      <th>pair</th>\n",
              "      <th>tfidf</th>\n",
              "    </tr>\n",
              "  </thead>\n",
              "  <tbody>\n",
              "    <tr>\n",
              "      <th>5307</th>\n",
              "      <td>(coverage, google)</td>\n",
              "      <td>0.019761</td>\n",
              "    </tr>\n",
              "    <tr>\n",
              "      <th>23109</th>\n",
              "      <td>(google, news)</td>\n",
              "      <td>0.019708</td>\n",
              "    </tr>\n",
              "    <tr>\n",
              "      <th>14096</th>\n",
              "      <td>(tesla, ceo)</td>\n",
              "      <td>0.013143</td>\n",
              "    </tr>\n",
              "    <tr>\n",
              "      <th>16323</th>\n",
              "      <td>(new, york)</td>\n",
              "      <td>0.012768</td>\n",
              "    </tr>\n",
              "    <tr>\n",
              "      <th>25021</th>\n",
              "      <td>(medium, platform)</td>\n",
              "      <td>0.009982</td>\n",
              "    </tr>\n",
              "    <tr>\n",
              "      <th>27388</th>\n",
              "      <td>(wall, street)</td>\n",
              "      <td>0.008681</td>\n",
              "    </tr>\n",
              "    <tr>\n",
              "      <th>10133</th>\n",
              "      <td>(content, moderation)</td>\n",
              "      <td>0.007334</td>\n",
              "    </tr>\n",
              "    <tr>\n",
              "      <th>31724</th>\n",
              "      <td>(news, html)</td>\n",
              "      <td>0.006892</td>\n",
              "    </tr>\n",
              "    <tr>\n",
              "      <th>7087</th>\n",
              "      <td>(httpswww, hotnewhiphop)</td>\n",
              "      <td>0.006892</td>\n",
              "    </tr>\n",
              "    <tr>\n",
              "      <th>25656</th>\n",
              "      <td>(washington, post)</td>\n",
              "      <td>0.006821</td>\n",
              "    </tr>\n",
              "    <tr>\n",
              "      <th>17876</th>\n",
              "      <td>(jack, dorsey)</td>\n",
              "      <td>0.006635</td>\n",
              "    </tr>\n",
              "    <tr>\n",
              "      <th>6423</th>\n",
              "      <td>(fox, businesselon)</td>\n",
              "      <td>0.006429</td>\n",
              "    </tr>\n",
              "    <tr>\n",
              "      <th>20581</th>\n",
              "      <td>(deal, buy)</td>\n",
              "      <td>0.005848</td>\n",
              "    </tr>\n",
              "    <tr>\n",
              "      <th>3206</th>\n",
              "      <td>(ceo, parag)</td>\n",
              "      <td>0.005826</td>\n",
              "    </tr>\n",
              "    <tr>\n",
              "      <th>8999</th>\n",
              "      <td>(delaware, court)</td>\n",
              "      <td>0.005514</td>\n",
              "    </tr>\n",
              "    <tr>\n",
              "      <th>12719</th>\n",
              "      <td>(edit, button)</td>\n",
              "      <td>0.005284</td>\n",
              "    </tr>\n",
              "    <tr>\n",
              "      <th>26969</th>\n",
              "      <td>(whistleblower, complaint)</td>\n",
              "      <td>0.005195</td>\n",
              "    </tr>\n",
              "    <tr>\n",
              "      <th>5535</th>\n",
              "      <td>(spam, account)</td>\n",
              "      <td>0.004998</td>\n",
              "    </tr>\n",
              "    <tr>\n",
              "      <th>5418</th>\n",
              "      <td>(mass, layoff)</td>\n",
              "      <td>0.004933</td>\n",
              "    </tr>\n",
              "    <tr>\n",
              "      <th>11481</th>\n",
              "      <td>(parag, agrawal)</td>\n",
              "      <td>0.004827</td>\n",
              "    </tr>\n",
              "    <tr>\n",
              "      <th>19238</th>\n",
              "      <td>(san, francisco)</td>\n",
              "      <td>0.004754</td>\n",
              "    </tr>\n",
              "    <tr>\n",
              "      <th>28093</th>\n",
              "      <td>(donald, trump)</td>\n",
              "      <td>0.004741</td>\n",
              "    </tr>\n",
              "    <tr>\n",
              "      <th>19985</th>\n",
              "      <td>(head, security)</td>\n",
              "      <td>0.004528</td>\n",
              "    </tr>\n",
              "    <tr>\n",
              "      <th>4879</th>\n",
              "      <td>(peiter, zatko)</td>\n",
              "      <td>0.004423</td>\n",
              "    </tr>\n",
              "    <tr>\n",
              "      <th>3967</th>\n",
              "      <td>(hate, speech)</td>\n",
              "      <td>0.004344</td>\n",
              "    </tr>\n",
              "  </tbody>\n",
              "</table>\n",
              "</div>\n",
              "      <button class=\"colab-df-convert\" onclick=\"convertToInteractive('df-734d9456-4542-4ffe-b7f1-674f41f42cf6')\"\n",
              "              title=\"Convert this dataframe to an interactive table.\"\n",
              "              style=\"display:none;\">\n",
              "        \n",
              "  <svg xmlns=\"http://www.w3.org/2000/svg\" height=\"24px\"viewBox=\"0 0 24 24\"\n",
              "       width=\"24px\">\n",
              "    <path d=\"M0 0h24v24H0V0z\" fill=\"none\"/>\n",
              "    <path d=\"M18.56 5.44l.94 2.06.94-2.06 2.06-.94-2.06-.94-.94-2.06-.94 2.06-2.06.94zm-11 1L8.5 8.5l.94-2.06 2.06-.94-2.06-.94L8.5 2.5l-.94 2.06-2.06.94zm10 10l.94 2.06.94-2.06 2.06-.94-2.06-.94-.94-2.06-.94 2.06-2.06.94z\"/><path d=\"M17.41 7.96l-1.37-1.37c-.4-.4-.92-.59-1.43-.59-.52 0-1.04.2-1.43.59L10.3 9.45l-7.72 7.72c-.78.78-.78 2.05 0 2.83L4 21.41c.39.39.9.59 1.41.59.51 0 1.02-.2 1.41-.59l7.78-7.78 2.81-2.81c.8-.78.8-2.07 0-2.86zM5.41 20L4 18.59l7.72-7.72 1.47 1.35L5.41 20z\"/>\n",
              "  </svg>\n",
              "      </button>\n",
              "      \n",
              "  <style>\n",
              "    .colab-df-container {\n",
              "      display:flex;\n",
              "      flex-wrap:wrap;\n",
              "      gap: 12px;\n",
              "    }\n",
              "\n",
              "    .colab-df-convert {\n",
              "      background-color: #E8F0FE;\n",
              "      border: none;\n",
              "      border-radius: 50%;\n",
              "      cursor: pointer;\n",
              "      display: none;\n",
              "      fill: #1967D2;\n",
              "      height: 32px;\n",
              "      padding: 0 0 0 0;\n",
              "      width: 32px;\n",
              "    }\n",
              "\n",
              "    .colab-df-convert:hover {\n",
              "      background-color: #E2EBFA;\n",
              "      box-shadow: 0px 1px 2px rgba(60, 64, 67, 0.3), 0px 1px 3px 1px rgba(60, 64, 67, 0.15);\n",
              "      fill: #174EA6;\n",
              "    }\n",
              "\n",
              "    [theme=dark] .colab-df-convert {\n",
              "      background-color: #3B4455;\n",
              "      fill: #D2E3FC;\n",
              "    }\n",
              "\n",
              "    [theme=dark] .colab-df-convert:hover {\n",
              "      background-color: #434B5C;\n",
              "      box-shadow: 0px 1px 3px 1px rgba(0, 0, 0, 0.15);\n",
              "      filter: drop-shadow(0px 1px 2px rgba(0, 0, 0, 0.3));\n",
              "      fill: #FFFFFF;\n",
              "    }\n",
              "  </style>\n",
              "\n",
              "      <script>\n",
              "        const buttonEl =\n",
              "          document.querySelector('#df-734d9456-4542-4ffe-b7f1-674f41f42cf6 button.colab-df-convert');\n",
              "        buttonEl.style.display =\n",
              "          google.colab.kernel.accessAllowed ? 'block' : 'none';\n",
              "\n",
              "        async function convertToInteractive(key) {\n",
              "          const element = document.querySelector('#df-734d9456-4542-4ffe-b7f1-674f41f42cf6');\n",
              "          const dataTable =\n",
              "            await google.colab.kernel.invokeFunction('convertToInteractive',\n",
              "                                                     [key], {});\n",
              "          if (!dataTable) return;\n",
              "\n",
              "          const docLinkHtml = 'Like what you see? Visit the ' +\n",
              "            '<a target=\"_blank\" href=https://colab.research.google.com/notebooks/data_table.ipynb>data table notebook</a>'\n",
              "            + ' to learn more about interactive tables.';\n",
              "          element.innerHTML = '';\n",
              "          dataTable['output_type'] = 'display_data';\n",
              "          await google.colab.output.renderOutput(dataTable, element);\n",
              "          const docLink = document.createElement('div');\n",
              "          docLink.innerHTML = docLinkHtml;\n",
              "          element.appendChild(docLink);\n",
              "        }\n",
              "      </script>\n",
              "    </div>\n",
              "  </div>\n",
              "  "
            ]
          },
          "metadata": {},
          "execution_count": 134
        }
      ]
    },
    {
      "cell_type": "markdown",
      "source": [
        "Here I use the top 25 bigrams to create a network graph"
      ],
      "metadata": {
        "id": "XhUUqOpw6-ZB"
      }
    },
    {
      "cell_type": "code",
      "source": [
        "top_bigram = tfidf_bigram['pair'][:10]\n",
        "top_bigram"
      ],
      "metadata": {
        "colab": {
          "base_uri": "https://localhost:8080/"
        },
        "id": "s4jjMO0269WK",
        "outputId": "59d487ea-0bfb-494b-b4eb-c30387d78627"
      },
      "execution_count": 175,
      "outputs": [
        {
          "output_type": "execute_result",
          "data": {
            "text/plain": [
              "5307           (coverage, google)\n",
              "23109              (google, news)\n",
              "14096                (tesla, ceo)\n",
              "16323                 (new, york)\n",
              "25021          (medium, platform)\n",
              "27388              (wall, street)\n",
              "10133       (content, moderation)\n",
              "31724                (news, html)\n",
              "7087     (httpswww, hotnewhiphop)\n",
              "25656          (washington, post)\n",
              "Name: pair, dtype: object"
            ]
          },
          "metadata": {},
          "execution_count": 175
        }
      ]
    },
    {
      "cell_type": "code",
      "source": [
        "# !pip install networkx"
      ],
      "metadata": {
        "colab": {
          "base_uri": "https://localhost:8080/"
        },
        "id": "18GaZgfL4hHP",
        "outputId": "3c530e2c-8c1c-4572-eaee-70f6dec27d4f"
      },
      "execution_count": 80,
      "outputs": [
        {
          "output_type": "stream",
          "name": "stdout",
          "text": [
            "Looking in indexes: https://pypi.org/simple, https://us-python.pkg.dev/colab-wheels/public/simple/\n",
            "Requirement already satisfied: networkx in /usr/local/lib/python3.9/dist-packages (3.1)\n"
          ]
        }
      ]
    },
    {
      "cell_type": "code",
      "source": [
        "import networkx as nx\n",
        "\n",
        "# Create a list of bigrams\n",
        "bigram_list = list(top_bigram)\n",
        "\n",
        "# we also need a list of our tokenized single words\n",
        "words = []\n",
        "for i in bigram_list:\n",
        "  one, two = i\n",
        "  words.extend([one, two])\n",
        "\n",
        "# Create a graph\n",
        "G = nx.Graph()\n",
        "\n",
        "# Add nodes to the graph for each unique word in the bigrams\n",
        "for word in set(words):\n",
        "    G.add_node(word)\n",
        "\n",
        "# Add edges to the graph for each bigram\n",
        "for bigram in bigram_list:\n",
        "    G.add_edge(bigram[0], bigram[1])\n",
        "\n",
        "# Draw the graph\n",
        "nx.draw(G, font_size = 9, with_labels= True)\n",
        "plt.show()"
      ],
      "metadata": {
        "colab": {
          "base_uri": "https://localhost:8080/",
          "height": 767
        },
        "id": "UN7WKUYB4pNr",
        "outputId": "da35c9db-e186-4f21-e739-9bf48258b2b4"
      },
      "execution_count": 176,
      "outputs": [
        {
          "output_type": "display_data",
          "data": {
            "text/plain": [
              "<Figure size 960x720 with 1 Axes>"
            ],
            "image/png": "[encoded data removed]"
          },
          "metadata": {}
        }
      ]
    },
    {
      "cell_type": "markdown",
      "source": [
        "The bigram from tfidf does not show a valid relationship, so I decide to try out the most common bigrams"
      ],
      "metadata": {
        "id": "UzgNL_X8O6Hm"
      }
    },
    {
      "cell_type": "code",
      "source": [
        "common_bigram = collections.Counter(content_bigram).most_common(10)\n",
        "common_df = pd.DataFrame(common_bigram)\n",
        "common_df[0]"
      ],
      "metadata": {
        "colab": {
          "base_uri": "https://localhost:8080/"
        },
        "id": "XrTLEWQMOtSd",
        "outputId": "c8e944f7-2806-4d5b-c778-a8e07fd7bffc"
      },
      "execution_count": 177,
      "outputs": [
        {
          "output_type": "execute_result",
          "data": {
            "text/plain": [
              "0      social medium\n",
              "1      full coverage\n",
              "2    coverage google\n",
              "3        google news\n",
              "4       appear first\n",
              "5    medium platform\n",
              "6          tesla ceo\n",
              "7           new york\n",
              "8     medium company\n",
              "9      continue read\n",
              "Name: 0, dtype: object"
            ]
          },
          "metadata": {},
          "execution_count": 177
        }
      ]
    },
    {
      "cell_type": "code",
      "source": [
        "# Create a list of bigrams\n",
        "bigram_list = list(common_df[0])\n",
        "\n",
        "# we also need a list of our tokenized single words\n",
        "words = []\n",
        "for i in bigram_list:\n",
        "  \n",
        "  words.extend(i.split())\n",
        "\n",
        "# Create a graph\n",
        "G = nx.Graph()\n",
        "\n",
        "# Add nodes to the graph for each unique word in the bigrams\n",
        "for word in set(words):\n",
        "    G.add_node(word)\n",
        "\n",
        "# Add edges to the graph for each bigram\n",
        "for bigram in bigram_list:\n",
        "    G.add_edge(bigram[0], bigram[1])\n",
        "\n",
        "# Draw the graph\n",
        "nx.draw(G, font_size = 9, with_labels= True)\n",
        "plt.show()"
      ],
      "metadata": {
        "colab": {
          "base_uri": "https://localhost:8080/",
          "height": 767
        },
        "id": "5V1-OwtdQNG6",
        "outputId": "3229a8d0-f451-4854-d87c-e8cb94f47228"
      },
      "execution_count": 179,
      "outputs": [
        {
          "output_type": "display_data",
          "data": {
            "text/plain": [
              "<Figure size 960x720 with 1 Axes>"
            ],
            "image/png": "[encoded data removed]"
          },
          "metadata": {}
        }
      ]
    },
    {
      "cell_type": "markdown",
      "source": [
        "The network graphs shows that there are few connections among the bigrams we have received through either tfidf or common words.\n",
        "\n"
      ],
      "metadata": {
        "id": "Ai1f0N2HTYAs"
      }
    },
    {
      "cell_type": "markdown",
      "source": [
        "# Conclusion\n",
        "In this section we perform text processing on the news titles as well as the content, conduct EDA on the content we have, and used 2 keyword extraction methods to analyze important topics of the Twitter-Related news. Finally we draw network graph to visualize the relationships among the words in common bigrams and tfidf keywords bigrams. \n",
        "\n",
        "In the next section we will perform sentiment analysis and topic modeling on our news content!"
      ],
      "metadata": {
        "id": "2vEELU6RUwU_"
      }
    }
  ]
}